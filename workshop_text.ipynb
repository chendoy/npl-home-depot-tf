{
 "cells": [
  {
   "cell_type": "markdown",
   "metadata": {},
   "source": [
    "# TODO:\n",
    "- moving processing of product description into eda as a preprocess\n",
    "- adding mean_absolute_error to Word section\n",
    "- combine history graph with flat metrics for non NN models\n",
    "- make validation split consistent\n",
    "- time each model with %%time like the cell below\n",
    "- write report\n",
    "\n",
    "\n",
    "\n",
    "- (Optional) check if classification is better\n",
    "- (Optional) preprocess of  product description by bullets/ removing words with number"
   ]
  },
  {
   "cell_type": "code",
   "execution_count": 76,
   "metadata": {},
   "outputs": [
    {
     "name": "stdout",
     "output_type": "stream",
     "text": [
      "Hi\n",
      "CPU times: user 143 µs, sys: 11 µs, total: 154 µs\n",
      "Wall time: 112 µs\n"
     ]
    }
   ],
   "source": [
    "%%time\n",
    "print('Hi')"
   ]
  },
  {
   "cell_type": "raw",
   "metadata": {},
   "source": [
    "import os\n",
    "job_cancel_str=\"scancel \" + os.environ['SLURM_JOBID']\n",
    "os.system(job_cancel_str)"
   ]
  },
  {
   "cell_type": "markdown",
   "metadata": {},
   "source": [
    "# Practical Deep Learning Workshop 2021\n",
    "## Assignment 3 - Word Embeddings\n",
    " \n",
    "### Authors:\n",
    " \n",
    "1.   Chen Doytshman 205644941\n",
    "2.   Naor Kolet 205533060\n"
   ]
  },
  {
   "cell_type": "markdown",
   "metadata": {},
   "source": [
    "# 0. Imports"
   ]
  },
  {
   "cell_type": "code",
   "execution_count": 28,
   "metadata": {},
   "outputs": [],
   "source": [
    "import pandas as pd\n",
    "import numpy as np\n",
    " \n",
    "# TensorFlow\n",
    "import tensorflow as tf\n",
    "from tensorflow.keras.layers import Input, Embedding, LSTM, Concatenate\n",
    "from tensorflow.keras.layers import Dropout, Dense, Lambda, Multiply, Subtract, Flatten\n",
    "from tensorflow.keras.layers import Conv1D, MaxPooling1D, Activation, Reshape\n",
    "from tensorflow.keras.callbacks import ModelCheckpoint, EarlyStopping, ReduceLROnPlateau\n",
    "\n",
    "from tensorflow.keras.models import Model, load_model\n",
    "from tensorflow.keras.optimizers import Adam\n",
    "from tensorflow.keras.preprocessing.sequence import pad_sequences\n",
    "from tensorflow.keras.preprocessing.text import Tokenizer\n",
    "\n",
    "# Scikit-learn\n",
    "from sklearn.feature_extraction.text import CountVectorizer\n",
    "from sklearn.ensemble import RandomForestRegressor\n",
    "from sklearn.metrics import mean_squared_error, mean_absolute_error\n",
    "\n",
    "# XGBoost\n",
    "from xgboost import XGBRegressor\n",
    "\n",
    "# Plots\n",
    "import seaborn as sns\n",
    "import matplotlib.pyplot as plt\n",
    "\n",
    "# Misc.\n",
    "import os\n",
    "import joblib\n",
    "import random\n",
    "from tqdm import tqdm_notebook as tqdm\n",
    "\n",
    "SEED = 42\n",
    "%matplotlib inline"
   ]
  },
  {
   "cell_type": "code",
   "execution_count": 4,
   "metadata": {},
   "outputs": [],
   "source": [
    "pd.set_option('display.max_colwidth', 100)\n",
    "random.seed(SEED)\n",
    "np.random.seed(SEED)\n",
    "tf.random.set_seed(SEED)"
   ]
  },
  {
   "cell_type": "code",
   "execution_count": 5,
   "metadata": {},
   "outputs": [
    {
     "data": {
      "application/vnd.jupyter.widget-view+json": {
       "model_id": "830cdd99ed274eb0aacc7e92241f5195",
       "version_major": 2,
       "version_minor": 0
      },
      "text/plain": [
       "HBox(children=(IntProgress(value=1, bar_style='info', max=1), HTML(value='')))"
      ]
     },
     "metadata": {},
     "output_type": "display_data"
    },
    {
     "name": "stdout",
     "output_type": "stream",
     "text": [
      "\n"
     ]
    }
   ],
   "source": [
    "import zipfile\n",
    "DATA_DIR = 'home-depot-product-search-relevance'\n",
    "\n",
    "files = [f for f in os.listdir(DATA_DIR) if f.endswith('zip')]\n",
    "for file in tqdm(files):\n",
    "    with zipfile.ZipFile(f'{DATA_DIR}/{file}') as zf:\n",
    "        zf.extractall(DATA_DIR)\n",
    "        os.remove(f'{DATA_DIR}/{file}')"
   ]
  },
  {
   "cell_type": "markdown",
   "metadata": {},
   "source": [
    "# 0.1 Data Preparation, EDA"
   ]
  },
  {
   "cell_type": "markdown",
   "metadata": {},
   "source": [
    "Let's load the data:"
   ]
  },
  {
   "cell_type": "code",
   "execution_count": 6,
   "metadata": {},
   "outputs": [],
   "source": [
    "train_df = pd.read_csv(f'{DATA_DIR}/train.csv', index_col='id', encoding='latin-1')\n",
    "product_desc_df = pd.read_csv(f'{DATA_DIR}/product_descriptions.csv', index_col='product_uid')\n",
    "attributes_df = pd.read_csv(f'{DATA_DIR}/attributes.csv', index_col=['product_uid'], dtype={'product_uid': 'Int64'})"
   ]
  },
  {
   "cell_type": "code",
   "execution_count": 7,
   "metadata": {},
   "outputs": [],
   "source": [
    "test_path = f'{DATA_DIR}/test_labels.csv'\n",
    "if os.path.exists(test_path):\n",
    "    test_df = pd.read_csv(test_path)\n",
    "else:\n",
    "    test_df = pd.read_csv(f'{DATA_DIR}/test.csv', index_col='id', encoding='latin-1')\n",
    "    sol = pd.read_csv(f'{DATA_DIR}/solution.csv', index_col='id', encoding='latin-1')\n",
    "    test_df = test_df[sol.relevance != -1]\n",
    "    test_df = test_df.join(sol.relevance, on='id')\n",
    "    test_df.to_csv(test_path)"
   ]
  },
  {
   "cell_type": "code",
   "execution_count": 8,
   "metadata": {},
   "outputs": [
    {
     "data": {
      "text/html": [
       "<div>\n",
       "<style scoped>\n",
       "    .dataframe tbody tr th:only-of-type {\n",
       "        vertical-align: middle;\n",
       "    }\n",
       "\n",
       "    .dataframe tbody tr th {\n",
       "        vertical-align: top;\n",
       "    }\n",
       "\n",
       "    .dataframe thead th {\n",
       "        text-align: right;\n",
       "    }\n",
       "</style>\n",
       "<table border=\"1\" class=\"dataframe\">\n",
       "  <thead>\n",
       "    <tr style=\"text-align: right;\">\n",
       "      <th></th>\n",
       "      <th>product_uid</th>\n",
       "      <th>product_title</th>\n",
       "      <th>search_term</th>\n",
       "      <th>relevance</th>\n",
       "    </tr>\n",
       "    <tr>\n",
       "      <th>id</th>\n",
       "      <th></th>\n",
       "      <th></th>\n",
       "      <th></th>\n",
       "      <th></th>\n",
       "    </tr>\n",
       "  </thead>\n",
       "  <tbody>\n",
       "    <tr>\n",
       "      <th>2</th>\n",
       "      <td>100001</td>\n",
       "      <td>Simpson Strong-Tie 12-Gauge Angle</td>\n",
       "      <td>angle bracket</td>\n",
       "      <td>3.00</td>\n",
       "    </tr>\n",
       "    <tr>\n",
       "      <th>3</th>\n",
       "      <td>100001</td>\n",
       "      <td>Simpson Strong-Tie 12-Gauge Angle</td>\n",
       "      <td>l bracket</td>\n",
       "      <td>2.50</td>\n",
       "    </tr>\n",
       "    <tr>\n",
       "      <th>9</th>\n",
       "      <td>100002</td>\n",
       "      <td>BEHR Premium Textured DeckOver 1-gal. #SC-141 Tugboat Wood and Concrete Coating</td>\n",
       "      <td>deck over</td>\n",
       "      <td>3.00</td>\n",
       "    </tr>\n",
       "    <tr>\n",
       "      <th>16</th>\n",
       "      <td>100005</td>\n",
       "      <td>Delta Vero 1-Handle Shower Only Faucet Trim Kit in Chrome (Valve Not Included)</td>\n",
       "      <td>rain shower head</td>\n",
       "      <td>2.33</td>\n",
       "    </tr>\n",
       "    <tr>\n",
       "      <th>17</th>\n",
       "      <td>100005</td>\n",
       "      <td>Delta Vero 1-Handle Shower Only Faucet Trim Kit in Chrome (Valve Not Included)</td>\n",
       "      <td>shower only faucet</td>\n",
       "      <td>2.67</td>\n",
       "    </tr>\n",
       "  </tbody>\n",
       "</table>\n",
       "</div>"
      ],
      "text/plain": [
       "    product_uid  \\\n",
       "id                \n",
       "2        100001   \n",
       "3        100001   \n",
       "9        100002   \n",
       "16       100005   \n",
       "17       100005   \n",
       "\n",
       "                                                                      product_title  \\\n",
       "id                                                                                    \n",
       "2                                                 Simpson Strong-Tie 12-Gauge Angle   \n",
       "3                                                 Simpson Strong-Tie 12-Gauge Angle   \n",
       "9   BEHR Premium Textured DeckOver 1-gal. #SC-141 Tugboat Wood and Concrete Coating   \n",
       "16   Delta Vero 1-Handle Shower Only Faucet Trim Kit in Chrome (Valve Not Included)   \n",
       "17   Delta Vero 1-Handle Shower Only Faucet Trim Kit in Chrome (Valve Not Included)   \n",
       "\n",
       "           search_term  relevance  \n",
       "id                                 \n",
       "2        angle bracket       3.00  \n",
       "3            l bracket       2.50  \n",
       "9            deck over       3.00  \n",
       "16    rain shower head       2.33  \n",
       "17  shower only faucet       2.67  "
      ]
     },
     "execution_count": 8,
     "metadata": {},
     "output_type": "execute_result"
    }
   ],
   "source": [
    "train_df.head()"
   ]
  },
  {
   "cell_type": "code",
   "execution_count": 9,
   "metadata": {},
   "outputs": [
    {
     "data": {
      "image/png": "[encoded data removed]",
      "text/plain": [
       "<Figure size 720x432 with 1 Axes>"
      ]
     },
     "metadata": {
      "needs_background": "light"
     },
     "output_type": "display_data"
    }
   ],
   "source": [
    "plt.figure(figsize=(10,6))\n",
    "ax = sns.countplot(data=train_df, x=\"relevance\")\n",
    "\n",
    "relevance_values = train_df[\"relevance\"].value_counts().sort_index()\n",
    "\n",
    "for p, label in zip(ax.patches, relevance_values):\n",
    "    ax.annotate(label, (p.get_x(), p.get_height()+0.5))"
   ]
  },
  {
   "cell_type": "code",
   "execution_count": 10,
   "metadata": {},
   "outputs": [
    {
     "data": {
      "text/html": [
       "<div>\n",
       "<style scoped>\n",
       "    .dataframe tbody tr th:only-of-type {\n",
       "        vertical-align: middle;\n",
       "    }\n",
       "\n",
       "    .dataframe tbody tr th {\n",
       "        vertical-align: top;\n",
       "    }\n",
       "\n",
       "    .dataframe thead th {\n",
       "        text-align: right;\n",
       "    }\n",
       "</style>\n",
       "<table border=\"1\" class=\"dataframe\">\n",
       "  <thead>\n",
       "    <tr style=\"text-align: right;\">\n",
       "      <th></th>\n",
       "      <th>product_description</th>\n",
       "    </tr>\n",
       "    <tr>\n",
       "      <th>product_uid</th>\n",
       "      <th></th>\n",
       "    </tr>\n",
       "  </thead>\n",
       "  <tbody>\n",
       "    <tr>\n",
       "      <th>100001</th>\n",
       "      <td>Not only do angles make joints stronger, they also provide more consistent, straight corners. Si...</td>\n",
       "    </tr>\n",
       "    <tr>\n",
       "      <th>100002</th>\n",
       "      <td>BEHR Premium Textured DECKOVER is an innovative solid color coating. It will bring your old, wea...</td>\n",
       "    </tr>\n",
       "    <tr>\n",
       "      <th>100003</th>\n",
       "      <td>Classic architecture meets contemporary design in the Ensemble Curve series, made of solid Vikre...</td>\n",
       "    </tr>\n",
       "    <tr>\n",
       "      <th>100004</th>\n",
       "      <td>The Grape Solar 265-Watt Polycrystalline PV Solar Panel bonus pack bundles 4 Grape Solar 265-Wat...</td>\n",
       "    </tr>\n",
       "    <tr>\n",
       "      <th>100005</th>\n",
       "      <td>Update your bathroom with the Delta Vero Single-Handle Shower Faucet Trim Kit in Chrome. It has ...</td>\n",
       "    </tr>\n",
       "  </tbody>\n",
       "</table>\n",
       "</div>"
      ],
      "text/plain": [
       "                                                                                             product_description\n",
       "product_uid                                                                                                     \n",
       "100001       Not only do angles make joints stronger, they also provide more consistent, straight corners. Si...\n",
       "100002       BEHR Premium Textured DECKOVER is an innovative solid color coating. It will bring your old, wea...\n",
       "100003       Classic architecture meets contemporary design in the Ensemble Curve series, made of solid Vikre...\n",
       "100004       The Grape Solar 265-Watt Polycrystalline PV Solar Panel bonus pack bundles 4 Grape Solar 265-Wat...\n",
       "100005       Update your bathroom with the Delta Vero Single-Handle Shower Faucet Trim Kit in Chrome. It has ..."
      ]
     },
     "execution_count": 10,
     "metadata": {},
     "output_type": "execute_result"
    }
   ],
   "source": [
    "product_desc_df.head()"
   ]
  },
  {
   "cell_type": "code",
   "execution_count": 11,
   "metadata": {},
   "outputs": [
    {
     "data": {
      "text/plain": [
       "'Not only do angles make joints stronger, they also provide more consistent, straight corners. Simpson Strong-Tie offers a wide variety of angles in various sizes and thicknesses to handle light-duty jobs or projects where a structural connection is needed. Some can be bent (skewed) to match the project. For outdoor projects or those where moisture is present, use our ZMAX zinc-coated connectors, which provide extra resistance against corrosion (look for a \"Z\" at the end of the model number).Versatile connector for various 90 connections and home repair projectsStronger than angled nailing or screw fastening aloneHelp ensure joints are consistently straight and strongDimensions: 3 in. x 3 in. x 1-1/2 in.Made from 12-Gauge steelGalvanized for extra corrosion resistanceInstall with 10d common nails or #9 x 1-1/2 in. Strong-Drive SD screws'"
      ]
     },
     "execution_count": 11,
     "metadata": {},
     "output_type": "execute_result"
    }
   ],
   "source": [
    "product_desc_df.iloc[0, 0]"
   ]
  },
  {
   "cell_type": "code",
   "execution_count": 12,
   "metadata": {},
   "outputs": [
    {
     "data": {
      "text/html": [
       "<div>\n",
       "<style scoped>\n",
       "    .dataframe tbody tr th:only-of-type {\n",
       "        vertical-align: middle;\n",
       "    }\n",
       "\n",
       "    .dataframe tbody tr th {\n",
       "        vertical-align: top;\n",
       "    }\n",
       "\n",
       "    .dataframe thead th {\n",
       "        text-align: right;\n",
       "    }\n",
       "</style>\n",
       "<table border=\"1\" class=\"dataframe\">\n",
       "  <thead>\n",
       "    <tr style=\"text-align: right;\">\n",
       "      <th></th>\n",
       "      <th>name</th>\n",
       "      <th>value</th>\n",
       "    </tr>\n",
       "    <tr>\n",
       "      <th>product_uid</th>\n",
       "      <th></th>\n",
       "      <th></th>\n",
       "    </tr>\n",
       "  </thead>\n",
       "  <tbody>\n",
       "    <tr>\n",
       "      <th>100001</th>\n",
       "      <td>Bullet01</td>\n",
       "      <td>Versatile connector for various 90° connections and home repair projects</td>\n",
       "    </tr>\n",
       "    <tr>\n",
       "      <th>100001</th>\n",
       "      <td>Bullet02</td>\n",
       "      <td>Stronger than angled nailing or screw fastening alone</td>\n",
       "    </tr>\n",
       "    <tr>\n",
       "      <th>100001</th>\n",
       "      <td>Bullet03</td>\n",
       "      <td>Help ensure joints are consistently straight and strong</td>\n",
       "    </tr>\n",
       "    <tr>\n",
       "      <th>100001</th>\n",
       "      <td>Bullet04</td>\n",
       "      <td>Dimensions: 3 in. x 3 in. x 1-1/2 in.</td>\n",
       "    </tr>\n",
       "    <tr>\n",
       "      <th>100001</th>\n",
       "      <td>Bullet05</td>\n",
       "      <td>Made from 12-Gauge steel</td>\n",
       "    </tr>\n",
       "    <tr>\n",
       "      <th>100001</th>\n",
       "      <td>Bullet06</td>\n",
       "      <td>Galvanized for extra corrosion resistance</td>\n",
       "    </tr>\n",
       "    <tr>\n",
       "      <th>100001</th>\n",
       "      <td>Bullet07</td>\n",
       "      <td>Install with 10d common nails or #9 x 1-1/2 in. Strong-Drive SD screws</td>\n",
       "    </tr>\n",
       "    <tr>\n",
       "      <th>100001</th>\n",
       "      <td>Gauge</td>\n",
       "      <td>12</td>\n",
       "    </tr>\n",
       "    <tr>\n",
       "      <th>100001</th>\n",
       "      <td>Material</td>\n",
       "      <td>Galvanized Steel</td>\n",
       "    </tr>\n",
       "    <tr>\n",
       "      <th>100001</th>\n",
       "      <td>MFG Brand Name</td>\n",
       "      <td>Simpson Strong-Tie</td>\n",
       "    </tr>\n",
       "    <tr>\n",
       "      <th>100001</th>\n",
       "      <td>Number of Pieces</td>\n",
       "      <td>1</td>\n",
       "    </tr>\n",
       "    <tr>\n",
       "      <th>100001</th>\n",
       "      <td>Product Depth (in.)</td>\n",
       "      <td>1.5</td>\n",
       "    </tr>\n",
       "    <tr>\n",
       "      <th>100001</th>\n",
       "      <td>Product Height (in.)</td>\n",
       "      <td>3</td>\n",
       "    </tr>\n",
       "    <tr>\n",
       "      <th>100001</th>\n",
       "      <td>Product Weight (lb.)</td>\n",
       "      <td>0.26</td>\n",
       "    </tr>\n",
       "    <tr>\n",
       "      <th>100001</th>\n",
       "      <td>Product Width (in.)</td>\n",
       "      <td>3</td>\n",
       "    </tr>\n",
       "  </tbody>\n",
       "</table>\n",
       "</div>"
      ],
      "text/plain": [
       "                             name  \\\n",
       "product_uid                         \n",
       "100001                   Bullet01   \n",
       "100001                   Bullet02   \n",
       "100001                   Bullet03   \n",
       "100001                   Bullet04   \n",
       "100001                   Bullet05   \n",
       "100001                   Bullet06   \n",
       "100001                   Bullet07   \n",
       "100001                      Gauge   \n",
       "100001                   Material   \n",
       "100001             MFG Brand Name   \n",
       "100001           Number of Pieces   \n",
       "100001        Product Depth (in.)   \n",
       "100001       Product Height (in.)   \n",
       "100001       Product Weight (lb.)   \n",
       "100001        Product Width (in.)   \n",
       "\n",
       "                                                                                value  \n",
       "product_uid                                                                            \n",
       "100001       Versatile connector for various 90° connections and home repair projects  \n",
       "100001                          Stronger than angled nailing or screw fastening alone  \n",
       "100001                        Help ensure joints are consistently straight and strong  \n",
       "100001                                          Dimensions: 3 in. x 3 in. x 1-1/2 in.  \n",
       "100001                                                       Made from 12-Gauge steel  \n",
       "100001                                      Galvanized for extra corrosion resistance  \n",
       "100001         Install with 10d common nails or #9 x 1-1/2 in. Strong-Drive SD screws  \n",
       "100001                                                                             12  \n",
       "100001                                                               Galvanized Steel  \n",
       "100001                                                             Simpson Strong-Tie  \n",
       "100001                                                                              1  \n",
       "100001                                                                            1.5  \n",
       "100001                                                                              3  \n",
       "100001                                                                           0.26  \n",
       "100001                                                                              3  "
      ]
     },
     "execution_count": 12,
     "metadata": {},
     "output_type": "execute_result"
    }
   ],
   "source": [
    "attributes_df[attributes_df.index.isin([100001])]"
   ]
  },
  {
   "cell_type": "markdown",
   "metadata": {},
   "source": [
    "def concat_attr(record):\n",
    "    name, value = record\n",
    "    name = f'{name} ' if not name.startswith('Bullet') else '' # Delete name if it's a \"Bullet..\"\n",
    "    return f'{name}{value} ;'\n",
    "\n",
    "product_groups = attributes_df.groupby('product_uid')\n",
    "for product_uid, df in product_groups:\n",
    "    joined_attrs = ' '.join(map(concat_attr, df.values))\n",
    "    product_desc_df.loc[product_uid, 'concat_desc'] = joined_attrs"
   ]
  },
  {
   "cell_type": "markdown",
   "metadata": {},
   "source": [
    "product_desc_df"
   ]
  },
  {
   "cell_type": "markdown",
   "metadata": {},
   "source": [
    "TODO: explain the connection between description and attributes"
   ]
  },
  {
   "cell_type": "markdown",
   "metadata": {},
   "source": [
    "# Preprocessing"
   ]
  },
  {
   "cell_type": "code",
   "execution_count": 14,
   "metadata": {},
   "outputs": [],
   "source": [
    "def join_desc(df):\n",
    "    df = df.join(product_desc_df['product_description'], on='product_uid')\n",
    "    df['product_description'] = df['product_title'] + ' : ' + df['product_description']\n",
    "    df = df[['product_uid', 'search_term', 'product_description', 'relevance']]\n",
    "    return df\n",
    "\n",
    "train_df = join_desc(train_df)\n",
    "test_df = join_desc(test_df)"
   ]
  },
  {
   "cell_type": "markdown",
   "metadata": {},
   "source": [
    "TODO: explain the replacement of items' description column"
   ]
  },
  {
   "cell_type": "markdown",
   "metadata": {},
   "source": [
    "# 1. Character level LSTM\n",
    "\n",
    "## Using character level processing to predict search relevance"
   ]
  },
  {
   "cell_type": "markdown",
   "metadata": {},
   "source": [
    "### a. Preprocess the data to contain sequences of single characters"
   ]
  },
  {
   "cell_type": "code",
   "execution_count": 13,
   "metadata": {},
   "outputs": [],
   "source": [
    "def tokenize_serie(serie):\n",
    "    serie = pd.Series(map(lambda x: list(map(ord, list(x))), serie.values), index=serie.index)\n",
    "    max_len = min(serie.apply(len).max(), 1500)\n",
    "    return pad_sequences(serie, max_len, padding='post')"
   ]
  },
  {
   "cell_type": "code",
   "execution_count": 15,
   "metadata": {},
   "outputs": [],
   "source": [
    "def split_x_y(df):\n",
    "    search_term = tokenize_serie(df['search_term'])\n",
    "    description = tokenize_serie(df['product_description'])\n",
    "    \n",
    "    search_term, description = map(lambda x: np.expand_dims(x,axis=2), [search_term, description])\n",
    "    return (search_term, description), df['relevance'].values"
   ]
  },
  {
   "cell_type": "code",
   "execution_count": 16,
   "metadata": {},
   "outputs": [],
   "source": [
    "train_x_char, train_y_char = split_x_y(train_df)\n",
    "test_x_char, test_y_char = split_x_y(test_df)"
   ]
  },
  {
   "cell_type": "markdown",
   "metadata": {},
   "source": [
    "### b. Constructing a Siamese network"
   ]
  },
  {
   "cell_type": "markdown",
   "metadata": {},
   "source": [
    "https://github.com/prabhnoor0212/Siamese-Network-Text-Similarity"
   ]
  },
  {
   "cell_type": "markdown",
   "metadata": {},
   "source": [
    "TODO: Remove extra functions"
   ]
  },
  {
   "cell_type": "code",
   "execution_count": 17,
   "metadata": {},
   "outputs": [],
   "source": [
    "from tensorflow.keras import backend as K\n",
    "\n",
    "def cosine_distance(vests):\n",
    "    x, y = vests\n",
    "    x = K.l2_normalize(x, axis=-1)\n",
    "    y = K.l2_normalize(y, axis=-1)\n",
    "    return -K.mean(x * y, axis=-1, keepdims=True)\n",
    "\n",
    "def cos_dist_output_shape(shapes):\n",
    "    shape1, shape2 = shapes\n",
    "    return (shape1[0],1)\n",
    "\n",
    "def root_mean_squared_error(y_true, y_pred):\n",
    "        return K.sqrt(K.mean(K.square(y_pred - y_true))) \n"
   ]
  },
  {
   "cell_type": "code",
   "execution_count": 18,
   "metadata": {},
   "outputs": [],
   "source": [
    "from sklearn.metrics import roc_auc_score\n",
    "\n",
    "def auroc(y_true, y_pred):\n",
    "    return tf.py_function(roc_auc_score, (y_true, y_pred), tf.double)"
   ]
  },
  {
   "cell_type": "code",
   "execution_count": 19,
   "metadata": {},
   "outputs": [],
   "source": [
    "sm = 0\n",
    "\n",
    "def common_model(length):\n",
    "    global sm\n",
    "    inp = Input(shape=(length, 1))\n",
    "    X = Conv1D(64, 10, activation='relu')(inp)\n",
    "    X = MaxPooling1D()(X)\n",
    "    X = Flatten()(X)\n",
    "    X = Activation('relu')(X)\n",
    "    X = Dense(128, activation='relu')(X)\n",
    "    \n",
    "    sm += 1\n",
    "    return Model(inp, X, name=f'siamese_model_{sm}')"
   ]
  },
  {
   "cell_type": "code",
   "execution_count": 20,
   "metadata": {},
   "outputs": [
    {
     "name": "stdout",
     "output_type": "stream",
     "text": [
      "Model: \"siamese_model_1\"\n",
      "_________________________________________________________________\n",
      "Layer (type)                 Output Shape              Param #   \n",
      "=================================================================\n",
      "input_1 (InputLayer)         [(None, 128, 1)]          0         \n",
      "_________________________________________________________________\n",
      "conv1d (Conv1D)              (None, 119, 64)           704       \n",
      "_________________________________________________________________\n",
      "max_pooling1d (MaxPooling1D) (None, 59, 64)            0         \n",
      "_________________________________________________________________\n",
      "flatten (Flatten)            (None, 3776)              0         \n",
      "_________________________________________________________________\n",
      "activation (Activation)      (None, 3776)              0         \n",
      "_________________________________________________________________\n",
      "dense (Dense)                (None, 128)               483456    \n",
      "=================================================================\n",
      "Total params: 484,160\n",
      "Trainable params: 484,160\n",
      "Non-trainable params: 0\n",
      "_________________________________________________________________\n"
     ]
    }
   ],
   "source": [
    "common_model(128).summary()"
   ]
  },
  {
   "cell_type": "code",
   "execution_count": 66,
   "metadata": {},
   "outputs": [],
   "source": [
    "def init_siamese_model(search_term_len, product_description_len, output_shape=1):\n",
    "    input_1 = Input(shape=(search_term_len, 1))\n",
    "    input_2 = Input(shape=(product_description_len, 1))\n",
    "    \n",
    "    lstm_1 = LSTM(128)(input_1)\n",
    "    lstm_2 = LSTM(128)(input_2)\n",
    "    \n",
    "    expand_layer = Lambda(lambda tensor: tensor[...,np.newaxis],name=\"expand_dim_layer\")\n",
    "    \n",
    "    expended_1 = expand_layer(lstm_1)\n",
    "    expended_2 = expand_layer(lstm_2)\n",
    "    \n",
    "    sm = common_model(128)\n",
    "\n",
    "    vector_1 = sm(expended_1)\n",
    "    \n",
    "    vector_2 = sm(expended_2)\n",
    "    \n",
    "    x3 = Subtract()([vector_1, vector_2])\n",
    "    x3 = Multiply()([x3, x3])\n",
    "\n",
    "    x1_ = Multiply()([vector_1, vector_1])\n",
    "    x2_ = Multiply()([vector_2, vector_2])\n",
    "    x4 = Subtract()([x1_, x2_])\n",
    "    \n",
    "    x5 = Lambda(cosine_distance, output_shape=cos_dist_output_shape)([vector_1, vector_2])\n",
    "\n",
    "    conc = Concatenate(axis=-1)([x5,x4, x3])\n",
    "\n",
    "    x = Dense(100, activation=\"relu\")(conc)\n",
    "    x = Dropout(0.01)(x)\n",
    "    out = Dense(output_shape, activation=\"relu\", name = 'out')(x)\n",
    "\n",
    "    model = Model([input_1, input_2], out)\n",
    "\n",
    "    model.compile(loss='mse', metrics=['mae'], optimizer=Adam())\n",
    "    \n",
    "    return model"
   ]
  },
  {
   "cell_type": "code",
   "execution_count": 67,
   "metadata": {},
   "outputs": [
    {
     "name": "stdout",
     "output_type": "stream",
     "text": [
      "Model: \"model_5\"\n",
      "__________________________________________________________________________________________________\n",
      "Layer (type)                    Output Shape         Param #     Connected to                     \n",
      "==================================================================================================\n",
      "input_14 (InputLayer)           [(None, 60, 1)]      0                                            \n",
      "__________________________________________________________________________________________________\n",
      "input_15 (InputLayer)           [(None, 1500, 1)]    0                                            \n",
      "__________________________________________________________________________________________________\n",
      "lstm_8 (LSTM)                   (None, 128)          66560       input_14[0][0]                   \n",
      "__________________________________________________________________________________________________\n",
      "lstm_9 (LSTM)                   (None, 128)          66560       input_15[0][0]                   \n",
      "__________________________________________________________________________________________________\n",
      "expand_dim_layer (Lambda)       (None, 128, 1)       0           lstm_8[0][0]                     \n",
      "                                                                 lstm_9[0][0]                     \n",
      "__________________________________________________________________________________________________\n",
      "siamese_model_6 (Model)         (None, 128)          484160      expand_dim_layer[0][0]           \n",
      "                                                                 expand_dim_layer[1][0]           \n",
      "__________________________________________________________________________________________________\n",
      "multiply_13 (Multiply)          (None, 128)          0           siamese_model_6[1][0]            \n",
      "                                                                 siamese_model_6[1][0]            \n",
      "__________________________________________________________________________________________________\n",
      "multiply_14 (Multiply)          (None, 128)          0           siamese_model_6[2][0]            \n",
      "                                                                 siamese_model_6[2][0]            \n",
      "__________________________________________________________________________________________________\n",
      "subtract_8 (Subtract)           (None, 128)          0           siamese_model_6[1][0]            \n",
      "                                                                 siamese_model_6[2][0]            \n",
      "__________________________________________________________________________________________________\n",
      "lambda_4 (Lambda)               (None, 1)            0           siamese_model_6[1][0]            \n",
      "                                                                 siamese_model_6[2][0]            \n",
      "__________________________________________________________________________________________________\n",
      "subtract_9 (Subtract)           (None, 128)          0           multiply_13[0][0]                \n",
      "                                                                 multiply_14[0][0]                \n",
      "__________________________________________________________________________________________________\n",
      "multiply_12 (Multiply)          (None, 128)          0           subtract_8[0][0]                 \n",
      "                                                                 subtract_8[0][0]                 \n",
      "__________________________________________________________________________________________________\n",
      "concatenate_4 (Concatenate)     (None, 257)          0           lambda_4[0][0]                   \n",
      "                                                                 subtract_9[0][0]                 \n",
      "                                                                 multiply_12[0][0]                \n",
      "__________________________________________________________________________________________________\n",
      "dense_10 (Dense)                (None, 100)          25800       concatenate_4[0][0]              \n",
      "__________________________________________________________________________________________________\n",
      "dropout_4 (Dropout)             (None, 100)          0           dense_10[0][0]                   \n",
      "__________________________________________________________________________________________________\n",
      "out (Dense)                     (None, 1)            101         dropout_4[0][0]                  \n",
      "==================================================================================================\n",
      "Total params: 643,181\n",
      "Trainable params: 643,181\n",
      "Non-trainable params: 0\n",
      "__________________________________________________________________________________________________\n"
     ]
    }
   ],
   "source": [
    "init_siamese_model(train_x_char[0].shape[1],train_x_char[1].shape[1]).summary()"
   ]
  },
  {
   "cell_type": "markdown",
   "metadata": {},
   "source": [
    "#### Training framework"
   ]
  },
  {
   "cell_type": "code",
   "execution_count": 68,
   "metadata": {},
   "outputs": [],
   "source": [
    "def get_callbacks(model_name):\n",
    "    acc = 'val_loss'\n",
    "    acc_mode = 'min'\n",
    "    \n",
    "    checkpoint = ModelCheckpoint(\n",
    "                              fr'./models/{model_name}.h5', \n",
    "                              monitor=acc, \n",
    "#                               verbose=1, \n",
    "                              save_best_only=True, \n",
    "                              mode=acc_mode)\n",
    "    earlystop = EarlyStopping(monitor=acc, mode=acc_mode, verbose=1, patience=4)\n",
    "    reduceLR = ReduceLROnPlateau(monitor = 'val_loss', mode = 'min', patience = 3,\n",
    "                            factor = 0.5, min_lr = 1e-6, verbose = 1)\n",
    "\n",
    "    return [checkpoint, reduceLR, earlystop]"
   ]
  },
  {
   "cell_type": "code",
   "execution_count": 72,
   "metadata": {},
   "outputs": [],
   "source": [
    "def visualize_perf(history):\n",
    "    fig, ax = plt.subplots(ncols=2, figsize=(5*2,5))\n",
    "    fig.suptitle(f'Model performance over epochs')\n",
    "    \n",
    "    for k in ['loss', 'val_loss']:\n",
    "        ax[0].plot(history[k])\n",
    "        \n",
    "    ax[0].legend(['train_mse', 'val_mse'])\n",
    "    ax[0].margins(0.01)\n",
    "    ax[0].set_title('mse')\n",
    "    \n",
    "    for k in ['mae', 'val_mae']:\n",
    "        ax[1].plot(history[k])\n",
    "        \n",
    "    ax[1].legend(['train_mae', 'val_mae'])\n",
    "    ax[1].margins(0.01)\n",
    "    ax[1].set_title('mae')\n",
    "    \n",
    "    plt.show()\n"
   ]
  },
  {
   "cell_type": "code",
   "execution_count": 70,
   "metadata": {},
   "outputs": [],
   "source": [
    "def train_model(model_gen, train_data, batch_size=128, use_saved=False):\n",
    "    os.makedirs('./models', exist_ok=True)\n",
    "    model_name = model_gen.__name__[5:]\n",
    "        \n",
    "    if use_saved:\n",
    "        history = joblib.load(fr'./models/{model_name}_history.sav')\n",
    "    else:\n",
    "        callbacks = get_callbacks(model_name)\n",
    "        \n",
    "        (train_st, train_desc), train_rel = train_data\n",
    "        model = model_gen(train_st.shape[1],train_desc.shape[1])\n",
    "        history = model.fit(\n",
    "                            x=[train_st, train_desc],\n",
    "                            y=train_rel,\n",
    "                            batch_size=batch_size,\n",
    "                            epochs=20,\n",
    "                            validation_split=0.2,\n",
    "                            callbacks=callbacks\n",
    "                            )\n",
    "        \n",
    "        history = history.history\n",
    "        joblib.dump(history, fr'./models/{model_name}_history.sav')\n",
    "    \n",
    "    model = load_model(fr'./models/{model_name}.h5')\n",
    "    \n",
    "    return model, history"
   ]
  },
  {
   "cell_type": "code",
   "execution_count": 71,
   "metadata": {},
   "outputs": [
    {
     "name": "stdout",
     "output_type": "stream",
     "text": [
      "Epoch 1/20\n",
      "463/463 [==============================] - 36s 78ms/step - loss: 0.4445 - mae: 0.5029 - val_loss: 0.2889 - val_mae: 0.4205 - lr: 0.0010\n",
      "Epoch 2/20\n",
      "463/463 [==============================] - 36s 79ms/step - loss: 0.2907 - mae: 0.4425 - val_loss: 0.3100 - val_mae: 0.4421 - lr: 0.0010\n",
      "Epoch 3/20\n",
      "463/463 [==============================] - 37s 79ms/step - loss: 0.2917 - mae: 0.4435 - val_loss: 0.3698 - val_mae: 0.4818 - lr: 0.0010\n",
      "Epoch 4/20\n",
      "463/463 [==============================] - ETA: 0s - loss: 0.2852 - mae: 0.4384\n",
      "Epoch 00004: ReduceLROnPlateau reducing learning rate to 0.0005000000237487257.\n",
      "463/463 [==============================] - 37s 80ms/step - loss: 0.2852 - mae: 0.4384 - val_loss: 0.2909 - val_mae: 0.4287 - lr: 0.0010\n",
      "Epoch 5/20\n",
      "463/463 [==============================] - 36s 78ms/step - loss: 0.2794 - mae: 0.4338 - val_loss: 0.2836 - val_mae: 0.4256 - lr: 5.0000e-04\n",
      "Epoch 6/20\n",
      "463/463 [==============================] - 37s 79ms/step - loss: 0.2788 - mae: 0.4333 - val_loss: 0.3081 - val_mae: 0.4380 - lr: 5.0000e-04\n",
      "Epoch 7/20\n",
      "463/463 [==============================] - 37s 80ms/step - loss: 0.2775 - mae: 0.4323 - val_loss: 0.3001 - val_mae: 0.4337 - lr: 5.0000e-04\n",
      "Epoch 8/20\n",
      "463/463 [==============================] - ETA: 0s - loss: 0.2782 - mae: 0.4328\n",
      "Epoch 00008: ReduceLROnPlateau reducing learning rate to 0.0002500000118743628.\n",
      "463/463 [==============================] - 37s 80ms/step - loss: 0.2782 - mae: 0.4328 - val_loss: 0.2944 - val_mae: 0.4274 - lr: 5.0000e-04\n",
      "Epoch 9/20\n",
      "463/463 [==============================] - 37s 80ms/step - loss: 0.2751 - mae: 0.4307 - val_loss: 0.2969 - val_mae: 0.4289 - lr: 2.5000e-04\n",
      "Epoch 00009: early stopping\n"
     ]
    }
   ],
   "source": [
    "char_model, char_history = train_model(init_siamese_model, (train_x_char, train_y_char), use_saved=False)"
   ]
  },
  {
   "cell_type": "code",
   "execution_count": 73,
   "metadata": {},
   "outputs": [
    {
     "data": {
      "image/png": "[encoded data removed]",
      "text/plain": [
       "<Figure size 720x360 with 2 Axes>"
      ]
     },
     "metadata": {
      "needs_background": "light"
     },
     "output_type": "display_data"
    }
   ],
   "source": [
    "visualize_perf(char_history)"
   ]
  },
  {
   "cell_type": "code",
   "execution_count": 31,
   "metadata": {},
   "outputs": [],
   "source": [
    "test_preds_char = char_model.predict(test_x_char)"
   ]
  },
  {
   "cell_type": "code",
   "execution_count": 32,
   "metadata": {},
   "outputs": [
    {
     "name": "stdout",
     "output_type": "stream",
     "text": [
      "MSE loss on test set: 0.2924\n"
     ]
    }
   ],
   "source": [
    "mse = mean_squared_error(test_preds_char, test_y_char)\n",
    "print(f'MSE loss on test set: {mse:.4f}')"
   ]
  },
  {
   "cell_type": "code",
   "execution_count": 33,
   "metadata": {},
   "outputs": [
    {
     "name": "stdout",
     "output_type": "stream",
     "text": [
      "MAE loss on test set: 0.2924\n"
     ]
    }
   ],
   "source": [
    "mae = mean_absolute_error(test_preds_char, test_y_char)\n",
    "print(f'MAE loss on test set: {mse:.4f}')"
   ]
  },
  {
   "cell_type": "markdown",
   "metadata": {},
   "source": [
    "### c. Naïve model-based benchmark with ```CountVectorizer```"
   ]
  },
  {
   "cell_type": "markdown",
   "metadata": {},
   "source": [
    "TODO: MARKDOWN"
   ]
  },
  {
   "cell_type": "markdown",
   "metadata": {},
   "source": [
    "#### Preprocessing"
   ]
  },
  {
   "cell_type": "code",
   "execution_count": 36,
   "metadata": {},
   "outputs": [
    {
     "name": "stdout",
     "output_type": "stream",
     "text": [
      "[' ', '!', '\"', '#', '$', '%', '&', \"'\", '(', ')', '*', '+', ',', '-', '.', '/', '0', '1', '2', '3', '4', '5', '6', '7', '8', '9', ':', ';', '<', '=', '>', '?', '@', '[', '\\\\', ']', '^', '_', '`', 'a', 'b', 'c', 'd', 'e', 'f', 'g', 'h', 'i', 'j', 'k', 'l', 'm', 'n', 'o', 'p', 'q', 'r', 's', 't', 'u', 'v', 'w', 'x', 'y', 'z', '{', '}', '~', '\\x89', '\\x90', '\\x95', '¡', '¢', 'ª', 'à', 'ã', 'å', 'è', 'ê', 'ò', '÷', 'û', 'ü']\n"
     ]
    }
   ],
   "source": [
    "desc_series = train_df['product_description']\n",
    "search_term_series = train_df['search_term']\n",
    "desc_st = pd.concat([desc_series, search_term_series])\n",
    "corpus = desc_st.values\n",
    "vectorizer = CountVectorizer(analyzer='char')\n",
    "vectorizer.fit(corpus)\n",
    "print(vectorizer.get_feature_names())"
   ]
  },
  {
   "cell_type": "code",
   "execution_count": 39,
   "metadata": {},
   "outputs": [],
   "source": [
    "def prepare_data_naive(df):\n",
    "    desc_series = df['product_description']\n",
    "    search_term_series = df['search_term']\n",
    "    counts_desc = vectorizer.transform(desc_series).toarray()\n",
    "    counts_st = vectorizer.transform(search_term_series).toarray()\n",
    "    X = np.concatenate([counts_desc, counts_st], axis=1)\n",
    "    Y = df['relevance'].values\n",
    "    return X, Y"
   ]
  },
  {
   "cell_type": "code",
   "execution_count": 40,
   "metadata": {},
   "outputs": [],
   "source": [
    "train_x_charvec, train_y_charvec = prepare_data_naive(train_df)\n",
    "test_x_charvec, test_y_charvec = prepare_data_naive(test_df)"
   ]
  },
  {
   "cell_type": "code",
   "execution_count": 42,
   "metadata": {},
   "outputs": [],
   "source": [
    "use_saved = False\n",
    "rfr_path = 'models/rfr.sav'\n",
    "\n",
    "if use_saved:\n",
    "    rfr = joblib.load(rfr_path)\n",
    "else:\n",
    "    rfr = RandomForestRegressor(random_state=SEED, verbose=0, n_jobs=-1)\n",
    "    rfr.fit(train_x_charvec, train_y_charvec)\n",
    "    joblib.dump(rfr, rfr_path)"
   ]
  },
  {
   "cell_type": "code",
   "execution_count": 43,
   "metadata": {},
   "outputs": [
    {
     "name": "stdout",
     "output_type": "stream",
     "text": [
      "Got score of 0.8790 according to the random forest score function on the train\n"
     ]
    }
   ],
   "source": [
    "train_score = rfr.score(train_x_charvec, train_y_charvec)\n",
    "print(f'Got score of {train_score:.4f} according to the random forest score function on the train')"
   ]
  },
  {
   "cell_type": "code",
   "execution_count": 44,
   "metadata": {},
   "outputs": [
    {
     "name": "stdout",
     "output_type": "stream",
     "text": [
      "Got score of 0.0505 according to the random forest score function on the test\n"
     ]
    }
   ],
   "source": [
    "test_score = rfr.score(test_x_charvec, test_y_charvec)\n",
    "print(f'Got score of {test_score:.4f} according to the random forest score function on the test')"
   ]
  },
  {
   "cell_type": "code",
   "execution_count": 45,
   "metadata": {},
   "outputs": [],
   "source": [
    "train_y_pred = rfr.predict(train_x_charvec)"
   ]
  },
  {
   "cell_type": "code",
   "execution_count": 46,
   "metadata": {},
   "outputs": [
    {
     "name": "stdout",
     "output_type": "stream",
     "text": [
      "Got MSE of 0.0345 on the train\n"
     ]
    }
   ],
   "source": [
    "train_mse = mean_squared_error(train_y_charvec, train_y_pred)\n",
    "print(f'Got MSE of {train_mse:.4f} on the train')"
   ]
  },
  {
   "cell_type": "code",
   "execution_count": 52,
   "metadata": {},
   "outputs": [
    {
     "name": "stdout",
     "output_type": "stream",
     "text": [
      "Got MAE of 0.1493 on the train\n"
     ]
    }
   ],
   "source": [
    "train_mae = mean_absolute_error(train_y_charvec, train_y_pred)\n",
    "print(f'Got MAE of {train_mae:.4f} on the train')"
   ]
  },
  {
   "cell_type": "code",
   "execution_count": 48,
   "metadata": {},
   "outputs": [],
   "source": [
    "test_y_pred = rfr.predict(test_x_charvec)"
   ]
  },
  {
   "cell_type": "code",
   "execution_count": 49,
   "metadata": {},
   "outputs": [
    {
     "name": "stdout",
     "output_type": "stream",
     "text": [
      "Got MSE of 0.2721 on the test\n"
     ]
    }
   ],
   "source": [
    "test_mse = mean_squared_error(test_y_charvec, test_y_pred)\n",
    "print(f'Got MSE of {test_mse:.4f} on the test')"
   ]
  },
  {
   "cell_type": "code",
   "execution_count": 51,
   "metadata": {},
   "outputs": [
    {
     "name": "stdout",
     "output_type": "stream",
     "text": [
      "Got MAE of 0.4266 on the test\n"
     ]
    }
   ],
   "source": [
    "test_mae = mean_absolute_error(test_y_charvec, test_y_pred)\n",
    "print(f'Got MAE of {test_mae:.4f} on the test')"
   ]
  },
  {
   "cell_type": "markdown",
   "metadata": {},
   "source": [
    "### d. Using our model as a feature extractor"
   ]
  },
  {
   "cell_type": "code",
   "execution_count": 53,
   "metadata": {},
   "outputs": [],
   "source": [
    "fe_char_model = Model(char_model.input, char_model.layers[-3].output)"
   ]
  },
  {
   "cell_type": "code",
   "execution_count": 57,
   "metadata": {},
   "outputs": [],
   "source": [
    "train_features = fe_char_model.predict(train_x_char)"
   ]
  },
  {
   "cell_type": "code",
   "execution_count": 58,
   "metadata": {},
   "outputs": [
    {
     "name": "stdout",
     "output_type": "stream",
     "text": [
      "training xgb\n",
      "training rfr\n"
     ]
    }
   ],
   "source": [
    "use_saved = False\n",
    "\n",
    "fe_rfr_path = 'models/fe_char_rfr.sav'\n",
    "fe_xgb_path = 'models/fe_char_xgb.sav'\n",
    "\n",
    "if use_saved:\n",
    "    rfr_model = joblib.load(fe_rfr_path)\n",
    "    xgb_model = joblib.load(fe_xgb_path)\n",
    "else:\n",
    "    xgb_model = XGBRegressor(use_label_encoder=False, n_jobs=-1)\n",
    "    rfr_model = RandomForestRegressor(random_state=SEED, verbose=0, n_jobs=-1)\n",
    "\n",
    "    print('training xgb')\n",
    "    xgb_model.fit(train_features, train_y_char)\n",
    "    print('training rfr')\n",
    "    rfr_model.fit(train_features, train_y_char)\n",
    "\n",
    "    joblib.dump(rfr_model, fe_rfr_path)\n",
    "    joblib.dump(xgb_model, fe_xgb_path)"
   ]
  },
  {
   "cell_type": "code",
   "execution_count": 59,
   "metadata": {},
   "outputs": [
    {
     "name": "stdout",
     "output_type": "stream",
     "text": [
      "Got MSE of 0.2721 on the train using RandomForest with feature extraction\n"
     ]
    }
   ],
   "source": [
    "train_y_pred = rfr_model.predict(train_features)\n",
    "train_mse = mean_squared_error(train_y_char, train_y_pred)\n",
    "print(f'Got MSE of {test_mse:.4f} on the train using RandomForest with feature extraction')"
   ]
  },
  {
   "cell_type": "code",
   "execution_count": 60,
   "metadata": {},
   "outputs": [
    {
     "name": "stdout",
     "output_type": "stream",
     "text": [
      "Got MAE of 0.4266 on the test using XGBoost with feature extraction\n"
     ]
    }
   ],
   "source": [
    "train_y_pred = xgb_model.predict(train_features)\n",
    "train_mae = mean_absolute_error(train_y_char, train_y_pred)\n",
    "print(f'Got MAE of {test_mae:.4f} on the test using XGBoost with feature extraction')"
   ]
  },
  {
   "cell_type": "code",
   "execution_count": 63,
   "metadata": {},
   "outputs": [],
   "source": [
    "test_features = fe_char_model.predict(test_x_char)"
   ]
  },
  {
   "cell_type": "code",
   "execution_count": 64,
   "metadata": {},
   "outputs": [
    {
     "name": "stdout",
     "output_type": "stream",
     "text": [
      "Got MSE of 0.3080 on the test using RandomForest with feature extraction\n"
     ]
    }
   ],
   "source": [
    "test_y_pred = rfr_model.predict(test_features)\n",
    "test_mse = mean_squared_error(test_y_char, test_y_pred)\n",
    "print(f'Got MSE of {test_mse:.4f} on the test using RandomForest with feature extraction')"
   ]
  },
  {
   "cell_type": "code",
   "execution_count": 65,
   "metadata": {},
   "outputs": [
    {
     "name": "stdout",
     "output_type": "stream",
     "text": [
      "Got MAE of 0.4363 on the test using XGBoost with feature extraction\n"
     ]
    }
   ],
   "source": [
    "test_y_pred = xgb_model.predict(test_features)\n",
    "test_mae = mean_absolute_error(test_y_char, test_y_pred)\n",
    "print(f'Got MAE of {test_mae:.4f} on the test using XGBoost with feature extraction')"
   ]
  },
  {
   "cell_type": "markdown",
   "metadata": {},
   "source": [
    "# 2. Word embeddings and word level LSTM\n",
    "\n",
    "## Using word/character-combination level processing to predict search relevance"
   ]
  },
  {
   "cell_type": "markdown",
   "metadata": {},
   "source": [
    "### a. Preprocess the data to create tokens of words/character-combinations"
   ]
  },
  {
   "cell_type": "code",
   "execution_count": null,
   "metadata": {},
   "outputs": [],
   "source": [
    "sentence = 'Not only do angles make joints stronger, they also provide more consistent, straight corners. Simpson Strong-Tie offers a wide variety of angles in various sizes and thicknesses to handle light-duty jobs or projects where a structural connection is needed. Some can be bent (skewed) to match the project. For outdoor projects or those where moisture is present, use our ZMAX zinc-coated connectors, which provide extra resistance against corrosion (look for a \"Z\" at the end of the model number).Versatile connector for various 90 connections and home repair projectsStronger than angled nailing or screw fastening aloneHelp ensure joints are consistently straight and strongDimensions: 3 in. x 3 in. x 1-1/2 in.Made from 12-Gauge steelGalvanized for extra corrosion resistanceInstall with 10d common nails or #9 x 1-1/2 in. Strong-Drive SD screws'"
   ]
  },
  {
   "cell_type": "code",
   "execution_count": null,
   "metadata": {},
   "outputs": [],
   "source": [
    "import re\n",
    "# TODO: seperate also on nubmer after chars, i.e. word100%\n",
    "def camel_case_split(identifier):\n",
    "    matches = re.finditer('.+?(?:(?<=[a-z,(,)])\\.?\\s?(?=[A-Z])|(?<=[A-Z,(,)])\\.?\\s?(?=[A-Z][a-z])|$)', identifier)\n",
    "    return ' '.join([m.group(0).strip() for m in matches])"
   ]
  },
  {
   "cell_type": "code",
   "execution_count": null,
   "metadata": {},
   "outputs": [],
   "source": [
    "'BEHR Premium Textured DeckOver 1-gal. #SC-141 Tugboat Wood and Concrete Coating : BEHR Premium Textured DECKOVER is an innovative solid color coating. It will bring your old, weathered wood or concrete back to life. The advanced 100% acrylic resin formula creates a durable coating for your tired and worn out deck, rejuvenating to a whole new look.  For the best results, be sure to properly prepare the surface using other applicable BEHR products displayed above.California residents: see&nbsp;Proposition 65 informationRevives wood and composite decks, railings, porches and boat docks, also great for concrete pool decks, patios and sidewalks100% acrylic solid color coatingResists cracking and peeling and conceals splinters and cracks up to 1/4 in.Provides a durable, mildew resistant finishCovers up to 75 sq. ft. in 2 coats per gallonCreates a textured, slip-resistant finishFor best results, prepare with the appropriate BEHR product for your wood or concrete surfaceActual paint colors may vary from on-screen and printer representationsColors available to be tinted in most storesOnline Price includes Paint Care fee in the following states: CA, CO, CT, ME, MN, OR, RI, VT'"
   ]
  },
  {
   "cell_type": "code",
   "execution_count": null,
   "metadata": {},
   "outputs": [],
   "source": [
    "train_df['product_description'] = train_df['product_description'].apply(camel_case_split)"
   ]
  },
  {
   "cell_type": "code",
   "execution_count": null,
   "metadata": {},
   "outputs": [],
   "source": [
    "desc_series = train_df['product_description']\n",
    "search_term_series = train_df['search_term']\n",
    "desc_st = pd.concat([desc_series, search_term_series])"
   ]
  },
  {
   "cell_type": "code",
   "execution_count": 326,
   "metadata": {},
   "outputs": [],
   "source": [
    "def tokenize_words(serie):\n",
    "    serie = pd.Series(tokenizer.texts_to_sequences(serie.values), index=serie.index)\n",
    "    max_len = min(serie.apply(len).max(), 1500)\n",
    "    return pad_sequences(serie, max_len, padding='post')"
   ]
  },
  {
   "cell_type": "code",
   "execution_count": 343,
   "metadata": {},
   "outputs": [],
   "source": [
    "tokenizer = Tokenizer()\n",
    "tokenizer.fit_on_texts(desc_st)"
   ]
  },
  {
   "cell_type": "code",
   "execution_count": 328,
   "metadata": {},
   "outputs": [],
   "source": [
    "desc_padded = tokenize_words(train_df['product_description'])\n",
    "st_padded = tokenize_words(train_df['search_term'])"
   ]
  },
  {
   "cell_type": "markdown",
   "metadata": {},
   "source": [
    "### b. Create embeddings"
   ]
  },
  {
   "cell_type": "code",
   "execution_count": null,
   "metadata": {},
   "outputs": [],
   "source": [
    "!wget -c \"https://s3.amazonaws.com/dl4j-distribution/GoogleNews-vectors-negative300.bin.gz\""
   ]
  },
  {
   "cell_type": "code",
   "execution_count": null,
   "metadata": {},
   "outputs": [],
   "source": [
    "!gzip -d GoogleNews-vectors-negative300.bin.gz"
   ]
  },
  {
   "cell_type": "code",
   "execution_count": 392,
   "metadata": {},
   "outputs": [],
   "source": [
    "from gensim import models\n",
    "\n",
    "EMBEDDING_FILE = './GoogleNews-vectors-negative300.bin'\n",
    "embeddings_index = models.KeyedVectors.load_word2vec_format(EMBEDDING_FILE, binary=True)\n",
    "embed_size = 300\n",
    "word_index = tokenizer.word_index\n",
    "max_features = len(word_index) + 1\n",
    "\n",
    "nb_words = min(len(word_index), len(word_index))\n",
    "embedding_matrix = (np.random.rand(nb_words+1, embed_size) - 0.5) / 5.0\n",
    "for word, i in word_index.items():\n",
    "    if i >= max_features: continue\n",
    "    if word in embeddings_index:\n",
    "        embedding_vector = embeddings_index.get_vector(word)\n",
    "        embedding_matrix[i] = embedding_vector"
   ]
  },
  {
   "cell_type": "markdown",
   "metadata": {},
   "source": [
    "### c. Constructing a Siamese network"
   ]
  },
  {
   "cell_type": "code",
   "execution_count": 396,
   "metadata": {},
   "outputs": [],
   "source": [
    "def init_siamese_model_words(search_term_len, product_description_len, output_shape=1):\n",
    "    input_1 = Input(shape=(search_term_len,))\n",
    "    input_2 = Input(shape=(product_description_len,))\n",
    "    \n",
    "    embd1 = Embedding(max_features, \n",
    "                      embed_size, \n",
    "                      weights=[embedding_matrix],\n",
    "                      input_length=search_term_len,\n",
    "                      name='search_embd')(input_1)\n",
    "    \n",
    "    embd2 = Embedding(max_features,\n",
    "                      embed_size,\n",
    "                      weights=[embedding_matrix],\n",
    "                      input_length=product_description_len,\n",
    "                      name='desc_embd')(input_2)\n",
    "    \n",
    "    lstm_1 = LSTM(128)(embd1)\n",
    "    lstm_2 = LSTM(128)(embd2)\n",
    "    \n",
    "    expand_layer = Lambda(lambda tensor: tensor[...,np.newaxis],name=\"expand_dim_layer\")\n",
    "    \n",
    "    expended_1 = expand_layer(lstm_1)\n",
    "    expended_2 = expand_layer(lstm_2)\n",
    "    \n",
    "    sm = common_model(128)\n",
    "\n",
    "    vector_1 = sm(expended_1)\n",
    "    \n",
    "    vector_2 = sm(expended_2)\n",
    "    \n",
    "    x3 = Subtract()([vector_1, vector_2])\n",
    "    x3 = Multiply()([x3, x3])\n",
    "\n",
    "    x1_ = Multiply()([vector_1, vector_1])\n",
    "    x2_ = Multiply()([vector_2, vector_2])\n",
    "    x4 = Subtract()([x1_, x2_])\n",
    "    \n",
    "    x5 = Lambda(cosine_distance, output_shape=cos_dist_output_shape)([vector_1, vector_2])\n",
    "\n",
    "    conc = Concatenate(axis=-1)([x5,x4, x3])\n",
    "\n",
    "    x = Dense(100, activation=\"relu\")(conc)\n",
    "    x = Dropout(0.01)(x)\n",
    "    out = Dense(output_shape, activation=\"relu\", name = 'out')(x)\n",
    "\n",
    "    model = Model([input_1, input_2], out)\n",
    "    \n",
    "    model.get_layer('search_embd').trainable = False\n",
    "    model.get_layer('desc_embd').trainable = False\n",
    "\n",
    "    model.compile(loss='mse', optimizer=Adam())\n",
    "    \n",
    "    return model"
   ]
  },
  {
   "cell_type": "code",
   "execution_count": 397,
   "metadata": {},
   "outputs": [
    {
     "name": "stdout",
     "output_type": "stream",
     "text": [
      "Model: \"model_19\"\n",
      "__________________________________________________________________________________________________\n",
      "Layer (type)                    Output Shape         Param #     Connected to                     \n",
      "==================================================================================================\n",
      "input_76 (InputLayer)           [(None, 17)]         0                                            \n",
      "__________________________________________________________________________________________________\n",
      "input_77 (InputLayer)           [(None, 1051)]       0                                            \n",
      "__________________________________________________________________________________________________\n",
      "search_embd (Embedding)         (None, 17, 300)      19937400    input_76[0][0]                   \n",
      "__________________________________________________________________________________________________\n",
      "desc_embd (Embedding)           (None, 1051, 300)    19937400    input_77[0][0]                   \n",
      "__________________________________________________________________________________________________\n",
      "lstm_45 (LSTM)                  (None, 128)          219648      search_embd[0][0]                \n",
      "__________________________________________________________________________________________________\n",
      "lstm_46 (LSTM)                  (None, 128)          219648      desc_embd[0][0]                  \n",
      "__________________________________________________________________________________________________\n",
      "expand_dim_layer (Lambda)       (None, 128, 1)       0           lstm_45[0][0]                    \n",
      "                                                                 lstm_46[0][0]                    \n",
      "__________________________________________________________________________________________________\n",
      "siamese_model_18 (Model)        (None, 128)          484160      expand_dim_layer[0][0]           \n",
      "                                                                 expand_dim_layer[1][0]           \n",
      "__________________________________________________________________________________________________\n",
      "multiply_55 (Multiply)          (None, 128)          0           siamese_model_18[1][0]           \n",
      "                                                                 siamese_model_18[1][0]           \n",
      "__________________________________________________________________________________________________\n",
      "multiply_56 (Multiply)          (None, 128)          0           siamese_model_18[2][0]           \n",
      "                                                                 siamese_model_18[2][0]           \n",
      "__________________________________________________________________________________________________\n",
      "subtract_36 (Subtract)          (None, 128)          0           siamese_model_18[1][0]           \n",
      "                                                                 siamese_model_18[2][0]           \n",
      "__________________________________________________________________________________________________\n",
      "lambda_18 (Lambda)              (None, 1)            0           siamese_model_18[1][0]           \n",
      "                                                                 siamese_model_18[2][0]           \n",
      "__________________________________________________________________________________________________\n",
      "subtract_37 (Subtract)          (None, 128)          0           multiply_55[0][0]                \n",
      "                                                                 multiply_56[0][0]                \n",
      "__________________________________________________________________________________________________\n",
      "multiply_54 (Multiply)          (None, 128)          0           subtract_36[0][0]                \n",
      "                                                                 subtract_36[0][0]                \n",
      "__________________________________________________________________________________________________\n",
      "concatenate_18 (Concatenate)    (None, 257)          0           lambda_18[0][0]                  \n",
      "                                                                 subtract_37[0][0]                \n",
      "                                                                 multiply_54[0][0]                \n",
      "__________________________________________________________________________________________________\n",
      "dense_34 (Dense)                (None, 100)          25800       concatenate_18[0][0]             \n",
      "__________________________________________________________________________________________________\n",
      "dropout_18 (Dropout)            (None, 100)          0           dense_34[0][0]                   \n",
      "__________________________________________________________________________________________________\n",
      "out (Dense)                     (None, 1)            101         dropout_18[0][0]                 \n",
      "==================================================================================================\n",
      "Total params: 40,824,157\n",
      "Trainable params: 949,357\n",
      "Non-trainable params: 39,874,800\n",
      "__________________________________________________________________________________________________\n"
     ]
    }
   ],
   "source": [
    "init_siamese_model_words(st_padded.shape[1],desc_padded.shape[1]).summary()"
   ]
  },
  {
   "cell_type": "code",
   "execution_count": 398,
   "metadata": {},
   "outputs": [
    {
     "name": "stdout",
     "output_type": "stream",
     "text": [
      "Epoch 1/20\n",
      "463/463 [==============================] - 52s 112ms/step - loss: 0.4013 - val_loss: 0.2893 - lr: 0.0010\n",
      "Epoch 2/20\n",
      "463/463 [==============================] - 50s 108ms/step - loss: 0.2811 - val_loss: 0.3184 - lr: 0.0010\n",
      "Epoch 3/20\n",
      "463/463 [==============================] - 50s 109ms/step - loss: 0.2767 - val_loss: 0.2974 - lr: 0.0010\n",
      "Epoch 4/20\n",
      "463/463 [==============================] - 52s 113ms/step - loss: 0.2720 - val_loss: 0.2740 - lr: 0.0010\n",
      "Epoch 5/20\n",
      "463/463 [==============================] - 53s 113ms/step - loss: 0.2630 - val_loss: 0.2738 - lr: 0.0010\n",
      "Epoch 6/20\n",
      "463/463 [==============================] - 51s 109ms/step - loss: 0.2561 - val_loss: 0.3268 - lr: 0.0010\n",
      "Epoch 7/20\n",
      "463/463 [==============================] - 51s 110ms/step - loss: 0.2498 - val_loss: 0.2757 - lr: 0.0010\n",
      "Epoch 8/20\n",
      "463/463 [==============================] - ETA: 0s - loss: 0.2455\n",
      "Epoch 00008: ReduceLROnPlateau reducing learning rate to 0.0005000000237487257.\n",
      "463/463 [==============================] - 51s 110ms/step - loss: 0.2455 - val_loss: 0.2766 - lr: 0.0010\n",
      "Epoch 9/20\n",
      "463/463 [==============================] - 53s 114ms/step - loss: 0.2301 - val_loss: 0.2580 - lr: 5.0000e-04\n",
      "Epoch 10/20\n",
      "463/463 [==============================] - 50s 108ms/step - loss: 0.2250 - val_loss: 0.2743 - lr: 5.0000e-04\n",
      "Epoch 11/20\n",
      "463/463 [==============================] - 51s 109ms/step - loss: 0.2223 - val_loss: 0.2661 - lr: 5.0000e-04\n",
      "Epoch 12/20\n",
      "463/463 [==============================] - ETA: 0s - loss: 0.2178\n",
      "Epoch 00012: ReduceLROnPlateau reducing learning rate to 0.0002500000118743628.\n",
      "463/463 [==============================] - 51s 110ms/step - loss: 0.2178 - val_loss: 0.2637 - lr: 5.0000e-04\n",
      "Epoch 13/20\n",
      "463/463 [==============================] - 51s 110ms/step - loss: 0.2104 - val_loss: 0.2694 - lr: 2.5000e-04\n",
      "Epoch 00013: early stopping\n"
     ]
    }
   ],
   "source": [
    "train_data = ((st_padded, desc_padded), train_df['relevance'].values)\n",
    "word_model, word_history = train_model(init_siamese_model_words, train_data, use_saved=False)"
   ]
  },
  {
   "cell_type": "code",
   "execution_count": null,
   "metadata": {},
   "outputs": [],
   "source": [
    "visualize_perf(word_history)"
   ]
  },
  {
   "cell_type": "code",
   "execution_count": 399,
   "metadata": {},
   "outputs": [],
   "source": [
    "test_desc_padded = tokenize_words(test_df['product_description'])\n",
    "test_st_padded = tokenize_words(test_df['search_term'])"
   ]
  },
  {
   "cell_type": "code",
   "execution_count": 402,
   "metadata": {},
   "outputs": [
    {
     "data": {
      "text/plain": [
       "((112067, 17), (112067, 1051))"
      ]
     },
     "execution_count": 402,
     "metadata": {},
     "output_type": "execute_result"
    }
   ],
   "source": [
    "test_st_padded.shape, test_desc_padded.shape"
   ]
  },
  {
   "cell_type": "code",
   "execution_count": 403,
   "metadata": {},
   "outputs": [
    {
     "name": "stdout",
     "output_type": "stream",
     "text": [
      "3503/3503 [==============================] - 91s 26ms/step - loss: 0.2881\n",
      "MSE loss on test set: 0.2881\n"
     ]
    }
   ],
   "source": [
    "mse = word_model.evaluate([test_st_padded, test_desc_padded], test_rel)\n",
    "print(f'MSE loss on test set: {mse:.4f}')"
   ]
  },
  {
   "cell_type": "markdown",
   "metadata": {},
   "source": [
    "### d. Using our model as a feature extractor"
   ]
  },
  {
   "cell_type": "code",
   "execution_count": 404,
   "metadata": {},
   "outputs": [],
   "source": [
    "fe_word_model = Model(word_model.input, word_model.layers[-3].output)"
   ]
  },
  {
   "cell_type": "code",
   "execution_count": 405,
   "metadata": {},
   "outputs": [],
   "source": [
    "train_x, _ = train_data"
   ]
  },
  {
   "cell_type": "code",
   "execution_count": 407,
   "metadata": {},
   "outputs": [],
   "source": [
    "train_preds_feword = fe_word_model.predict(train_x)"
   ]
  },
  {
   "cell_type": "code",
   "execution_count": 408,
   "metadata": {},
   "outputs": [
    {
     "data": {
      "text/plain": [
       "(74067, 100)"
      ]
     },
     "execution_count": 408,
     "metadata": {},
     "output_type": "execute_result"
    }
   ],
   "source": [
    "train_preds_feword.shape"
   ]
  },
  {
   "cell_type": "code",
   "execution_count": 409,
   "metadata": {},
   "outputs": [
    {
     "name": "stdout",
     "output_type": "stream",
     "text": [
      "training xgb\n",
      "training rfr\n"
     ]
    }
   ],
   "source": [
    "use_saved = False\n",
    "\n",
    "fe_rfr_path = 'models/fe_word_rfr.sav'\n",
    "fe_xgb_path = 'models/fe_word_xgb.sav'\n",
    "\n",
    "if use_saved:\n",
    "    rfr_model = joblib.load(fe_rfr_path)\n",
    "    xgb_model = joblib.load(fe_xgb_path)\n",
    "else:\n",
    "    xgb_model = XGBRegressor(use_label_encoder=False, n_jobs=-1)\n",
    "    rfr_model = RandomForestRegressor(random_state=SEED, verbose=0, n_jobs=-1)\n",
    "\n",
    "    print('training xgb')\n",
    "    xgb_model.fit(train_preds_feword, train_y)\n",
    "    print('training rfr')\n",
    "    rfr_model.fit(train_preds_feword, train_y)\n",
    "\n",
    "    joblib.dump(rfr_model, fe_rfr_path)\n",
    "    joblib.dump(xgb_model, fe_xgb_path)"
   ]
  },
  {
   "cell_type": "code",
   "execution_count": 413,
   "metadata": {},
   "outputs": [
    {
     "name": "stdout",
     "output_type": "stream",
     "text": [
      "Got MSE of 0.2873 on the test using RandomForest with feature extraction\n"
     ]
    }
   ],
   "source": [
    "test_features = fe_word_model.predict([test_desc_padded, test_st_padded])\n",
    "test_y_pred = rfr_model.predict(test_features)\n",
    "test_mse = mean_squared_error(test_y, test_y_pred)\n",
    "print(f'Got MSE of {test_mse:.4f} on the test using RandomForest with feature extraction')"
   ]
  },
  {
   "cell_type": "code",
   "execution_count": 414,
   "metadata": {},
   "outputs": [
    {
     "name": "stdout",
     "output_type": "stream",
     "text": [
      "Got MSE of 0.2882 on the test using XGBoost with feature extraction\n"
     ]
    }
   ],
   "source": [
    "test_y_pred = xgb_model.predict(test_features)\n",
    "test_mse = mean_squared_error(test_y, test_y_pred)\n",
    "print(f'Got MSE of {test_mse:.4f} on the test using XGBoost with feature extraction')"
   ]
  },
  {
   "cell_type": "markdown",
   "metadata": {},
   "source": [
    "# 3. Comparison of Results"
   ]
  },
  {
   "cell_type": "code",
   "execution_count": null,
   "metadata": {},
   "outputs": [],
   "source": []
  },
  {
   "cell_type": "markdown",
   "metadata": {},
   "source": [
    "# 4. Final Report"
   ]
  },
  {
   "cell_type": "code",
   "execution_count": null,
   "metadata": {},
   "outputs": [],
   "source": []
  }
 ],
 "metadata": {
  "kernelspec": {
   "display_name": "Python (tf-env)",
   "language": "python",
   "name": "tf-env"
  },
  "language_info": {
   "codemirror_mode": {
    "name": "ipython",
    "version": 3
   },
   "file_extension": ".py",
   "mimetype": "text/x-python",
   "name": "python",
   "nbconvert_exporter": "python",
   "pygments_lexer": "ipython3",
   "version": "3.8.6"
  }
 },
 "nbformat": 4,
 "nbformat_minor": 4
}
