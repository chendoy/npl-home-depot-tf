{
 "cells": [
  {
   "cell_type": "markdown",
   "metadata": {},
   "source": [
    "# Practical Deep Learning Workshop 2021\n",
    "## Assignment 2 - Word Embeddings\n",
    " \n",
    "### Authors:\n",
    " \n",
    "1.   Chen Doytshman 205644941\n",
    "2.   Naor Kolet 205533060\n"
   ]
  },
  {
   "cell_type": "markdown",
   "metadata": {},
   "source": [
    "# 0. Imports"
   ]
  },
  {
   "cell_type": "code",
   "execution_count": 2,
   "metadata": {},
   "outputs": [],
   "source": [
    "import pandas as pd\n",
    "import numpy as np\n",
    " \n",
    "# TensorFlow\n",
    "import tensorflow as tf\n",
    "\n",
    "# Scikit-learn\n",
    "#from sklearn.\n",
    "\n",
    "# Plots\n",
    "import seaborn as sns\n",
    "import matplotlib.pyplot as plt\n",
    "\n",
    "# Misc.\n",
    "import os\n",
    "import joblib\n",
    "from tqdm import tqdm_notebook as tqdm\n",
    "\n",
    "SEED = 42\n",
    "%matplotlib inline"
   ]
  },
  {
   "cell_type": "code",
   "execution_count": 3,
   "metadata": {},
   "outputs": [],
   "source": [
    "pd.set_option('display.max_colwidth', 100)"
   ]
  },
  {
   "cell_type": "code",
   "execution_count": 4,
   "metadata": {},
   "outputs": [
    {
     "data": {
      "application/vnd.jupyter.widget-view+json": {
       "model_id": "b07820a73e2c48259175b24c43def1bc",
       "version_major": 2,
       "version_minor": 0
      },
      "text/plain": [
       "HBox(children=(IntProgress(value=1, bar_style='info', max=1), HTML(value='')))"
      ]
     },
     "metadata": {},
     "output_type": "display_data"
    },
    {
     "name": "stdout",
     "output_type": "stream",
     "text": [
      "\n"
     ]
    }
   ],
   "source": [
    "import zipfile\n",
    "DATA_DIR = 'home-depot-product-search-relevance'\n",
    "\n",
    "files = [f for f in os.listdir(DATA_DIR) if f.endswith('zip')]\n",
    "for file in tqdm(files):\n",
    "    with zipfile.ZipFile(f'{DATA_DIR}/{file}') as zf:\n",
    "        zf.extractall(DATA_DIR)\n",
    "        os.remove(f'{DATA_DIR}/{file}')"
   ]
  },
  {
   "cell_type": "markdown",
   "metadata": {},
   "source": [
    "# 0.1 Data Preparation, EDA"
   ]
  },
  {
   "cell_type": "markdown",
   "metadata": {},
   "source": [
    "Let's load the data:"
   ]
  },
  {
   "cell_type": "code",
   "execution_count": 66,
   "metadata": {},
   "outputs": [],
   "source": [
    "train_df = pd.read_csv(f'{DATA_DIR}/train.csv', index_col='id', encoding='latin-1')\n",
    "test_df = pd.read_csv(f'{DATA_DIR}/test.csv', index_col='id', encoding='latin-1')\n",
    "product_desc_df = pd.read_csv(f'{DATA_DIR}/product_descriptions.csv', index_col='product_uid')\n",
    "attributes_df = pd.read_csv(f'{DATA_DIR}/attributes.csv', index_col=['product_uid'], dtype={'product_uid': 'Int64'})"
   ]
  },
  {
   "cell_type": "code",
   "execution_count": 89,
   "metadata": {},
   "outputs": [
    {
     "data": {
      "text/html": [
       "<div>\n",
       "<style scoped>\n",
       "    .dataframe tbody tr th:only-of-type {\n",
       "        vertical-align: middle;\n",
       "    }\n",
       "\n",
       "    .dataframe tbody tr th {\n",
       "        vertical-align: top;\n",
       "    }\n",
       "\n",
       "    .dataframe thead th {\n",
       "        text-align: right;\n",
       "    }\n",
       "</style>\n",
       "<table border=\"1\" class=\"dataframe\">\n",
       "  <thead>\n",
       "    <tr style=\"text-align: right;\">\n",
       "      <th></th>\n",
       "      <th>product_uid</th>\n",
       "      <th>product_title</th>\n",
       "      <th>search_term</th>\n",
       "      <th>relevance</th>\n",
       "    </tr>\n",
       "    <tr>\n",
       "      <th>id</th>\n",
       "      <th></th>\n",
       "      <th></th>\n",
       "      <th></th>\n",
       "      <th></th>\n",
       "    </tr>\n",
       "  </thead>\n",
       "  <tbody>\n",
       "    <tr>\n",
       "      <th>2</th>\n",
       "      <td>100001</td>\n",
       "      <td>Simpson Strong-Tie 12-Gauge Angle</td>\n",
       "      <td>angle bracket</td>\n",
       "      <td>3.00</td>\n",
       "    </tr>\n",
       "    <tr>\n",
       "      <th>3</th>\n",
       "      <td>100001</td>\n",
       "      <td>Simpson Strong-Tie 12-Gauge Angle</td>\n",
       "      <td>l bracket</td>\n",
       "      <td>2.50</td>\n",
       "    </tr>\n",
       "    <tr>\n",
       "      <th>9</th>\n",
       "      <td>100002</td>\n",
       "      <td>BEHR Premium Textured DeckOver 1-gal. #SC-141 ...</td>\n",
       "      <td>deck over</td>\n",
       "      <td>3.00</td>\n",
       "    </tr>\n",
       "    <tr>\n",
       "      <th>16</th>\n",
       "      <td>100005</td>\n",
       "      <td>Delta Vero 1-Handle Shower Only Faucet Trim Ki...</td>\n",
       "      <td>rain shower head</td>\n",
       "      <td>2.33</td>\n",
       "    </tr>\n",
       "    <tr>\n",
       "      <th>17</th>\n",
       "      <td>100005</td>\n",
       "      <td>Delta Vero 1-Handle Shower Only Faucet Trim Ki...</td>\n",
       "      <td>shower only faucet</td>\n",
       "      <td>2.67</td>\n",
       "    </tr>\n",
       "  </tbody>\n",
       "</table>\n",
       "</div>"
      ],
      "text/plain": [
       "    product_uid                                      product_title  \\\n",
       "id                                                                   \n",
       "2        100001                  Simpson Strong-Tie 12-Gauge Angle   \n",
       "3        100001                  Simpson Strong-Tie 12-Gauge Angle   \n",
       "9        100002  BEHR Premium Textured DeckOver 1-gal. #SC-141 ...   \n",
       "16       100005  Delta Vero 1-Handle Shower Only Faucet Trim Ki...   \n",
       "17       100005  Delta Vero 1-Handle Shower Only Faucet Trim Ki...   \n",
       "\n",
       "           search_term  relevance  \n",
       "id                                 \n",
       "2        angle bracket       3.00  \n",
       "3            l bracket       2.50  \n",
       "9            deck over       3.00  \n",
       "16    rain shower head       2.33  \n",
       "17  shower only faucet       2.67  "
      ]
     },
     "execution_count": 89,
     "metadata": {},
     "output_type": "execute_result"
    }
   ],
   "source": [
    "train_df.head()"
   ]
  },
  {
   "cell_type": "code",
   "execution_count": 90,
   "metadata": {},
   "outputs": [
    {
     "data": {
      "image/png": "[encoded data removed]",
      "text/plain": [
       "<Figure size 720x432 with 1 Axes>"
      ]
     },
     "metadata": {
      "needs_background": "light"
     },
     "output_type": "display_data"
    }
   ],
   "source": [
    "plt.figure(figsize=(10,6))\n",
    "ax = sns.countplot(data=train_df, x=\"relevance\")\n",
    "\n",
    "relevance_values = train_df[\"relevance\"].value_counts().sort_index()\n",
    "\n",
    "for p, label in zip(ax.patches, relevance_values):\n",
    "    ax.annotate(label, (p.get_x(), p.get_height()+0.5))"
   ]
  },
  {
   "cell_type": "code",
   "execution_count": 187,
   "metadata": {},
   "outputs": [
    {
     "data": {
      "text/html": [
       "<div>\n",
       "<style scoped>\n",
       "    .dataframe tbody tr th:only-of-type {\n",
       "        vertical-align: middle;\n",
       "    }\n",
       "\n",
       "    .dataframe tbody tr th {\n",
       "        vertical-align: top;\n",
       "    }\n",
       "\n",
       "    .dataframe thead th {\n",
       "        text-align: right;\n",
       "    }\n",
       "</style>\n",
       "<table border=\"1\" class=\"dataframe\">\n",
       "  <thead>\n",
       "    <tr style=\"text-align: right;\">\n",
       "      <th></th>\n",
       "      <th>product_description</th>\n",
       "      <th>concat_desc</th>\n",
       "    </tr>\n",
       "    <tr>\n",
       "      <th>product_uid</th>\n",
       "      <th></th>\n",
       "      <th></th>\n",
       "    </tr>\n",
       "  </thead>\n",
       "  <tbody>\n",
       "    <tr>\n",
       "      <th>100001</th>\n",
       "      <td>Not only do angles make joints stronger, they also provide more consistent, straight corners. Si...</td>\n",
       "      <td>Versatile connector for various 90° connections and home repair projects ; Stronger than angled ...</td>\n",
       "    </tr>\n",
       "    <tr>\n",
       "      <th>100002</th>\n",
       "      <td>BEHR Premium Textured DECKOVER is an innovative solid color coating. It will bring your old, wea...</td>\n",
       "      <td>Application Method Brush,Roller,Spray ; Assembled Depth (in.) 6.63 in ; Assembled Height (in.) 7...</td>\n",
       "    </tr>\n",
       "    <tr>\n",
       "      <th>100003</th>\n",
       "      <td>Classic architecture meets contemporary design in the Ensemble Curve series, made of solid Vikre...</td>\n",
       "      <td>Built-in flange Yes ; Slightly narrower for tighter spaces ; Designed with an 18 in. apron ; Dur...</td>\n",
       "    </tr>\n",
       "    <tr>\n",
       "      <th>100004</th>\n",
       "      <td>The Grape Solar 265-Watt Polycrystalline PV Solar Panel bonus pack bundles 4 Grape Solar 265-Wat...</td>\n",
       "      <td>Amperage (amps) 8.56 ; Positive power tolerance (0 to +5-Watt) ; Anti-reflective and anti-soilin...</td>\n",
       "    </tr>\n",
       "    <tr>\n",
       "      <th>100005</th>\n",
       "      <td>Update your bathroom with the Delta Vero Single-Handle Shower Faucet Trim Kit in Chrome. It has ...</td>\n",
       "      <td>Bath Faucet Type Combo Tub and Shower ; Built-in Water Filter No ; Includes the trim kit only, t...</td>\n",
       "    </tr>\n",
       "  </tbody>\n",
       "</table>\n",
       "</div>"
      ],
      "text/plain": [
       "                                                                                             product_description  \\\n",
       "product_uid                                                                                                        \n",
       "100001       Not only do angles make joints stronger, they also provide more consistent, straight corners. Si...   \n",
       "100002       BEHR Premium Textured DECKOVER is an innovative solid color coating. It will bring your old, wea...   \n",
       "100003       Classic architecture meets contemporary design in the Ensemble Curve series, made of solid Vikre...   \n",
       "100004       The Grape Solar 265-Watt Polycrystalline PV Solar Panel bonus pack bundles 4 Grape Solar 265-Wat...   \n",
       "100005       Update your bathroom with the Delta Vero Single-Handle Shower Faucet Trim Kit in Chrome. It has ...   \n",
       "\n",
       "                                                                                                     concat_desc  \n",
       "product_uid                                                                                                       \n",
       "100001       Versatile connector for various 90° connections and home repair projects ; Stronger than angled ...  \n",
       "100002       Application Method Brush,Roller,Spray ; Assembled Depth (in.) 6.63 in ; Assembled Height (in.) 7...  \n",
       "100003       Built-in flange Yes ; Slightly narrower for tighter spaces ; Designed with an 18 in. apron ; Dur...  \n",
       "100004       Amperage (amps) 8.56 ; Positive power tolerance (0 to +5-Watt) ; Anti-reflective and anti-soilin...  \n",
       "100005       Bath Faucet Type Combo Tub and Shower ; Built-in Water Filter No ; Includes the trim kit only, t...  "
      ]
     },
     "execution_count": 187,
     "metadata": {},
     "output_type": "execute_result"
    }
   ],
   "source": [
    "product_desc_df.head()"
   ]
  },
  {
   "cell_type": "code",
   "execution_count": 107,
   "metadata": {},
   "outputs": [
    {
     "data": {
      "text/plain": [
       "'Not only do angles make joints stronger, they also provide more consistent, straight corners. Simpson Strong-Tie offers a wide variety of angles in various sizes and thicknesses to handle light-duty jobs or projects where a structural connection is needed. Some can be bent (skewed) to match the project. For outdoor projects or those where moisture is present, use our ZMAX zinc-coated connectors, which provide extra resistance against corrosion (look for a \"Z\" at the end of the model number).Versatile connector for various 90 connections and home repair projectsStronger than angled nailing or screw fastening aloneHelp ensure joints are consistently straight and strongDimensions: 3 in. x 3 in. x 1-1/2 in.Made from 12-Gauge steelGalvanized for extra corrosion resistanceInstall with 10d common nails or #9 x 1-1/2 in. Strong-Drive SD screws'"
      ]
     },
     "execution_count": 107,
     "metadata": {},
     "output_type": "execute_result"
    }
   ],
   "source": [
    "product_desc_df.iloc[0, 0]"
   ]
  },
  {
   "cell_type": "code",
   "execution_count": 155,
   "metadata": {},
   "outputs": [
    {
     "data": {
      "text/html": [
       "<div>\n",
       "<style scoped>\n",
       "    .dataframe tbody tr th:only-of-type {\n",
       "        vertical-align: middle;\n",
       "    }\n",
       "\n",
       "    .dataframe tbody tr th {\n",
       "        vertical-align: top;\n",
       "    }\n",
       "\n",
       "    .dataframe thead th {\n",
       "        text-align: right;\n",
       "    }\n",
       "</style>\n",
       "<table border=\"1\" class=\"dataframe\">\n",
       "  <thead>\n",
       "    <tr style=\"text-align: right;\">\n",
       "      <th></th>\n",
       "      <th>name</th>\n",
       "      <th>value</th>\n",
       "    </tr>\n",
       "    <tr>\n",
       "      <th>product_uid</th>\n",
       "      <th></th>\n",
       "      <th></th>\n",
       "    </tr>\n",
       "  </thead>\n",
       "  <tbody>\n",
       "    <tr>\n",
       "      <th>100001</th>\n",
       "      <td>Bullet01</td>\n",
       "      <td>Versatile connector for various 90° connections and home repair projects</td>\n",
       "    </tr>\n",
       "    <tr>\n",
       "      <th>100001</th>\n",
       "      <td>Bullet02</td>\n",
       "      <td>Stronger than angled nailing or screw fastening alone</td>\n",
       "    </tr>\n",
       "    <tr>\n",
       "      <th>100001</th>\n",
       "      <td>Bullet03</td>\n",
       "      <td>Help ensure joints are consistently straight and strong</td>\n",
       "    </tr>\n",
       "    <tr>\n",
       "      <th>100001</th>\n",
       "      <td>Bullet04</td>\n",
       "      <td>Dimensions: 3 in. x 3 in. x 1-1/2 in.</td>\n",
       "    </tr>\n",
       "    <tr>\n",
       "      <th>100001</th>\n",
       "      <td>Bullet05</td>\n",
       "      <td>Made from 12-Gauge steel</td>\n",
       "    </tr>\n",
       "    <tr>\n",
       "      <th>...</th>\n",
       "      <td>...</td>\n",
       "      <td>...</td>\n",
       "    </tr>\n",
       "    <tr>\n",
       "      <th>224428</th>\n",
       "      <td>Pilot Bit Included</td>\n",
       "      <td>No</td>\n",
       "    </tr>\n",
       "    <tr>\n",
       "      <th>224428</th>\n",
       "      <td>Power Tool Product Type</td>\n",
       "      <td>Drill &amp; Router Bits</td>\n",
       "    </tr>\n",
       "    <tr>\n",
       "      <th>224428</th>\n",
       "      <td>Shank Diameter</td>\n",
       "      <td>3/8 in</td>\n",
       "    </tr>\n",
       "    <tr>\n",
       "      <th>224428</th>\n",
       "      <td>Shank Style</td>\n",
       "      <td>Hex</td>\n",
       "    </tr>\n",
       "    <tr>\n",
       "      <th>224428</th>\n",
       "      <td>Tools Product Type</td>\n",
       "      <td>Power Tool</td>\n",
       "    </tr>\n",
       "  </tbody>\n",
       "</table>\n",
       "<p>2044803 rows × 2 columns</p>\n",
       "</div>"
      ],
      "text/plain": [
       "                                name  \\\n",
       "product_uid                            \n",
       "100001                      Bullet01   \n",
       "100001                      Bullet02   \n",
       "100001                      Bullet03   \n",
       "100001                      Bullet04   \n",
       "100001                      Bullet05   \n",
       "...                              ...   \n",
       "224428            Pilot Bit Included   \n",
       "224428       Power Tool Product Type   \n",
       "224428                Shank Diameter   \n",
       "224428                   Shank Style   \n",
       "224428            Tools Product Type   \n",
       "\n",
       "                                                                                value  \n",
       "product_uid                                                                            \n",
       "100001       Versatile connector for various 90° connections and home repair projects  \n",
       "100001                          Stronger than angled nailing or screw fastening alone  \n",
       "100001                        Help ensure joints are consistently straight and strong  \n",
       "100001                                          Dimensions: 3 in. x 3 in. x 1-1/2 in.  \n",
       "100001                                                       Made from 12-Gauge steel  \n",
       "...                                                                               ...  \n",
       "224428                                                                             No  \n",
       "224428                                                            Drill & Router Bits  \n",
       "224428                                                                         3/8 in  \n",
       "224428                                                                            Hex  \n",
       "224428                                                                     Power Tool  \n",
       "\n",
       "[2044803 rows x 2 columns]"
      ]
     },
     "execution_count": 155,
     "metadata": {},
     "output_type": "execute_result"
    }
   ],
   "source": [
    "attributes_df"
   ]
  },
  {
   "cell_type": "code",
   "execution_count": 67,
   "metadata": {},
   "outputs": [],
   "source": [
    "def concat_attr(record):\n",
    "    name, value = record\n",
    "    name = f'{name} ' if not name.startswith('Bullet') else '' # Delete name if it's a \"Bullet..\"\n",
    "    return f'{name}{value} ;'\n",
    "\n",
    "product_groups = attributes_df.groupby('product_uid')\n",
    "for product_uid, df in product_groups:\n",
    "    joined_attrs = ' '.join(map(concat_attr, df.values))\n",
    "    product_desc_df.loc[product_uid, 'concat_desc'] = joined_attrs"
   ]
  },
  {
   "cell_type": "code",
   "execution_count": 163,
   "metadata": {},
   "outputs": [
    {
     "data": {
      "text/html": [
       "<div>\n",
       "<style scoped>\n",
       "    .dataframe tbody tr th:only-of-type {\n",
       "        vertical-align: middle;\n",
       "    }\n",
       "\n",
       "    .dataframe tbody tr th {\n",
       "        vertical-align: top;\n",
       "    }\n",
       "\n",
       "    .dataframe thead th {\n",
       "        text-align: right;\n",
       "    }\n",
       "</style>\n",
       "<table border=\"1\" class=\"dataframe\">\n",
       "  <thead>\n",
       "    <tr style=\"text-align: right;\">\n",
       "      <th></th>\n",
       "      <th>product_description</th>\n",
       "      <th>concat_desc</th>\n",
       "    </tr>\n",
       "    <tr>\n",
       "      <th>product_uid</th>\n",
       "      <th></th>\n",
       "      <th></th>\n",
       "    </tr>\n",
       "  </thead>\n",
       "  <tbody>\n",
       "    <tr>\n",
       "      <th>100001</th>\n",
       "      <td>Not only do angles make joints stronger, they also provide more consistent, straight corners. Si...</td>\n",
       "      <td>Versatile connector for various 90° connections and home repair projects ; Stronger than angled ...</td>\n",
       "    </tr>\n",
       "    <tr>\n",
       "      <th>100002</th>\n",
       "      <td>BEHR Premium Textured DECKOVER is an innovative solid color coating. It will bring your old, wea...</td>\n",
       "      <td>Application Method Brush,Roller,Spray ; Assembled Depth (in.) 6.63 in ; Assembled Height (in.) 7...</td>\n",
       "    </tr>\n",
       "    <tr>\n",
       "      <th>100003</th>\n",
       "      <td>Classic architecture meets contemporary design in the Ensemble Curve series, made of solid Vikre...</td>\n",
       "      <td>Built-in flange Yes ; Slightly narrower for tighter spaces ; Designed with an 18 in. apron ; Dur...</td>\n",
       "    </tr>\n",
       "    <tr>\n",
       "      <th>100004</th>\n",
       "      <td>The Grape Solar 265-Watt Polycrystalline PV Solar Panel bonus pack bundles 4 Grape Solar 265-Wat...</td>\n",
       "      <td>Amperage (amps) 8.56 ; Positive power tolerance (0 to +5-Watt) ; Anti-reflective and anti-soilin...</td>\n",
       "    </tr>\n",
       "    <tr>\n",
       "      <th>100005</th>\n",
       "      <td>Update your bathroom with the Delta Vero Single-Handle Shower Faucet Trim Kit in Chrome. It has ...</td>\n",
       "      <td>Bath Faucet Type Combo Tub and Shower ; Built-in Water Filter No ; Includes the trim kit only, t...</td>\n",
       "    </tr>\n",
       "    <tr>\n",
       "      <th>...</th>\n",
       "      <td>...</td>\n",
       "      <td>...</td>\n",
       "    </tr>\n",
       "    <tr>\n",
       "      <th>224424</th>\n",
       "      <td>Create a neat yet stylish storage space for organizing bathroom essentials with the stufurhome N...</td>\n",
       "      <td>Assembly Required No ; Solid wood construction, only the side and backboard is plywood ; DTC sof...</td>\n",
       "    </tr>\n",
       "    <tr>\n",
       "      <th>224425</th>\n",
       "      <td>Our Bullnose Adirondack Chair Cushions fit Adirondack chairs, loveseats (requires two) and rocke...</td>\n",
       "      <td>Assembled Depth (in.) 49 in ; Assembled Height (in.) 2 in ; Assembled Width (in.) 20.5 in ; Resi...</td>\n",
       "    </tr>\n",
       "    <tr>\n",
       "      <th>224426</th>\n",
       "      <td>Joist hangers are designed to provide support underneath the joist, rafter or beam to provide a ...</td>\n",
       "      <td>NaN</td>\n",
       "    </tr>\n",
       "    <tr>\n",
       "      <th>224427</th>\n",
       "      <td>These socket cap screws are ideal for applications that require a well tooled appearance or broa...</td>\n",
       "      <td>NaN</td>\n",
       "    </tr>\n",
       "    <tr>\n",
       "      <th>224428</th>\n",
       "      <td>The Bosch quick change bi-metal hole saws feature Progressor tooth geometry, combining cutting t...</td>\n",
       "      <td>Arbor included No ; Bit Diameter 4 in ; Bit Length (in.) 1.6 ; Bit Material Bi-Metal ; Progresso...</td>\n",
       "    </tr>\n",
       "  </tbody>\n",
       "</table>\n",
       "<p>124428 rows × 2 columns</p>\n",
       "</div>"
      ],
      "text/plain": [
       "                                                                                             product_description  \\\n",
       "product_uid                                                                                                        \n",
       "100001       Not only do angles make joints stronger, they also provide more consistent, straight corners. Si...   \n",
       "100002       BEHR Premium Textured DECKOVER is an innovative solid color coating. It will bring your old, wea...   \n",
       "100003       Classic architecture meets contemporary design in the Ensemble Curve series, made of solid Vikre...   \n",
       "100004       The Grape Solar 265-Watt Polycrystalline PV Solar Panel bonus pack bundles 4 Grape Solar 265-Wat...   \n",
       "100005       Update your bathroom with the Delta Vero Single-Handle Shower Faucet Trim Kit in Chrome. It has ...   \n",
       "...                                                                                                          ...   \n",
       "224424       Create a neat yet stylish storage space for organizing bathroom essentials with the stufurhome N...   \n",
       "224425       Our Bullnose Adirondack Chair Cushions fit Adirondack chairs, loveseats (requires two) and rocke...   \n",
       "224426       Joist hangers are designed to provide support underneath the joist, rafter or beam to provide a ...   \n",
       "224427       These socket cap screws are ideal for applications that require a well tooled appearance or broa...   \n",
       "224428       The Bosch quick change bi-metal hole saws feature Progressor tooth geometry, combining cutting t...   \n",
       "\n",
       "                                                                                                     concat_desc  \n",
       "product_uid                                                                                                       \n",
       "100001       Versatile connector for various 90° connections and home repair projects ; Stronger than angled ...  \n",
       "100002       Application Method Brush,Roller,Spray ; Assembled Depth (in.) 6.63 in ; Assembled Height (in.) 7...  \n",
       "100003       Built-in flange Yes ; Slightly narrower for tighter spaces ; Designed with an 18 in. apron ; Dur...  \n",
       "100004       Amperage (amps) 8.56 ; Positive power tolerance (0 to +5-Watt) ; Anti-reflective and anti-soilin...  \n",
       "100005       Bath Faucet Type Combo Tub and Shower ; Built-in Water Filter No ; Includes the trim kit only, t...  \n",
       "...                                                                                                          ...  \n",
       "224424       Assembly Required No ; Solid wood construction, only the side and backboard is plywood ; DTC sof...  \n",
       "224425       Assembled Depth (in.) 49 in ; Assembled Height (in.) 2 in ; Assembled Width (in.) 20.5 in ; Resi...  \n",
       "224426                                                                                                       NaN  \n",
       "224427                                                                                                       NaN  \n",
       "224428       Arbor included No ; Bit Diameter 4 in ; Bit Length (in.) 1.6 ; Bit Material Bi-Metal ; Progresso...  \n",
       "\n",
       "[124428 rows x 2 columns]"
      ]
     },
     "execution_count": 163,
     "metadata": {},
     "output_type": "execute_result"
    }
   ],
   "source": [
    "product_desc_df"
   ]
  },
  {
   "cell_type": "markdown",
   "metadata": {},
   "source": [
    "TODO: explain the connection between description and attributes"
   ]
  },
  {
   "cell_type": "code",
   "execution_count": 68,
   "metadata": {},
   "outputs": [],
   "source": [
    "train_df = train_df.join(product_desc_df['product_description'], on='product_uid')\n",
    "train_df['product_description'] = train_df['product_title'] + ' : ' + train_df['product_description']\n",
    "train_df = train_df[['product_uid', 'search_term', 'product_description', 'relevance']]"
   ]
  },
  {
   "cell_type": "code",
   "execution_count": 69,
   "metadata": {},
   "outputs": [],
   "source": [
    "def tokenize_df(search_col, desc_col):\n",
    "    tokenized_search = pd.Series(map(lambda x: ' '.join(list(x)), search_col.values), index=search_col.index)\n",
    "    tokenized_desc = pd.Series(map(lambda x: ' '.join(list(x)), desc_col.values), index=desc_col.index)\n",
    "    return tokenized_search, tokenized_desc\n",
    "    \n",
    "train_df['search_term'], train_df['product_description']  = tokenize_df(train_df['search_term'], train_df['product_description'])"
   ]
  },
  {
   "cell_type": "code",
   "execution_count": 54,
   "metadata": {},
   "outputs": [
    {
     "data": {
      "text/plain": [
       "0                      s a m s u n g   f r o n t   l o a d   w a s h e r   3 . 7\n",
       "1    u p h o l s t e r y   w a s h i n g   m a c h i n e s   w i t h   s t e a m\n",
       "2          C O N C R E T E   &   M A S O N R Y   C L E A N E R   &   E T C H E R\n",
       "3                                            c o n c r e t e   f o r   p o n d s\n",
       "4                                          f l e x l o c k   f o r   c r a c k s\n",
       "5                                        B e l g i u m   b l o c k   p a v e r s\n",
       "6                                            o u r d o o r   p a t i o   t i l e\n",
       "7                                                  i n s u l a t i o n   r o l l\n",
       "8                                        6 f t   h   b a m b o o   f e n c i n g\n",
       "9                                    b a l c o n y   p r i v a c y   s c r e e n\n",
       "dtype: object"
      ]
     },
     "execution_count": 54,
     "metadata": {},
     "output_type": "execute_result"
    }
   ],
   "source": [
    "pd.Series(map(lambda x: ' '.join(list(x)), train_df.iloc[30:40:, :]['search_term'].values))"
   ]
  },
  {
   "cell_type": "code",
   "execution_count": 21,
   "metadata": {},
   "outputs": [
    {
     "data": {
      "text/plain": [
       "'a n g l e   b r a c k e t'"
      ]
     },
     "execution_count": 21,
     "metadata": {},
     "output_type": "execute_result"
    }
   ],
   "source": [
    "next(map(lambda x: ' '.join(list(x)), train_df.iloc[:20, :]['search_term'].values))"
   ]
  },
  {
   "cell_type": "code",
   "execution_count": 70,
   "metadata": {},
   "outputs": [
    {
     "data": {
      "text/html": [
       "<div>\n",
       "<style scoped>\n",
       "    .dataframe tbody tr th:only-of-type {\n",
       "        vertical-align: middle;\n",
       "    }\n",
       "\n",
       "    .dataframe tbody tr th {\n",
       "        vertical-align: top;\n",
       "    }\n",
       "\n",
       "    .dataframe thead th {\n",
       "        text-align: right;\n",
       "    }\n",
       "</style>\n",
       "<table border=\"1\" class=\"dataframe\">\n",
       "  <thead>\n",
       "    <tr style=\"text-align: right;\">\n",
       "      <th></th>\n",
       "      <th>product_uid</th>\n",
       "      <th>search_term</th>\n",
       "      <th>product_description</th>\n",
       "      <th>relevance</th>\n",
       "    </tr>\n",
       "    <tr>\n",
       "      <th>id</th>\n",
       "      <th></th>\n",
       "      <th></th>\n",
       "      <th></th>\n",
       "      <th></th>\n",
       "    </tr>\n",
       "  </thead>\n",
       "  <tbody>\n",
       "    <tr>\n",
       "      <th>2</th>\n",
       "      <td>100001</td>\n",
       "      <td>a n g l e   b r a c k e t</td>\n",
       "      <td>S i m p s o n   S t r o n g - T i e   1 2 - G a u g e   A n g l e   :   N o t   o n l y   d o   ...</td>\n",
       "      <td>3.00</td>\n",
       "    </tr>\n",
       "    <tr>\n",
       "      <th>3</th>\n",
       "      <td>100001</td>\n",
       "      <td>l   b r a c k e t</td>\n",
       "      <td>S i m p s o n   S t r o n g - T i e   1 2 - G a u g e   A n g l e   :   N o t   o n l y   d o   ...</td>\n",
       "      <td>2.50</td>\n",
       "    </tr>\n",
       "    <tr>\n",
       "      <th>9</th>\n",
       "      <td>100002</td>\n",
       "      <td>d e c k   o v e r</td>\n",
       "      <td>B E H R   P r e m i u m   T e x t u r e d   D e c k O v e r   1 - g a l .   # S C - 1 4 1   T u ...</td>\n",
       "      <td>3.00</td>\n",
       "    </tr>\n",
       "    <tr>\n",
       "      <th>16</th>\n",
       "      <td>100005</td>\n",
       "      <td>r a i n   s h o w e r   h e a d</td>\n",
       "      <td>D e l t a   V e r o   1 - H a n d l e   S h o w e r   O n l y   F a u c e t   T r i m   K i t   ...</td>\n",
       "      <td>2.33</td>\n",
       "    </tr>\n",
       "    <tr>\n",
       "      <th>17</th>\n",
       "      <td>100005</td>\n",
       "      <td>s h o w e r   o n l y   f a u c e t</td>\n",
       "      <td>D e l t a   V e r o   1 - H a n d l e   S h o w e r   O n l y   F a u c e t   T r i m   K i t   ...</td>\n",
       "      <td>2.67</td>\n",
       "    </tr>\n",
       "    <tr>\n",
       "      <th>...</th>\n",
       "      <td>...</td>\n",
       "      <td>...</td>\n",
       "      <td>...</td>\n",
       "      <td>...</td>\n",
       "    </tr>\n",
       "    <tr>\n",
       "      <th>221457</th>\n",
       "      <td>206638</td>\n",
       "      <td>t v   r i s e r   g l a s s</td>\n",
       "      <td>A t l a n t i c   W i n d o w p a n e   5 7 6   C D   o r   1 9 2   D V D   B l u - R a y   o r ...</td>\n",
       "      <td>1.00</td>\n",
       "    </tr>\n",
       "    <tr>\n",
       "      <th>221458</th>\n",
       "      <td>206639</td>\n",
       "      <td>r 2 0   h a l o g e n   l i g h t</td>\n",
       "      <td>P h i l i p s   4 0 - W a t t   H a l o g e n   R 2 0   F l o o d   L i g h t   B u l b   ( 1 2 ...</td>\n",
       "      <td>3.00</td>\n",
       "    </tr>\n",
       "    <tr>\n",
       "      <th>221463</th>\n",
       "      <td>206641</td>\n",
       "      <td>s c h l a g e   l o c k   s i e n a   h a l f   d u m m y   k n o b   w i t h</td>\n",
       "      <td>S c h l a g e   C a m e l o t   I n - A c t i v e   A g e d   B r o n z e   H a n d l e s e t   ...</td>\n",
       "      <td>2.33</td>\n",
       "    </tr>\n",
       "    <tr>\n",
       "      <th>221471</th>\n",
       "      <td>206648</td>\n",
       "      <td>z e n   g a r d e n     d e c o r</td>\n",
       "      <td>P l a s t e c   1 1   i n .   x   2 4   i n .   R o s e   G a r d e n   W a l l   D e c o r   S ...</td>\n",
       "      <td>3.00</td>\n",
       "    </tr>\n",
       "    <tr>\n",
       "      <th>221473</th>\n",
       "      <td>206650</td>\n",
       "      <td>f i n e   s h e e r   c u r t a i n   6 3   i n c h e s</td>\n",
       "      <td>L I C H T E N B E R G   P o o l   B l u e   N o .   9 1 8   M i l l e n n i a l   R y a n   H e ...</td>\n",
       "      <td>2.33</td>\n",
       "    </tr>\n",
       "  </tbody>\n",
       "</table>\n",
       "<p>74067 rows × 4 columns</p>\n",
       "</div>"
      ],
      "text/plain": [
       "        product_uid  \\\n",
       "id                    \n",
       "2            100001   \n",
       "3            100001   \n",
       "9            100002   \n",
       "16           100005   \n",
       "17           100005   \n",
       "...             ...   \n",
       "221457       206638   \n",
       "221458       206639   \n",
       "221463       206641   \n",
       "221471       206648   \n",
       "221473       206650   \n",
       "\n",
       "                                                                          search_term  \\\n",
       "id                                                                                      \n",
       "2                                                           a n g l e   b r a c k e t   \n",
       "3                                                                   l   b r a c k e t   \n",
       "9                                                                   d e c k   o v e r   \n",
       "16                                                    r a i n   s h o w e r   h e a d   \n",
       "17                                                s h o w e r   o n l y   f a u c e t   \n",
       "...                                                                               ...   \n",
       "221457                                                    t v   r i s e r   g l a s s   \n",
       "221458                                              r 2 0   h a l o g e n   l i g h t   \n",
       "221463  s c h l a g e   l o c k   s i e n a   h a l f   d u m m y   k n o b   w i t h   \n",
       "221471                                              z e n   g a r d e n     d e c o r   \n",
       "221473                        f i n e   s h e e r   c u r t a i n   6 3   i n c h e s   \n",
       "\n",
       "                                                                                        product_description  \\\n",
       "id                                                                                                            \n",
       "2       S i m p s o n   S t r o n g - T i e   1 2 - G a u g e   A n g l e   :   N o t   o n l y   d o   ...   \n",
       "3       S i m p s o n   S t r o n g - T i e   1 2 - G a u g e   A n g l e   :   N o t   o n l y   d o   ...   \n",
       "9       B E H R   P r e m i u m   T e x t u r e d   D e c k O v e r   1 - g a l .   # S C - 1 4 1   T u ...   \n",
       "16      D e l t a   V e r o   1 - H a n d l e   S h o w e r   O n l y   F a u c e t   T r i m   K i t   ...   \n",
       "17      D e l t a   V e r o   1 - H a n d l e   S h o w e r   O n l y   F a u c e t   T r i m   K i t   ...   \n",
       "...                                                                                                     ...   \n",
       "221457  A t l a n t i c   W i n d o w p a n e   5 7 6   C D   o r   1 9 2   D V D   B l u - R a y   o r ...   \n",
       "221458  P h i l i p s   4 0 - W a t t   H a l o g e n   R 2 0   F l o o d   L i g h t   B u l b   ( 1 2 ...   \n",
       "221463  S c h l a g e   C a m e l o t   I n - A c t i v e   A g e d   B r o n z e   H a n d l e s e t   ...   \n",
       "221471  P l a s t e c   1 1   i n .   x   2 4   i n .   R o s e   G a r d e n   W a l l   D e c o r   S ...   \n",
       "221473  L I C H T E N B E R G   P o o l   B l u e   N o .   9 1 8   M i l l e n n i a l   R y a n   H e ...   \n",
       "\n",
       "        relevance  \n",
       "id                 \n",
       "2            3.00  \n",
       "3            2.50  \n",
       "9            3.00  \n",
       "16           2.33  \n",
       "17           2.67  \n",
       "...           ...  \n",
       "221457       1.00  \n",
       "221458       3.00  \n",
       "221463       2.33  \n",
       "221471       3.00  \n",
       "221473       2.33  \n",
       "\n",
       "[74067 rows x 4 columns]"
      ]
     },
     "execution_count": 70,
     "metadata": {},
     "output_type": "execute_result"
    }
   ],
   "source": [
    "train_df"
   ]
  },
  {
   "cell_type": "markdown",
   "metadata": {},
   "source": [
    "# Character level LSTM\n",
    "\n",
    "## 1. Using character level processing to predict search relevance"
   ]
  },
  {
   "cell_type": "markdown",
   "metadata": {},
   "source": [
    "TODO: explain the replacement of items' description column"
   ]
  },
  {
   "cell_type": "code",
   "execution_count": null,
   "metadata": {},
   "outputs": [],
   "source": []
  }
 ],
 "metadata": {
  "kernelspec": {
   "display_name": "Python (tf-env)",
   "language": "python",
   "name": "tf-env"
  },
  "language_info": {
   "codemirror_mode": {
    "name": "ipython",
    "version": 3
   },
   "file_extension": ".py",
   "mimetype": "text/x-python",
   "name": "python",
   "nbconvert_exporter": "python",
   "pygments_lexer": "ipython3",
   "version": "3.8.6"
  }
 },
 "nbformat": 4,
 "nbformat_minor": 4
}
