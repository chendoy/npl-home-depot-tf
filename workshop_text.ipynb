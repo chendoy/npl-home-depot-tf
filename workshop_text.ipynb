{
 "cells": [
  {
   "cell_type": "markdown",
   "metadata": {},
   "source": [
    "# Practical Deep Learning Workshop 2021\n",
    "## Assignment 3 - Word Embeddings\n",
    " \n",
    "### Authors:\n",
    " \n",
    "1.   Chen Doytshman 205644941\n",
    "2.   Naor Kolet 205533060\n"
   ]
  },
  {
   "cell_type": "markdown",
   "metadata": {},
   "source": [
    "# 0. Imports"
   ]
  },
  {
   "cell_type": "code",
   "execution_count": 112,
   "metadata": {},
   "outputs": [],
   "source": [
    "import pandas as pd\n",
    "import numpy as np\n",
    " \n",
    "# TensorFlow\n",
    "import tensorflow as tf\n",
    "from tensorflow.keras.layers import Input, Embedding, LSTM, Concatenate\n",
    "from tensorflow.keras.layers import Dropout, Dense, Lambda, Multiply, Subtract, Flatten\n",
    "from tensorflow.keras.layers import Conv1D, MaxPooling1D, Activation\n",
    "\n",
    "from tensorflow.keras.models import Model\n",
    "from tensorflow.keras.optimizers import Adam\n",
    "from tensorflow.keras.preprocessing.sequence import pad_sequences\n",
    "\n",
    "# Scikit-learn\n",
    "#from sklearn.\n",
    "\n",
    "# Plots\n",
    "import seaborn as sns\n",
    "import matplotlib.pyplot as plt\n",
    "\n",
    "# Misc.\n",
    "import os\n",
    "import joblib\n",
    "from tqdm import tqdm_notebook as tqdm\n",
    "\n",
    "SEED = 42\n",
    "%matplotlib inline"
   ]
  },
  {
   "cell_type": "code",
   "execution_count": 2,
   "metadata": {},
   "outputs": [],
   "source": [
    "pd.set_option('display.max_colwidth', 100)"
   ]
  },
  {
   "cell_type": "code",
   "execution_count": 3,
   "metadata": {},
   "outputs": [
    {
     "data": {
      "application/vnd.jupyter.widget-view+json": {
       "model_id": "6ea9fd5343a1452e90891552a5cee6cf",
       "version_major": 2,
       "version_minor": 0
      },
      "text/plain": [
       "HBox(children=(IntProgress(value=1, bar_style='info', max=1), HTML(value='')))"
      ]
     },
     "metadata": {},
     "output_type": "display_data"
    },
    {
     "name": "stdout",
     "output_type": "stream",
     "text": [
      "\n"
     ]
    }
   ],
   "source": [
    "import zipfile\n",
    "DATA_DIR = 'home-depot-product-search-relevance'\n",
    "\n",
    "files = [f for f in os.listdir(DATA_DIR) if f.endswith('zip')]\n",
    "for file in tqdm(files):\n",
    "    with zipfile.ZipFile(f'{DATA_DIR}/{file}') as zf:\n",
    "        zf.extractall(DATA_DIR)\n",
    "        os.remove(f'{DATA_DIR}/{file}')"
   ]
  },
  {
   "cell_type": "markdown",
   "metadata": {},
   "source": [
    "# 0.1 Data Preparation, EDA"
   ]
  },
  {
   "cell_type": "markdown",
   "metadata": {},
   "source": [
    "Let's load the data:"
   ]
  },
  {
   "cell_type": "code",
   "execution_count": 49,
   "metadata": {},
   "outputs": [],
   "source": [
    "train_df = pd.read_csv(f'{DATA_DIR}/train.csv', index_col='id', encoding='latin-1')\n",
    "product_desc_df = pd.read_csv(f'{DATA_DIR}/product_descriptions.csv', index_col='product_uid')\n",
    "attributes_df = pd.read_csv(f'{DATA_DIR}/attributes.csv', index_col=['product_uid'], dtype={'product_uid': 'Int64'})"
   ]
  },
  {
   "cell_type": "code",
   "execution_count": 5,
   "metadata": {},
   "outputs": [],
   "source": [
    "test_path = f'{DATA_DIR}/test_labels.csv'\n",
    "if os.path.exists(test_path):\n",
    "    test_df = pd.read_csv(test_path)\n",
    "else:\n",
    "    test_df = pd.read_csv(f'{DATA_DIR}/test.csv', index_col='id', encoding='latin-1')\n",
    "    sol = pd.read_csv(f'{DATA_DIR}/solution.csv', index_col='id', encoding='latin-1')\n",
    "    test_df = test_df[sol.relevance != -1]\n",
    "    test_df = test_df.join(sol.relevance, on='id')\n",
    "    test_df.to_csv(test_path)"
   ]
  },
  {
   "cell_type": "code",
   "execution_count": 6,
   "metadata": {},
   "outputs": [
    {
     "data": {
      "text/html": [
       "<div>\n",
       "<style scoped>\n",
       "    .dataframe tbody tr th:only-of-type {\n",
       "        vertical-align: middle;\n",
       "    }\n",
       "\n",
       "    .dataframe tbody tr th {\n",
       "        vertical-align: top;\n",
       "    }\n",
       "\n",
       "    .dataframe thead th {\n",
       "        text-align: right;\n",
       "    }\n",
       "</style>\n",
       "<table border=\"1\" class=\"dataframe\">\n",
       "  <thead>\n",
       "    <tr style=\"text-align: right;\">\n",
       "      <th></th>\n",
       "      <th>product_uid</th>\n",
       "      <th>product_title</th>\n",
       "      <th>search_term</th>\n",
       "      <th>relevance</th>\n",
       "    </tr>\n",
       "    <tr>\n",
       "      <th>id</th>\n",
       "      <th></th>\n",
       "      <th></th>\n",
       "      <th></th>\n",
       "      <th></th>\n",
       "    </tr>\n",
       "  </thead>\n",
       "  <tbody>\n",
       "    <tr>\n",
       "      <th>2</th>\n",
       "      <td>100001</td>\n",
       "      <td>Simpson Strong-Tie 12-Gauge Angle</td>\n",
       "      <td>angle bracket</td>\n",
       "      <td>3.00</td>\n",
       "    </tr>\n",
       "    <tr>\n",
       "      <th>3</th>\n",
       "      <td>100001</td>\n",
       "      <td>Simpson Strong-Tie 12-Gauge Angle</td>\n",
       "      <td>l bracket</td>\n",
       "      <td>2.50</td>\n",
       "    </tr>\n",
       "    <tr>\n",
       "      <th>9</th>\n",
       "      <td>100002</td>\n",
       "      <td>BEHR Premium Textured DeckOver 1-gal. #SC-141 Tugboat Wood and Concrete Coating</td>\n",
       "      <td>deck over</td>\n",
       "      <td>3.00</td>\n",
       "    </tr>\n",
       "    <tr>\n",
       "      <th>16</th>\n",
       "      <td>100005</td>\n",
       "      <td>Delta Vero 1-Handle Shower Only Faucet Trim Kit in Chrome (Valve Not Included)</td>\n",
       "      <td>rain shower head</td>\n",
       "      <td>2.33</td>\n",
       "    </tr>\n",
       "    <tr>\n",
       "      <th>17</th>\n",
       "      <td>100005</td>\n",
       "      <td>Delta Vero 1-Handle Shower Only Faucet Trim Kit in Chrome (Valve Not Included)</td>\n",
       "      <td>shower only faucet</td>\n",
       "      <td>2.67</td>\n",
       "    </tr>\n",
       "  </tbody>\n",
       "</table>\n",
       "</div>"
      ],
      "text/plain": [
       "    product_uid  \\\n",
       "id                \n",
       "2        100001   \n",
       "3        100001   \n",
       "9        100002   \n",
       "16       100005   \n",
       "17       100005   \n",
       "\n",
       "                                                                      product_title  \\\n",
       "id                                                                                    \n",
       "2                                                 Simpson Strong-Tie 12-Gauge Angle   \n",
       "3                                                 Simpson Strong-Tie 12-Gauge Angle   \n",
       "9   BEHR Premium Textured DeckOver 1-gal. #SC-141 Tugboat Wood and Concrete Coating   \n",
       "16   Delta Vero 1-Handle Shower Only Faucet Trim Kit in Chrome (Valve Not Included)   \n",
       "17   Delta Vero 1-Handle Shower Only Faucet Trim Kit in Chrome (Valve Not Included)   \n",
       "\n",
       "           search_term  relevance  \n",
       "id                                 \n",
       "2        angle bracket       3.00  \n",
       "3            l bracket       2.50  \n",
       "9            deck over       3.00  \n",
       "16    rain shower head       2.33  \n",
       "17  shower only faucet       2.67  "
      ]
     },
     "execution_count": 6,
     "metadata": {},
     "output_type": "execute_result"
    }
   ],
   "source": [
    "train_df.head()"
   ]
  },
  {
   "cell_type": "code",
   "execution_count": 7,
   "metadata": {},
   "outputs": [
    {
     "data": {
      "image/png": "[encoded data removed]",
      "text/plain": [
       "<Figure size 720x432 with 1 Axes>"
      ]
     },
     "metadata": {
      "needs_background": "light"
     },
     "output_type": "display_data"
    }
   ],
   "source": [
    "plt.figure(figsize=(10,6))\n",
    "ax = sns.countplot(data=train_df, x=\"relevance\")\n",
    "\n",
    "relevance_values = train_df[\"relevance\"].value_counts().sort_index()\n",
    "\n",
    "for p, label in zip(ax.patches, relevance_values):\n",
    "    ax.annotate(label, (p.get_x(), p.get_height()+0.5))"
   ]
  },
  {
   "cell_type": "code",
   "execution_count": 8,
   "metadata": {},
   "outputs": [
    {
     "data": {
      "text/html": [
       "<div>\n",
       "<style scoped>\n",
       "    .dataframe tbody tr th:only-of-type {\n",
       "        vertical-align: middle;\n",
       "    }\n",
       "\n",
       "    .dataframe tbody tr th {\n",
       "        vertical-align: top;\n",
       "    }\n",
       "\n",
       "    .dataframe thead th {\n",
       "        text-align: right;\n",
       "    }\n",
       "</style>\n",
       "<table border=\"1\" class=\"dataframe\">\n",
       "  <thead>\n",
       "    <tr style=\"text-align: right;\">\n",
       "      <th></th>\n",
       "      <th>product_description</th>\n",
       "    </tr>\n",
       "    <tr>\n",
       "      <th>product_uid</th>\n",
       "      <th></th>\n",
       "    </tr>\n",
       "  </thead>\n",
       "  <tbody>\n",
       "    <tr>\n",
       "      <th>100001</th>\n",
       "      <td>Not only do angles make joints stronger, they also provide more consistent, straight corners. Si...</td>\n",
       "    </tr>\n",
       "    <tr>\n",
       "      <th>100002</th>\n",
       "      <td>BEHR Premium Textured DECKOVER is an innovative solid color coating. It will bring your old, wea...</td>\n",
       "    </tr>\n",
       "    <tr>\n",
       "      <th>100003</th>\n",
       "      <td>Classic architecture meets contemporary design in the Ensemble Curve series, made of solid Vikre...</td>\n",
       "    </tr>\n",
       "    <tr>\n",
       "      <th>100004</th>\n",
       "      <td>The Grape Solar 265-Watt Polycrystalline PV Solar Panel bonus pack bundles 4 Grape Solar 265-Wat...</td>\n",
       "    </tr>\n",
       "    <tr>\n",
       "      <th>100005</th>\n",
       "      <td>Update your bathroom with the Delta Vero Single-Handle Shower Faucet Trim Kit in Chrome. It has ...</td>\n",
       "    </tr>\n",
       "  </tbody>\n",
       "</table>\n",
       "</div>"
      ],
      "text/plain": [
       "                                                                                             product_description\n",
       "product_uid                                                                                                     \n",
       "100001       Not only do angles make joints stronger, they also provide more consistent, straight corners. Si...\n",
       "100002       BEHR Premium Textured DECKOVER is an innovative solid color coating. It will bring your old, wea...\n",
       "100003       Classic architecture meets contemporary design in the Ensemble Curve series, made of solid Vikre...\n",
       "100004       The Grape Solar 265-Watt Polycrystalline PV Solar Panel bonus pack bundles 4 Grape Solar 265-Wat...\n",
       "100005       Update your bathroom with the Delta Vero Single-Handle Shower Faucet Trim Kit in Chrome. It has ..."
      ]
     },
     "execution_count": 8,
     "metadata": {},
     "output_type": "execute_result"
    }
   ],
   "source": [
    "product_desc_df.head()"
   ]
  },
  {
   "cell_type": "code",
   "execution_count": 9,
   "metadata": {},
   "outputs": [
    {
     "data": {
      "text/plain": [
       "'Not only do angles make joints stronger, they also provide more consistent, straight corners. Simpson Strong-Tie offers a wide variety of angles in various sizes and thicknesses to handle light-duty jobs or projects where a structural connection is needed. Some can be bent (skewed) to match the project. For outdoor projects or those where moisture is present, use our ZMAX zinc-coated connectors, which provide extra resistance against corrosion (look for a \"Z\" at the end of the model number).Versatile connector for various 90 connections and home repair projectsStronger than angled nailing or screw fastening aloneHelp ensure joints are consistently straight and strongDimensions: 3 in. x 3 in. x 1-1/2 in.Made from 12-Gauge steelGalvanized for extra corrosion resistanceInstall with 10d common nails or #9 x 1-1/2 in. Strong-Drive SD screws'"
      ]
     },
     "execution_count": 9,
     "metadata": {},
     "output_type": "execute_result"
    }
   ],
   "source": [
    "product_desc_df.iloc[0, 0]"
   ]
  },
  {
   "cell_type": "code",
   "execution_count": 10,
   "metadata": {},
   "outputs": [
    {
     "data": {
      "text/html": [
       "<div>\n",
       "<style scoped>\n",
       "    .dataframe tbody tr th:only-of-type {\n",
       "        vertical-align: middle;\n",
       "    }\n",
       "\n",
       "    .dataframe tbody tr th {\n",
       "        vertical-align: top;\n",
       "    }\n",
       "\n",
       "    .dataframe thead th {\n",
       "        text-align: right;\n",
       "    }\n",
       "</style>\n",
       "<table border=\"1\" class=\"dataframe\">\n",
       "  <thead>\n",
       "    <tr style=\"text-align: right;\">\n",
       "      <th></th>\n",
       "      <th>name</th>\n",
       "      <th>value</th>\n",
       "    </tr>\n",
       "    <tr>\n",
       "      <th>product_uid</th>\n",
       "      <th></th>\n",
       "      <th></th>\n",
       "    </tr>\n",
       "  </thead>\n",
       "  <tbody>\n",
       "    <tr>\n",
       "      <th>100001</th>\n",
       "      <td>Bullet01</td>\n",
       "      <td>Versatile connector for various 90° connections and home repair projects</td>\n",
       "    </tr>\n",
       "    <tr>\n",
       "      <th>100001</th>\n",
       "      <td>Bullet02</td>\n",
       "      <td>Stronger than angled nailing or screw fastening alone</td>\n",
       "    </tr>\n",
       "    <tr>\n",
       "      <th>100001</th>\n",
       "      <td>Bullet03</td>\n",
       "      <td>Help ensure joints are consistently straight and strong</td>\n",
       "    </tr>\n",
       "    <tr>\n",
       "      <th>100001</th>\n",
       "      <td>Bullet04</td>\n",
       "      <td>Dimensions: 3 in. x 3 in. x 1-1/2 in.</td>\n",
       "    </tr>\n",
       "    <tr>\n",
       "      <th>100001</th>\n",
       "      <td>Bullet05</td>\n",
       "      <td>Made from 12-Gauge steel</td>\n",
       "    </tr>\n",
       "    <tr>\n",
       "      <th>100001</th>\n",
       "      <td>Bullet06</td>\n",
       "      <td>Galvanized for extra corrosion resistance</td>\n",
       "    </tr>\n",
       "    <tr>\n",
       "      <th>100001</th>\n",
       "      <td>Bullet07</td>\n",
       "      <td>Install with 10d common nails or #9 x 1-1/2 in. Strong-Drive SD screws</td>\n",
       "    </tr>\n",
       "    <tr>\n",
       "      <th>100001</th>\n",
       "      <td>Gauge</td>\n",
       "      <td>12</td>\n",
       "    </tr>\n",
       "    <tr>\n",
       "      <th>100001</th>\n",
       "      <td>Material</td>\n",
       "      <td>Galvanized Steel</td>\n",
       "    </tr>\n",
       "    <tr>\n",
       "      <th>100001</th>\n",
       "      <td>MFG Brand Name</td>\n",
       "      <td>Simpson Strong-Tie</td>\n",
       "    </tr>\n",
       "    <tr>\n",
       "      <th>100001</th>\n",
       "      <td>Number of Pieces</td>\n",
       "      <td>1</td>\n",
       "    </tr>\n",
       "    <tr>\n",
       "      <th>100001</th>\n",
       "      <td>Product Depth (in.)</td>\n",
       "      <td>1.5</td>\n",
       "    </tr>\n",
       "    <tr>\n",
       "      <th>100001</th>\n",
       "      <td>Product Height (in.)</td>\n",
       "      <td>3</td>\n",
       "    </tr>\n",
       "    <tr>\n",
       "      <th>100001</th>\n",
       "      <td>Product Weight (lb.)</td>\n",
       "      <td>0.26</td>\n",
       "    </tr>\n",
       "    <tr>\n",
       "      <th>100001</th>\n",
       "      <td>Product Width (in.)</td>\n",
       "      <td>3</td>\n",
       "    </tr>\n",
       "  </tbody>\n",
       "</table>\n",
       "</div>"
      ],
      "text/plain": [
       "                             name  \\\n",
       "product_uid                         \n",
       "100001                   Bullet01   \n",
       "100001                   Bullet02   \n",
       "100001                   Bullet03   \n",
       "100001                   Bullet04   \n",
       "100001                   Bullet05   \n",
       "100001                   Bullet06   \n",
       "100001                   Bullet07   \n",
       "100001                      Gauge   \n",
       "100001                   Material   \n",
       "100001             MFG Brand Name   \n",
       "100001           Number of Pieces   \n",
       "100001        Product Depth (in.)   \n",
       "100001       Product Height (in.)   \n",
       "100001       Product Weight (lb.)   \n",
       "100001        Product Width (in.)   \n",
       "\n",
       "                                                                                value  \n",
       "product_uid                                                                            \n",
       "100001       Versatile connector for various 90° connections and home repair projects  \n",
       "100001                          Stronger than angled nailing or screw fastening alone  \n",
       "100001                        Help ensure joints are consistently straight and strong  \n",
       "100001                                          Dimensions: 3 in. x 3 in. x 1-1/2 in.  \n",
       "100001                                                       Made from 12-Gauge steel  \n",
       "100001                                      Galvanized for extra corrosion resistance  \n",
       "100001         Install with 10d common nails or #9 x 1-1/2 in. Strong-Drive SD screws  \n",
       "100001                                                                             12  \n",
       "100001                                                               Galvanized Steel  \n",
       "100001                                                             Simpson Strong-Tie  \n",
       "100001                                                                              1  \n",
       "100001                                                                            1.5  \n",
       "100001                                                                              3  \n",
       "100001                                                                           0.26  \n",
       "100001                                                                              3  "
      ]
     },
     "execution_count": 10,
     "metadata": {},
     "output_type": "execute_result"
    }
   ],
   "source": [
    "attributes_df[attributes_df.index.isin([100001])]"
   ]
  },
  {
   "cell_type": "markdown",
   "metadata": {},
   "source": [
    "def concat_attr(record):\n",
    "    name, value = record\n",
    "    name = f'{name} ' if not name.startswith('Bullet') else '' # Delete name if it's a \"Bullet..\"\n",
    "    return f'{name}{value} ;'\n",
    "\n",
    "product_groups = attributes_df.groupby('product_uid')\n",
    "for product_uid, df in product_groups:\n",
    "    joined_attrs = ' '.join(map(concat_attr, df.values))\n",
    "    product_desc_df.loc[product_uid, 'concat_desc'] = joined_attrs"
   ]
  },
  {
   "cell_type": "markdown",
   "metadata": {},
   "source": [
    "product_desc_df"
   ]
  },
  {
   "cell_type": "markdown",
   "metadata": {},
   "source": [
    "TODO: explain the connection between description and attributes"
   ]
  },
  {
   "cell_type": "code",
   "execution_count": 56,
   "metadata": {},
   "outputs": [],
   "source": [
    "train_df = train_df.join(product_desc_df['product_description'], on='product_uid')\n",
    "train_df['product_description'] = train_df['product_title'] + ' : ' + train_df['product_description']\n",
    "train_df = train_df[['product_uid', 'search_term', 'product_description', 'relevance']]"
   ]
  },
  {
   "cell_type": "markdown",
   "metadata": {},
   "source": [
    "# Preprocessing"
   ]
  },
  {
   "cell_type": "code",
   "execution_count": 106,
   "metadata": {},
   "outputs": [],
   "source": [
    "def tokenize_serie(serie):\n",
    "    serie = pd.Series(map(lambda x: list(map(ord, list(x))), serie.values), index=serie.index)\n",
    "    max_len = min(serie.apply(len).max(), 1500)\n",
    "    return pad_sequences(serie, max_len, padding='post')"
   ]
  },
  {
   "cell_type": "code",
   "execution_count": 107,
   "metadata": {},
   "outputs": [
    {
     "data": {
      "text/plain": [
       "((74067, 60), (74067, 1500))"
      ]
     },
     "execution_count": 107,
     "metadata": {},
     "output_type": "execute_result"
    }
   ],
   "source": [
    "train_st = tokenize_serie(train_df['search_term'])\n",
    "train_desc = tokenize_serie(train_df['product_description'])\n",
    "\n",
    "train_st.shape, train_desc.shape"
   ]
  },
  {
   "cell_type": "markdown",
   "metadata": {},
   "source": [
    "# Character level LSTM\n",
    "\n",
    "## 1. Using character level processing to predict search relevance"
   ]
  },
  {
   "cell_type": "markdown",
   "metadata": {},
   "source": [
    "TODO: explain the replacement of items' description column"
   ]
  },
  {
   "cell_type": "code",
   "execution_count": 135,
   "metadata": {},
   "outputs": [],
   "source": [
    "from tensorflow.keras import backend as K\n",
    "\n",
    "def cosine_distance(vests):\n",
    "    x, y = vests\n",
    "    x = K.l2_normalize(x, axis=-1)\n",
    "    y = K.l2_normalize(y, axis=-1)\n",
    "    return -K.mean(x * y, axis=-1, keepdims=True)\n",
    "\n",
    "def cos_dist_output_shape(shapes):\n",
    "    shape1, shape2 = shapes\n",
    "    return (shape1[0],1)\n",
    "\n",
    "def root_mean_squared_error(y_true, y_pred):\n",
    "        return K.sqrt(K.mean(K.square(y_pred - y_true))) \n"
   ]
  },
  {
   "cell_type": "markdown",
   "metadata": {},
   "source": [
    "https://github.com/prabhnoor0212/Siamese-Network-Text-Similarity"
   ]
  },
  {
   "cell_type": "code",
   "execution_count": 101,
   "metadata": {},
   "outputs": [],
   "source": [
    "from sklearn.metrics import roc_auc_score\n",
    "\n",
    "def auroc(y_true, y_pred):\n",
    "    return tf.py_function(roc_auc_score, (y_true, y_pred), tf.double)"
   ]
  },
  {
   "cell_type": "code",
   "execution_count": 152,
   "metadata": {},
   "outputs": [],
   "source": [
    "sm = 0\n",
    "\n",
    "def common_model(length):\n",
    "    global sm\n",
    "    inp = Input(shape=(length, 1))\n",
    "    X = Conv1D(64, 10, activation='relu')(inp)\n",
    "    X = MaxPooling1D()(X)\n",
    "    X = Flatten()(X)\n",
    "    X = Activation('relu')(X)\n",
    "    X = Dense(128, activation='relu')(X)\n",
    "    \n",
    "    sm += 1\n",
    "    return Model(inp, X, name=f'siamese_model_{sm}')"
   ]
  },
  {
   "cell_type": "code",
   "execution_count": 153,
   "metadata": {},
   "outputs": [
    {
     "name": "stdout",
     "output_type": "stream",
     "text": [
      "Model: \"siamese_model_1\"\n",
      "_________________________________________________________________\n",
      "Layer (type)                 Output Shape              Param #   \n",
      "=================================================================\n",
      "input_75 (InputLayer)        [(None, 128, 1)]          0         \n",
      "_________________________________________________________________\n",
      "conv1d_6 (Conv1D)            (None, 119, 64)           704       \n",
      "_________________________________________________________________\n",
      "max_pooling1d_5 (MaxPooling1 (None, 59, 64)            0         \n",
      "_________________________________________________________________\n",
      "flatten_60 (Flatten)         (None, 3776)              0         \n",
      "_________________________________________________________________\n",
      "activation_5 (Activation)    (None, 3776)              0         \n",
      "_________________________________________________________________\n",
      "dense_6 (Dense)              (None, 128)               483456    \n",
      "=================================================================\n",
      "Total params: 484,160\n",
      "Trainable params: 484,160\n",
      "Non-trainable params: 0\n",
      "_________________________________________________________________\n"
     ]
    }
   ],
   "source": [
    "common_model(128).summary()"
   ]
  },
  {
   "cell_type": "code",
   "execution_count": 157,
   "metadata": {},
   "outputs": [],
   "source": [
    "def init_siamese_model_v2(search_term_len, product_description_len, output=None):\n",
    "    input_1 = Input(shape=(search_term_len, 1))\n",
    "    input_2 = Input(shape=(product_description_len, 1))\n",
    "\n",
    "\n",
    "#     common_embed = Embedding(\n",
    "#         name=\"synopsis_embedd\",\n",
    "#         input_dim =len(t.word_index)+1,\n",
    "#         output_dim=len(embeddings_index['no']),\n",
    "#         input_length = train_q1_seq.shape[1],\n",
    "#         trainable=False) \n",
    "    \n",
    "    lstm_1 = LSTM(128)(input_1)\n",
    "    lstm_2 = LSTM(128)(input_2)\n",
    "    \n",
    "    expand_layer = Lambda(lambda tensor: tensor[...,np.newaxis],name=\"expand_dim_layer\")\n",
    "    \n",
    "    expended_1 = expand_layer(lstm_1)\n",
    "    expended_2 = expand_layer(lstm_2)\n",
    "    \n",
    "    sm = common_model(128)\n",
    "\n",
    "    vector_1 = sm(expended_1)\n",
    "    \n",
    "    vector_2 = sm(expended_2)\n",
    "    \n",
    "    x3 = Subtract()([vector_1, vector_2])\n",
    "    x3 = Multiply()([x3, x3])\n",
    "\n",
    "    x1_ = Multiply()([vector_1, vector_1])\n",
    "    x2_ = Multiply()([vector_2, vector_2])\n",
    "    x4 = Subtract()([x1_, x2_])\n",
    "    \n",
    "    x5 = Lambda(cosine_distance, output_shape=cos_dist_output_shape)([vector_1, vector_2])\n",
    "\n",
    "    conc = Concatenate(axis=-1)([x5,x4, x3])\n",
    "\n",
    "    x = Dense(100, activation=\"relu\")(conc)\n",
    "    x = Dropout(0.01)(x)\n",
    "    out = Dense(1, activation=\"relu\", name = 'out')(x)\n",
    "\n",
    "    model = Model([input_1, input_2], out)\n",
    "\n",
    "    model.compile(loss='mse', optimizer=Adam(0.00001))\n",
    "    \n",
    "    return model"
   ]
  },
  {
   "cell_type": "code",
   "execution_count": 140,
   "metadata": {},
   "outputs": [],
   "source": [
    "def init_siamese_model(search_term_len, product_description_len, output=None):\n",
    "    input_1 = Input(shape=(search_term_len, 1))\n",
    "    input_2 = Input(shape=(product_description_len, 1))\n",
    "\n",
    "\n",
    "#     common_embed = Embedding(\n",
    "#         name=\"synopsis_embedd\",\n",
    "#         input_dim =len(t.word_index)+1,\n",
    "#         output_dim=len(embeddings_index['no']),\n",
    "#         input_length = train_q1_seq.shape[1],\n",
    "#         trainable=False) \n",
    "    \n",
    "    vector_1 = LSTM(128)(input_1)\n",
    "    vector_2 = LSTM(128)(input_2)\n",
    "\n",
    "    x3 = Subtract()([vector_1, vector_2])\n",
    "    x3 = Multiply()([x3, x3])\n",
    "\n",
    "    x1_ = Multiply()([vector_1, vector_1])\n",
    "    x2_ = Multiply()([vector_2, vector_2])\n",
    "    x4 = Subtract()([x1_, x2_])\n",
    "    \n",
    "    #https://stackoverflow.com/a/51003359/10650182\n",
    "    x5 = Lambda(cosine_distance, output_shape=cos_dist_output_shape)([vector_1, vector_2])\n",
    "\n",
    "    conc = Concatenate(axis=-1)([x5,x4, x3])\n",
    "\n",
    "    x = Dense(100, activation=\"relu\", name='conc_layer')(conc)\n",
    "    x = Dropout(0.01)(x)\n",
    "    out = Dense(1, activation=\"relu\", name = 'out')(x)\n",
    "\n",
    "    model = Model([input_1, input_2], out)\n",
    "\n",
    "    model.compile(loss='mse', optimizer=Adam(0.00001))\n",
    "    \n",
    "    return model"
   ]
  },
  {
   "cell_type": "code",
   "execution_count": 141,
   "metadata": {},
   "outputs": [
    {
     "name": "stdout",
     "output_type": "stream",
     "text": [
      "Model: \"model_21\"\n",
      "__________________________________________________________________________________________________\n",
      "Layer (type)                    Output Shape         Param #     Connected to                     \n",
      "==================================================================================================\n",
      "input_61 (InputLayer)           [(None, 60, 1)]      0                                            \n",
      "__________________________________________________________________________________________________\n",
      "input_62 (InputLayer)           [(None, 1500, 1)]    0                                            \n",
      "__________________________________________________________________________________________________\n",
      "lstm_51 (LSTM)                  (None, 128)          66560       input_61[0][0]                   \n",
      "__________________________________________________________________________________________________\n",
      "lstm_52 (LSTM)                  (None, 128)          66560       input_62[0][0]                   \n",
      "__________________________________________________________________________________________________\n",
      "flatten_56 (Flatten)            (None, 128)          0           lstm_51[0][0]                    \n",
      "__________________________________________________________________________________________________\n",
      "flatten_57 (Flatten)            (None, 128)          0           lstm_52[0][0]                    \n",
      "__________________________________________________________________________________________________\n",
      "multiply_68 (Multiply)          (None, 128)          0           flatten_56[0][0]                 \n",
      "                                                                 flatten_56[0][0]                 \n",
      "__________________________________________________________________________________________________\n",
      "multiply_69 (Multiply)          (None, 128)          0           flatten_57[0][0]                 \n",
      "                                                                 flatten_57[0][0]                 \n",
      "__________________________________________________________________________________________________\n",
      "subtract_48 (Subtract)          (None, 128)          0           flatten_56[0][0]                 \n",
      "                                                                 flatten_57[0][0]                 \n",
      "__________________________________________________________________________________________________\n",
      "lambda_22 (Lambda)              (None, 1)            0           flatten_56[0][0]                 \n",
      "                                                                 flatten_57[0][0]                 \n",
      "__________________________________________________________________________________________________\n",
      "subtract_49 (Subtract)          (None, 128)          0           multiply_68[0][0]                \n",
      "                                                                 multiply_69[0][0]                \n",
      "__________________________________________________________________________________________________\n",
      "multiply_67 (Multiply)          (None, 128)          0           subtract_48[0][0]                \n",
      "                                                                 subtract_48[0][0]                \n",
      "__________________________________________________________________________________________________\n",
      "concatenate_21 (Concatenate)    (None, 257)          0           lambda_22[0][0]                  \n",
      "                                                                 subtract_49[0][0]                \n",
      "                                                                 multiply_67[0][0]                \n",
      "__________________________________________________________________________________________________\n",
      "conc_layer (Dense)              (None, 100)          25800       concatenate_21[0][0]             \n",
      "__________________________________________________________________________________________________\n",
      "dropout_21 (Dropout)            (None, 100)          0           conc_layer[0][0]                 \n",
      "__________________________________________________________________________________________________\n",
      "out (Dense)                     (None, 1)            101         dropout_21[0][0]                 \n",
      "==================================================================================================\n",
      "Total params: 159,021\n",
      "Trainable params: 159,021\n",
      "Non-trainable params: 0\n",
      "__________________________________________________________________________________________________\n"
     ]
    }
   ],
   "source": [
    "init_siamese_model(train_st.shape[1],train_desc.shape[1]).summary()"
   ]
  },
  {
   "cell_type": "code",
   "execution_count": 160,
   "metadata": {},
   "outputs": [
    {
     "name": "stdout",
     "output_type": "stream",
     "text": [
      "Epoch 1/10\n",
      "446/446 [==============================] - 45s 100ms/step - loss: 4.8879 - val_loss: 0.4092\n",
      "Epoch 2/10\n",
      "446/446 [==============================] - 36s 80ms/step - loss: 0.2994 - val_loss: 0.3188\n",
      "Epoch 3/10\n",
      "446/446 [==============================] - 32s 73ms/step - loss: 0.2871 - val_loss: 0.3100\n",
      "Epoch 4/10\n",
      "446/446 [==============================] - 32s 73ms/step - loss: 0.2864 - val_loss: 0.3117\n",
      "Epoch 5/10\n",
      "446/446 [==============================] - 32s 72ms/step - loss: 0.2859 - val_loss: 0.3045\n",
      "Epoch 6/10\n",
      "446/446 [==============================] - 32s 72ms/step - loss: 0.2856 - val_loss: 0.3145\n",
      "Epoch 7/10\n",
      "446/446 [==============================] - 32s 73ms/step - loss: 0.2853 - val_loss: 0.3153\n",
      "Epoch 8/10\n",
      "446/446 [==============================] - 32s 72ms/step - loss: 0.2842 - val_loss: 0.3064\n",
      "Epoch 9/10\n",
      "446/446 [==============================] - 32s 72ms/step - loss: 0.2842 - val_loss: 0.3095\n",
      "Epoch 10/10\n",
      "446/446 [==============================] - 32s 72ms/step - loss: 0.2834 - val_loss: 0.3111\n"
     ]
    },
    {
     "data": {
      "text/plain": [
       "<tensorflow.python.keras.callbacks.History at 0x7f0735f1de50>"
      ]
     },
     "execution_count": 160,
     "metadata": {},
     "output_type": "execute_result"
    }
   ],
   "source": [
    "char_model_v1 = init_siamese_model(train_st.shape[1],train_desc.shape[1])\n",
    "\n",
    "char_model_v1.fit(\n",
    "    x=[np.expand_dims(train_st,axis=2), np.expand_dims(train_desc,axis=2)],\n",
    "    y= train_df.relevance,\n",
    "    epochs=10,\n",
    "    batch_size=128,\n",
    "    validation_split=0.23\n",
    ")"
   ]
  },
  {
   "cell_type": "code",
   "execution_count": 158,
   "metadata": {},
   "outputs": [
    {
     "name": "stdout",
     "output_type": "stream",
     "text": [
      "Model: \"model_27\"\n",
      "__________________________________________________________________________________________________\n",
      "Layer (type)                    Output Shape         Param #     Connected to                     \n",
      "==================================================================================================\n",
      "input_82 (InputLayer)           [(None, 60, 1)]      0                                            \n",
      "__________________________________________________________________________________________________\n",
      "input_83 (InputLayer)           [(None, 1500, 1)]    0                                            \n",
      "__________________________________________________________________________________________________\n",
      "lstm_65 (LSTM)                  (None, 128)          66560       input_82[0][0]                   \n",
      "__________________________________________________________________________________________________\n",
      "lstm_66 (LSTM)                  (None, 128)          66560       input_83[0][0]                   \n",
      "__________________________________________________________________________________________________\n",
      "expand_dim_layer (Lambda)       (None, 128, 1)       0           lstm_65[0][0]                    \n",
      "                                                                 lstm_66[0][0]                    \n",
      "__________________________________________________________________________________________________\n",
      "siamese_model_4 (Model)         (None, 128)          484160      expand_dim_layer[0][0]           \n",
      "                                                                 expand_dim_layer[1][0]           \n",
      "__________________________________________________________________________________________________\n",
      "multiply_74 (Multiply)          (None, 128)          0           siamese_model_4[1][0]            \n",
      "                                                                 siamese_model_4[1][0]            \n",
      "__________________________________________________________________________________________________\n",
      "multiply_75 (Multiply)          (None, 128)          0           siamese_model_4[2][0]            \n",
      "                                                                 siamese_model_4[2][0]            \n",
      "__________________________________________________________________________________________________\n",
      "subtract_52 (Subtract)          (None, 128)          0           siamese_model_4[1][0]            \n",
      "                                                                 siamese_model_4[2][0]            \n",
      "__________________________________________________________________________________________________\n",
      "lambda_29 (Lambda)              (None, 1)            0           siamese_model_4[1][0]            \n",
      "                                                                 siamese_model_4[2][0]            \n",
      "__________________________________________________________________________________________________\n",
      "subtract_53 (Subtract)          (None, 128)          0           multiply_74[0][0]                \n",
      "                                                                 multiply_75[0][0]                \n",
      "__________________________________________________________________________________________________\n",
      "multiply_73 (Multiply)          (None, 128)          0           subtract_52[0][0]                \n",
      "                                                                 subtract_52[0][0]                \n",
      "__________________________________________________________________________________________________\n",
      "concatenate_23 (Concatenate)    (None, 257)          0           lambda_29[0][0]                  \n",
      "                                                                 subtract_53[0][0]                \n",
      "                                                                 multiply_73[0][0]                \n",
      "__________________________________________________________________________________________________\n",
      "dense_12 (Dense)                (None, 100)          25800       concatenate_23[0][0]             \n",
      "__________________________________________________________________________________________________\n",
      "dropout_26 (Dropout)            (None, 100)          0           dense_12[0][0]                   \n",
      "__________________________________________________________________________________________________\n",
      "out (Dense)                     (None, 1)            101         dropout_26[0][0]                 \n",
      "==================================================================================================\n",
      "Total params: 643,181\n",
      "Trainable params: 643,181\n",
      "Non-trainable params: 0\n",
      "__________________________________________________________________________________________________\n"
     ]
    }
   ],
   "source": [
    "init_siamese_model_v2(train_st.shape[1],train_desc.shape[1]).summary()"
   ]
  },
  {
   "cell_type": "code",
   "execution_count": 159,
   "metadata": {},
   "outputs": [
    {
     "name": "stdout",
     "output_type": "stream",
     "text": [
      "Epoch 1/10\n",
      "446/446 [==============================] - 38s 86ms/step - loss: 5.4949 - val_loss: 4.4102\n",
      "Epoch 2/10\n",
      "446/446 [==============================] - 33s 73ms/step - loss: 0.4007 - val_loss: 0.3143\n",
      "Epoch 3/10\n",
      "446/446 [==============================] - 33s 74ms/step - loss: 0.2884 - val_loss: 0.3079\n",
      "Epoch 4/10\n",
      "446/446 [==============================] - 33s 74ms/step - loss: 0.2856 - val_loss: 0.3156\n",
      "Epoch 5/10\n",
      "446/446 [==============================] - 33s 74ms/step - loss: 0.2838 - val_loss: 0.3140\n",
      "Epoch 6/10\n",
      "446/446 [==============================] - 33s 74ms/step - loss: 0.2835 - val_loss: 0.3010\n",
      "Epoch 7/10\n",
      "446/446 [==============================] - 33s 74ms/step - loss: 0.2832 - val_loss: 0.2978\n",
      "Epoch 8/10\n",
      "446/446 [==============================] - 33s 74ms/step - loss: 0.2825 - val_loss: 0.3095\n",
      "Epoch 9/10\n",
      "446/446 [==============================] - 33s 74ms/step - loss: 0.2810 - val_loss: 0.2927\n",
      "Epoch 10/10\n",
      "446/446 [==============================] - 33s 74ms/step - loss: 0.2797 - val_loss: 0.2953\n"
     ]
    },
    {
     "data": {
      "text/plain": [
       "<tensorflow.python.keras.callbacks.History at 0x7f06f82847c0>"
      ]
     },
     "execution_count": 159,
     "metadata": {},
     "output_type": "execute_result"
    }
   ],
   "source": [
    "char_model = init_siamese_model_v2(train_st.shape[1],train_desc.shape[1])\n",
    "\n",
    "char_model.fit(\n",
    "    x=[np.expand_dims(train_st,axis=2), np.expand_dims(train_desc,axis=2)],\n",
    "    y= train_df.relevance,\n",
    "    epochs=10,\n",
    "    batch_size=128,\n",
    "    validation_split=0.23\n",
    ")"
   ]
  },
  {
   "cell_type": "code",
   "execution_count": null,
   "metadata": {},
   "outputs": [],
   "source": []
  },
  {
   "cell_type": "code",
   "execution_count": null,
   "metadata": {},
   "outputs": [],
   "source": []
  },
  {
   "cell_type": "code",
   "execution_count": null,
   "metadata": {},
   "outputs": [],
   "source": []
  }
 ],
 "metadata": {
  "kernelspec": {
   "display_name": "Python (tf-env)",
   "language": "python",
   "name": "tf-env"
  },
  "language_info": {
   "codemirror_mode": {
    "name": "ipython",
    "version": 3
   },
   "file_extension": ".py",
   "mimetype": "text/x-python",
   "name": "python",
   "nbconvert_exporter": "python",
   "pygments_lexer": "ipython3",
   "version": "3.8.6"
  }
 },
 "nbformat": 4,
 "nbformat_minor": 4
}
