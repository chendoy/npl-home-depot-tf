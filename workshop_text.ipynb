{
 "cells": [
  {
   "cell_type": "markdown",
   "metadata": {},
   "source": [
    "# TODO:\n",
    "- write report\n",
    "\n",
    "\n",
    "- (Optional) check if classification is better\n",
    "- (Optional) preprocess of  product description by bullets/ removing words with number"
   ]
  },
  {
   "cell_type": "raw",
   "metadata": {},
   "source": [
    "import os\n",
    "job_cancel_str=\"scancel \" + os.environ['SLURM_JOBID']\n",
    "os.system(job_cancel_str)"
   ]
  },
  {
   "cell_type": "markdown",
   "metadata": {},
   "source": [
    "# Practical Deep Learning Workshop 2021\n",
    "## Assignment 3 - Word Embeddings\n",
    " \n",
    "### Authors:\n",
    " \n",
    "1.   Chen Doytshman 205644941\n",
    "2.   Naor Kolet 205533060\n"
   ]
  },
  {
   "cell_type": "markdown",
   "metadata": {},
   "source": [
    "# 0. Preliminary"
   ]
  },
  {
   "cell_type": "markdown",
   "metadata": {},
   "source": [
    "## a. Imports"
   ]
  },
  {
   "cell_type": "code",
   "execution_count": 21,
   "metadata": {},
   "outputs": [],
   "source": [
    "import pandas as pd\n",
    "import numpy as np\n",
    " \n",
    "# TensorFlow\n",
    "import tensorflow as tf\n",
    "from tensorflow.keras.layers import Input, Embedding, LSTM, Concatenate\n",
    "from tensorflow.keras.layers import Dropout, Dense, Lambda, Multiply, Subtract, Flatten\n",
    "from tensorflow.keras.layers import Conv1D, MaxPooling1D, Activation, Reshape\n",
    "from tensorflow.keras.callbacks import ModelCheckpoint, EarlyStopping, ReduceLROnPlateau\n",
    "\n",
    "from tensorflow.keras.models import Model, load_model\n",
    "from tensorflow.keras.optimizers import Adam\n",
    "from tensorflow.keras.preprocessing.sequence import pad_sequences\n",
    "from tensorflow.keras.preprocessing.text import Tokenizer\n",
    "\n",
    "# Scikit-learn\n",
    "from sklearn.preprocessing import MinMaxScaler\n",
    "from sklearn.feature_extraction.text import CountVectorizer\n",
    "from sklearn.ensemble import RandomForestRegressor\n",
    "from sklearn.metrics import mean_squared_error, mean_absolute_error, mean_squared_error\n",
    "from sklearn.model_selection import train_test_split\n",
    "\n",
    "# XGBoost\n",
    "from xgboost import XGBRegressor\n",
    "\n",
    "# Plots\n",
    "import seaborn as sns\n",
    "import matplotlib.pyplot as plt\n",
    "\n",
    "# Misc.\n",
    "import os\n",
    "import joblib\n",
    "import random\n",
    "import time\n",
    "from tqdm import tqdm_notebook as tqdm\n",
    "\n",
    "SEED = 42\n",
    "%matplotlib inline"
   ]
  },
  {
   "cell_type": "code",
   "execution_count": 2,
   "metadata": {},
   "outputs": [],
   "source": [
    "pd.set_option('display.max_colwidth', 100)\n",
    "random.seed(SEED)\n",
    "np.random.seed(SEED)\n",
    "tf.random.set_seed(SEED)"
   ]
  },
  {
   "cell_type": "code",
   "execution_count": 3,
   "metadata": {},
   "outputs": [
    {
     "data": {
      "application/vnd.jupyter.widget-view+json": {
       "model_id": "53c64fa9c7324ef2a1c465b8e224e982",
       "version_major": 2,
       "version_minor": 0
      },
      "text/plain": [
       "HBox(children=(IntProgress(value=1, bar_style='info', max=1), HTML(value='')))"
      ]
     },
     "metadata": {},
     "output_type": "display_data"
    },
    {
     "name": "stdout",
     "output_type": "stream",
     "text": [
      "\n"
     ]
    }
   ],
   "source": [
    "import zipfile\n",
    "DATA_DIR = 'home-depot-product-search-relevance'\n",
    "\n",
    "files = [f for f in os.listdir(DATA_DIR) if f.endswith('zip')]\n",
    "for file in tqdm(files):\n",
    "    with zipfile.ZipFile(f'{DATA_DIR}/{file}') as zf:\n",
    "        zf.extractall(DATA_DIR)\n",
    "        os.remove(f'{DATA_DIR}/{file}')"
   ]
  },
  {
   "cell_type": "markdown",
   "metadata": {},
   "source": [
    "## b. Collecting Results\n",
    "throughout this notebook we are going to collect the results for the different models, on-the-fly. Later, we will discuss them in section 3 of this assignment."
   ]
  },
  {
   "cell_type": "code",
   "execution_count": 4,
   "metadata": {},
   "outputs": [],
   "source": [
    "from prettytable import PrettyTable\n",
    "results = PrettyTable(['Model type', 'Runtime', 'Train RMSE',\n",
    "                       'Val-RMSE', 'Test-RMSE', 'Train MAE', \n",
    "                       'Val-MAE', 'Test-MAE'], hrules=True)\n",
    "results.float_format = \".4\""
   ]
  },
  {
   "cell_type": "markdown",
   "metadata": {},
   "source": [
    "## c. Data Preparation, EDA"
   ]
  },
  {
   "cell_type": "markdown",
   "metadata": {},
   "source": [
    "Let's load the data:"
   ]
  },
  {
   "cell_type": "code",
   "execution_count": 5,
   "metadata": {},
   "outputs": [],
   "source": [
    "train_df = pd.read_csv(f'{DATA_DIR}/train.csv', index_col='id', encoding='latin-1')\n",
    "product_desc_df = pd.read_csv(f'{DATA_DIR}/product_descriptions.csv', index_col='product_uid')\n",
    "attributes_df = pd.read_csv(f'{DATA_DIR}/attributes.csv', index_col=['product_uid'], dtype={'product_uid': 'Int64'})"
   ]
  },
  {
   "cell_type": "code",
   "execution_count": 6,
   "metadata": {},
   "outputs": [],
   "source": [
    "test_path = f'{DATA_DIR}/test_labels.csv'\n",
    "if os.path.exists(test_path):\n",
    "    test_df = pd.read_csv(test_path)\n",
    "else:\n",
    "    test_df = pd.read_csv(f'{DATA_DIR}/test.csv', index_col='id', encoding='latin-1')\n",
    "    sol = pd.read_csv(f'{DATA_DIR}/solution.csv', index_col='id', encoding='latin-1')\n",
    "    test_df = test_df[sol.relevance != -1]\n",
    "    test_df = test_df.join(sol.relevance, on='id')\n",
    "    test_df.to_csv(test_path)"
   ]
  },
  {
   "cell_type": "code",
   "execution_count": 7,
   "metadata": {},
   "outputs": [
    {
     "data": {
      "text/html": [
       "<div>\n",
       "<style scoped>\n",
       "    .dataframe tbody tr th:only-of-type {\n",
       "        vertical-align: middle;\n",
       "    }\n",
       "\n",
       "    .dataframe tbody tr th {\n",
       "        vertical-align: top;\n",
       "    }\n",
       "\n",
       "    .dataframe thead th {\n",
       "        text-align: right;\n",
       "    }\n",
       "</style>\n",
       "<table border=\"1\" class=\"dataframe\">\n",
       "  <thead>\n",
       "    <tr style=\"text-align: right;\">\n",
       "      <th></th>\n",
       "      <th>product_uid</th>\n",
       "      <th>product_title</th>\n",
       "      <th>search_term</th>\n",
       "      <th>relevance</th>\n",
       "    </tr>\n",
       "    <tr>\n",
       "      <th>id</th>\n",
       "      <th></th>\n",
       "      <th></th>\n",
       "      <th></th>\n",
       "      <th></th>\n",
       "    </tr>\n",
       "  </thead>\n",
       "  <tbody>\n",
       "    <tr>\n",
       "      <th>2</th>\n",
       "      <td>100001</td>\n",
       "      <td>Simpson Strong-Tie 12-Gauge Angle</td>\n",
       "      <td>angle bracket</td>\n",
       "      <td>3.00</td>\n",
       "    </tr>\n",
       "    <tr>\n",
       "      <th>3</th>\n",
       "      <td>100001</td>\n",
       "      <td>Simpson Strong-Tie 12-Gauge Angle</td>\n",
       "      <td>l bracket</td>\n",
       "      <td>2.50</td>\n",
       "    </tr>\n",
       "    <tr>\n",
       "      <th>9</th>\n",
       "      <td>100002</td>\n",
       "      <td>BEHR Premium Textured DeckOver 1-gal. #SC-141 Tugboat Wood and Concrete Coating</td>\n",
       "      <td>deck over</td>\n",
       "      <td>3.00</td>\n",
       "    </tr>\n",
       "    <tr>\n",
       "      <th>16</th>\n",
       "      <td>100005</td>\n",
       "      <td>Delta Vero 1-Handle Shower Only Faucet Trim Kit in Chrome (Valve Not Included)</td>\n",
       "      <td>rain shower head</td>\n",
       "      <td>2.33</td>\n",
       "    </tr>\n",
       "    <tr>\n",
       "      <th>17</th>\n",
       "      <td>100005</td>\n",
       "      <td>Delta Vero 1-Handle Shower Only Faucet Trim Kit in Chrome (Valve Not Included)</td>\n",
       "      <td>shower only faucet</td>\n",
       "      <td>2.67</td>\n",
       "    </tr>\n",
       "  </tbody>\n",
       "</table>\n",
       "</div>"
      ],
      "text/plain": [
       "    product_uid  \\\n",
       "id                \n",
       "2        100001   \n",
       "3        100001   \n",
       "9        100002   \n",
       "16       100005   \n",
       "17       100005   \n",
       "\n",
       "                                                                      product_title  \\\n",
       "id                                                                                    \n",
       "2                                                 Simpson Strong-Tie 12-Gauge Angle   \n",
       "3                                                 Simpson Strong-Tie 12-Gauge Angle   \n",
       "9   BEHR Premium Textured DeckOver 1-gal. #SC-141 Tugboat Wood and Concrete Coating   \n",
       "16   Delta Vero 1-Handle Shower Only Faucet Trim Kit in Chrome (Valve Not Included)   \n",
       "17   Delta Vero 1-Handle Shower Only Faucet Trim Kit in Chrome (Valve Not Included)   \n",
       "\n",
       "           search_term  relevance  \n",
       "id                                 \n",
       "2        angle bracket       3.00  \n",
       "3            l bracket       2.50  \n",
       "9            deck over       3.00  \n",
       "16    rain shower head       2.33  \n",
       "17  shower only faucet       2.67  "
      ]
     },
     "execution_count": 7,
     "metadata": {},
     "output_type": "execute_result"
    }
   ],
   "source": [
    "train_df.head()"
   ]
  },
  {
   "cell_type": "code",
   "execution_count": 8,
   "metadata": {},
   "outputs": [],
   "source": [
    "product_counts = train_df.groupby('product_uid').count()['search_term'].value_counts()"
   ]
  },
  {
   "cell_type": "code",
   "execution_count": 9,
   "metadata": {},
   "outputs": [
    {
     "data": {
      "image/png": "[encoded data removed]",
      "text/plain": [
       "<Figure size 432x288 with 1 Axes>"
      ]
     },
     "metadata": {
      "needs_background": "light"
     },
     "output_type": "display_data"
    }
   ],
   "source": [
    "ax = sns.barplot(x=product_counts.index, y=product_counts.values)\n",
    "ax.set_yscale('log')\n",
    "ax.set_xlabel('Number of records per product')\n",
    "ax.set_ylabel('Number of products')\n",
    "_ = ax.set_title('Product id destribution in train')"
   ]
  },
  {
   "cell_type": "code",
   "execution_count": 10,
   "metadata": {},
   "outputs": [
    {
     "data": {
      "image/png": "[encoded data removed]",
      "text/plain": [
       "<Figure size 720x432 with 1 Axes>"
      ]
     },
     "metadata": {
      "needs_background": "light"
     },
     "output_type": "display_data"
    }
   ],
   "source": [
    "plt.figure(figsize=(10,6))\n",
    "ax = sns.countplot(data=train_df, x=\"relevance\")\n",
    "\n",
    "relevance_values = train_df[\"relevance\"].value_counts().sort_index()\n",
    "\n",
    "for p, label in zip(ax.patches, relevance_values):\n",
    "    ax.annotate(label, (p.get_x(), p.get_height()+0.5))"
   ]
  },
  {
   "cell_type": "code",
   "execution_count": 11,
   "metadata": {},
   "outputs": [
    {
     "data": {
      "text/html": [
       "<div>\n",
       "<style scoped>\n",
       "    .dataframe tbody tr th:only-of-type {\n",
       "        vertical-align: middle;\n",
       "    }\n",
       "\n",
       "    .dataframe tbody tr th {\n",
       "        vertical-align: top;\n",
       "    }\n",
       "\n",
       "    .dataframe thead th {\n",
       "        text-align: right;\n",
       "    }\n",
       "</style>\n",
       "<table border=\"1\" class=\"dataframe\">\n",
       "  <thead>\n",
       "    <tr style=\"text-align: right;\">\n",
       "      <th></th>\n",
       "      <th>product_description</th>\n",
       "    </tr>\n",
       "    <tr>\n",
       "      <th>product_uid</th>\n",
       "      <th></th>\n",
       "    </tr>\n",
       "  </thead>\n",
       "  <tbody>\n",
       "    <tr>\n",
       "      <th>100001</th>\n",
       "      <td>Not only do angles make joints stronger, they also provide more consistent, straight corners. Si...</td>\n",
       "    </tr>\n",
       "    <tr>\n",
       "      <th>100002</th>\n",
       "      <td>BEHR Premium Textured DECKOVER is an innovative solid color coating. It will bring your old, wea...</td>\n",
       "    </tr>\n",
       "    <tr>\n",
       "      <th>100003</th>\n",
       "      <td>Classic architecture meets contemporary design in the Ensemble Curve series, made of solid Vikre...</td>\n",
       "    </tr>\n",
       "    <tr>\n",
       "      <th>100004</th>\n",
       "      <td>The Grape Solar 265-Watt Polycrystalline PV Solar Panel bonus pack bundles 4 Grape Solar 265-Wat...</td>\n",
       "    </tr>\n",
       "    <tr>\n",
       "      <th>100005</th>\n",
       "      <td>Update your bathroom with the Delta Vero Single-Handle Shower Faucet Trim Kit in Chrome. It has ...</td>\n",
       "    </tr>\n",
       "  </tbody>\n",
       "</table>\n",
       "</div>"
      ],
      "text/plain": [
       "                                                                                             product_description\n",
       "product_uid                                                                                                     \n",
       "100001       Not only do angles make joints stronger, they also provide more consistent, straight corners. Si...\n",
       "100002       BEHR Premium Textured DECKOVER is an innovative solid color coating. It will bring your old, wea...\n",
       "100003       Classic architecture meets contemporary design in the Ensemble Curve series, made of solid Vikre...\n",
       "100004       The Grape Solar 265-Watt Polycrystalline PV Solar Panel bonus pack bundles 4 Grape Solar 265-Wat...\n",
       "100005       Update your bathroom with the Delta Vero Single-Handle Shower Faucet Trim Kit in Chrome. It has ..."
      ]
     },
     "execution_count": 11,
     "metadata": {},
     "output_type": "execute_result"
    }
   ],
   "source": [
    "product_desc_df.head()"
   ]
  },
  {
   "cell_type": "code",
   "execution_count": 12,
   "metadata": {},
   "outputs": [
    {
     "data": {
      "text/plain": [
       "'Not only do angles make joints stronger, they also provide more consistent, straight corners. Simpson Strong-Tie offers a wide variety of angles in various sizes and thicknesses to handle light-duty jobs or projects where a structural connection is needed. Some can be bent (skewed) to match the project. For outdoor projects or those where moisture is present, use our ZMAX zinc-coated connectors, which provide extra resistance against corrosion (look for a \"Z\" at the end of the model number).Versatile connector for various 90 connections and home repair projectsStronger than angled nailing or screw fastening aloneHelp ensure joints are consistently straight and strongDimensions: 3 in. x 3 in. x 1-1/2 in.Made from 12-Gauge steelGalvanized for extra corrosion resistanceInstall with 10d common nails or #9 x 1-1/2 in. Strong-Drive SD screws'"
      ]
     },
     "execution_count": 12,
     "metadata": {},
     "output_type": "execute_result"
    }
   ],
   "source": [
    "product_desc_df.iloc[0, 0]"
   ]
  },
  {
   "cell_type": "code",
   "execution_count": 13,
   "metadata": {},
   "outputs": [
    {
     "data": {
      "text/html": [
       "<div>\n",
       "<style scoped>\n",
       "    .dataframe tbody tr th:only-of-type {\n",
       "        vertical-align: middle;\n",
       "    }\n",
       "\n",
       "    .dataframe tbody tr th {\n",
       "        vertical-align: top;\n",
       "    }\n",
       "\n",
       "    .dataframe thead th {\n",
       "        text-align: right;\n",
       "    }\n",
       "</style>\n",
       "<table border=\"1\" class=\"dataframe\">\n",
       "  <thead>\n",
       "    <tr style=\"text-align: right;\">\n",
       "      <th></th>\n",
       "      <th>name</th>\n",
       "      <th>value</th>\n",
       "    </tr>\n",
       "    <tr>\n",
       "      <th>product_uid</th>\n",
       "      <th></th>\n",
       "      <th></th>\n",
       "    </tr>\n",
       "  </thead>\n",
       "  <tbody>\n",
       "    <tr>\n",
       "      <th>100001</th>\n",
       "      <td>Bullet01</td>\n",
       "      <td>Versatile connector for various 90° connections and home repair projects</td>\n",
       "    </tr>\n",
       "    <tr>\n",
       "      <th>100001</th>\n",
       "      <td>Bullet02</td>\n",
       "      <td>Stronger than angled nailing or screw fastening alone</td>\n",
       "    </tr>\n",
       "    <tr>\n",
       "      <th>100001</th>\n",
       "      <td>Bullet03</td>\n",
       "      <td>Help ensure joints are consistently straight and strong</td>\n",
       "    </tr>\n",
       "    <tr>\n",
       "      <th>100001</th>\n",
       "      <td>Bullet04</td>\n",
       "      <td>Dimensions: 3 in. x 3 in. x 1-1/2 in.</td>\n",
       "    </tr>\n",
       "    <tr>\n",
       "      <th>100001</th>\n",
       "      <td>Bullet05</td>\n",
       "      <td>Made from 12-Gauge steel</td>\n",
       "    </tr>\n",
       "    <tr>\n",
       "      <th>100001</th>\n",
       "      <td>Bullet06</td>\n",
       "      <td>Galvanized for extra corrosion resistance</td>\n",
       "    </tr>\n",
       "    <tr>\n",
       "      <th>100001</th>\n",
       "      <td>Bullet07</td>\n",
       "      <td>Install with 10d common nails or #9 x 1-1/2 in. Strong-Drive SD screws</td>\n",
       "    </tr>\n",
       "    <tr>\n",
       "      <th>100001</th>\n",
       "      <td>Gauge</td>\n",
       "      <td>12</td>\n",
       "    </tr>\n",
       "    <tr>\n",
       "      <th>100001</th>\n",
       "      <td>Material</td>\n",
       "      <td>Galvanized Steel</td>\n",
       "    </tr>\n",
       "    <tr>\n",
       "      <th>100001</th>\n",
       "      <td>MFG Brand Name</td>\n",
       "      <td>Simpson Strong-Tie</td>\n",
       "    </tr>\n",
       "    <tr>\n",
       "      <th>100001</th>\n",
       "      <td>Number of Pieces</td>\n",
       "      <td>1</td>\n",
       "    </tr>\n",
       "    <tr>\n",
       "      <th>100001</th>\n",
       "      <td>Product Depth (in.)</td>\n",
       "      <td>1.5</td>\n",
       "    </tr>\n",
       "    <tr>\n",
       "      <th>100001</th>\n",
       "      <td>Product Height (in.)</td>\n",
       "      <td>3</td>\n",
       "    </tr>\n",
       "    <tr>\n",
       "      <th>100001</th>\n",
       "      <td>Product Weight (lb.)</td>\n",
       "      <td>0.26</td>\n",
       "    </tr>\n",
       "    <tr>\n",
       "      <th>100001</th>\n",
       "      <td>Product Width (in.)</td>\n",
       "      <td>3</td>\n",
       "    </tr>\n",
       "  </tbody>\n",
       "</table>\n",
       "</div>"
      ],
      "text/plain": [
       "                             name  \\\n",
       "product_uid                         \n",
       "100001                   Bullet01   \n",
       "100001                   Bullet02   \n",
       "100001                   Bullet03   \n",
       "100001                   Bullet04   \n",
       "100001                   Bullet05   \n",
       "100001                   Bullet06   \n",
       "100001                   Bullet07   \n",
       "100001                      Gauge   \n",
       "100001                   Material   \n",
       "100001             MFG Brand Name   \n",
       "100001           Number of Pieces   \n",
       "100001        Product Depth (in.)   \n",
       "100001       Product Height (in.)   \n",
       "100001       Product Weight (lb.)   \n",
       "100001        Product Width (in.)   \n",
       "\n",
       "                                                                                value  \n",
       "product_uid                                                                            \n",
       "100001       Versatile connector for various 90° connections and home repair projects  \n",
       "100001                          Stronger than angled nailing or screw fastening alone  \n",
       "100001                        Help ensure joints are consistently straight and strong  \n",
       "100001                                          Dimensions: 3 in. x 3 in. x 1-1/2 in.  \n",
       "100001                                                       Made from 12-Gauge steel  \n",
       "100001                                      Galvanized for extra corrosion resistance  \n",
       "100001         Install with 10d common nails or #9 x 1-1/2 in. Strong-Drive SD screws  \n",
       "100001                                                                             12  \n",
       "100001                                                               Galvanized Steel  \n",
       "100001                                                             Simpson Strong-Tie  \n",
       "100001                                                                              1  \n",
       "100001                                                                            1.5  \n",
       "100001                                                                              3  \n",
       "100001                                                                           0.26  \n",
       "100001                                                                              3  "
      ]
     },
     "execution_count": 13,
     "metadata": {},
     "output_type": "execute_result"
    }
   ],
   "source": [
    "attributes_df[attributes_df.index.isin([100001])]"
   ]
  },
  {
   "cell_type": "markdown",
   "metadata": {},
   "source": [
    "## d. Preprocessing"
   ]
  },
  {
   "cell_type": "markdown",
   "metadata": {},
   "source": [
    "In this step we directed a few issues.\n",
    "\n",
    "- We observed the product description and the attribute tables. We saw that all the data from the attribute table is in the product description and not all the products have records in the attribute table so we will use only the product descriptions.\n",
    "- We observed that the product description have some words that got 'sticked' together, for example ```aloneHelp```, we will split those words.\n",
    "- The product description does not always contain the product name so  we will concat those two."
   ]
  },
  {
   "cell_type": "markdown",
   "metadata": {},
   "source": [
    "# Space by bullets, Take long time\n",
    "for p_uid, product in product_desc_df.iterrows():\n",
    "    txt = product['product_description']\n",
    "    \n",
    "    curr_attr = attributes_df[attributes_df.index.isin([p_uid])].dropna()\n",
    "    curr_attr = curr_attr[curr_attr.name.str.contains('^Bullet')]\n",
    "    \n",
    "    for _, attr in curr_attr.iterrows():\n",
    "        ind = txt.find(attr.value[:20])\n",
    "        if ind != -1:\n",
    "            txt = txt[:ind] + \" \" + txt[ind:]\n",
    "    \n",
    "    product['product_description'] = txt"
   ]
  },
  {
   "cell_type": "code",
   "execution_count": 14,
   "metadata": {},
   "outputs": [],
   "source": [
    "del attributes_df"
   ]
  },
  {
   "cell_type": "code",
   "execution_count": 15,
   "metadata": {},
   "outputs": [],
   "source": [
    "import re\n",
    "# TODO: seperate also on nubmer after chars, i.e. word100%\n",
    "\n",
    "def striphtml(data): \n",
    "    cleanr = re.compile('<.*?>') \n",
    "    cleantext = re.sub(cleanr, ' ', data) \n",
    "    cleanr = re.compile('&nbsp;') \n",
    "    cleantext = re.sub(cleanr, ' ', cleantext) \n",
    "    return cleantext\n",
    "\n",
    "def camel_case_split(data):\n",
    "    matches = re.finditer('.+?(?:(?<=[a-z,(,)])\\.?\\s?(?=[A-Z])|(?<=[A-Z,(,)])\\.?\\s?(?=[A-Z][a-z])|$)', data)\n",
    "    return ' '.join([m.group(0).strip() for m in matches])\n",
    "\n",
    "def preprocess_description(data):\n",
    "    return camel_case_split(striphtml(data))"
   ]
  },
  {
   "cell_type": "code",
   "execution_count": 16,
   "metadata": {},
   "outputs": [
    {
     "data": {
      "text/plain": [
       "'BEHR Premium Textured DECKOVER is an innovative solid color coating. It will bring your old, weathered wood or concrete back to life. The advanced 100% acrylic resin formula creates a durable coating for your tired and worn out deck, rejuvenating to a whole new look.  For the best results, be sure to properly prepare the surface using other applicable BEHR products displayed above.California residents: see&nbsp;Proposition 65 informationRevives wood and composite decks, railings, porches and boat docks, also great for concrete pool decks, patios and sidewalks100% acrylic solid color coatingResists cracking and peeling and conceals splinters and cracks up to 1/4 in.Provides a durable, mildew resistant finishCovers up to 75 sq. ft. in 2 coats per gallonCreates a textured, slip-resistant finishFor best results, prepare with the appropriate BEHR product for your wood or concrete surfaceActual paint colors may vary from on-screen and printer representationsColors available to be tinted in most storesOnline Price includes Paint Care fee in the following states: CA, CO, CT, ME, MN, OR, RI, VT'"
      ]
     },
     "execution_count": 16,
     "metadata": {},
     "output_type": "execute_result"
    }
   ],
   "source": [
    "product_desc_df.iloc[1,0]"
   ]
  },
  {
   "cell_type": "code",
   "execution_count": 17,
   "metadata": {},
   "outputs": [
    {
     "data": {
      "text/plain": [
       "'BEHR Premium Textured DECKOVER is an innovative solid color coating. It will bring your old, weathered wood or concrete back to life. The advanced 100% acrylic resin formula creates a durable coating for your tired and worn out deck, rejuvenating to a whole new look.  For the best results, be sure to properly prepare the surface using other applicable BEHR products displayed above. California residents: see Proposition 65 information Revives wood and composite decks, railings, porches and boat docks, also great for concrete pool decks, patios and sidewalks100% acrylic solid color coating Resists cracking and peeling and conceals splinters and cracks up to 1/4 in. Provides a durable, mildew resistant finish Covers up to 75 sq. ft. in 2 coats per gallon Creates a textured, slip-resistant finish For best results, prepare with the appropriate BEHR product for your wood or concrete surface Actual paint colors may vary from on-screen and printer representations Colors available to be tinted in most stores Online Price includes Paint Care fee in the following states: CA, CO, CT, ME, MN, OR, RI, VT'"
      ]
     },
     "execution_count": 17,
     "metadata": {},
     "output_type": "execute_result"
    }
   ],
   "source": [
    "preprocess_description(product_desc_df.iloc[1,0])"
   ]
  },
  {
   "cell_type": "code",
   "execution_count": 18,
   "metadata": {},
   "outputs": [],
   "source": [
    "product_desc_df['product_description'] = product_desc_df['product_description'].apply(preprocess_description)"
   ]
  },
  {
   "cell_type": "code",
   "execution_count": 19,
   "metadata": {},
   "outputs": [],
   "source": [
    "def join_desc(df):\n",
    "    df = df.join(product_desc_df['product_description'], on='product_uid')\n",
    "    df['product_description'] = df['product_title'] + ' . ' + df['product_description']\n",
    "    df['product_description'] = df['product_description'].apply(lambda x: x.replace('  ', ' '))\n",
    "    df = df[['product_uid', 'search_term', 'product_description', 'relevance']]\n",
    "    return df\n",
    "\n",
    "train_df = join_desc(train_df)\n",
    "test_df = join_desc(test_df)"
   ]
  },
  {
   "cell_type": "code",
   "execution_count": 20,
   "metadata": {},
   "outputs": [],
   "source": [
    "train_df, val_df = train_test_split(train_df,\n",
    "                                    test_size=0.2,\n",
    "                                    random_state=SEED)"
   ]
  },
  {
   "cell_type": "code",
   "execution_count": 34,
   "metadata": {},
   "outputs": [],
   "source": [
    "train_x = train_df[['search_term', 'product_description']]\n",
    "train_y = train_df[['relevance']]\n",
    "\n",
    "scale_y = MinMaxScaler().fit(train_y)\n",
    "train_y = scale_y.transform(train_y).reshape(-1)"
   ]
  },
  {
   "cell_type": "code",
   "execution_count": 37,
   "metadata": {},
   "outputs": [],
   "source": [
    "val_x = val_df[['search_term', 'product_description']]\n",
    "val_y = scale_y.transform(val_df[['relevance']]).reshape(-1)\n",
    "test_x = test_df[['search_term', 'product_description']]\n",
    "test_y = scale_y.transform(test_df[['relevance']]).reshape(-1)"
   ]
  },
  {
   "cell_type": "markdown",
   "metadata": {},
   "source": [
    "# 1. Character level LSTM\n",
    "\n",
    "## Using character level processing to predict search relevance"
   ]
  },
  {
   "cell_type": "markdown",
   "metadata": {},
   "source": [
    "### a. Preprocess the data to contain sequences of single characters"
   ]
  },
  {
   "cell_type": "code",
   "execution_count": 38,
   "metadata": {},
   "outputs": [],
   "source": [
    "def tokenize_serie(serie):\n",
    "    serie = pd.Series(map(lambda x: list(map(ord, list(x))), serie.values), index=serie.index)\n",
    "    max_len = min(serie.apply(len).max(), 1500)\n",
    "    return pad_sequences(serie, max_len, padding='post')"
   ]
  },
  {
   "cell_type": "code",
   "execution_count": 39,
   "metadata": {},
   "outputs": [],
   "source": [
    "def prepare_x_char(df):\n",
    "    search_term = tokenize_serie(df['search_term'])\n",
    "    description = tokenize_serie(df['product_description'])\n",
    "    \n",
    "    search_term, description = map(lambda x: np.expand_dims(x,axis=2), [search_term, description])\n",
    "    return search_term, description"
   ]
  },
  {
   "cell_type": "code",
   "execution_count": 40,
   "metadata": {},
   "outputs": [],
   "source": [
    "train_x_char = prepare_x_char(train_x)\n",
    "val_x_char = prepare_x_char(val_x)\n",
    "test_x_char = prepare_x_char(test_x)"
   ]
  },
  {
   "cell_type": "markdown",
   "metadata": {},
   "source": [
    "### b. Constructing a Siamese network"
   ]
  },
  {
   "cell_type": "markdown",
   "metadata": {},
   "source": [
    "https://github.com/prabhnoor0212/Siamese-Network-Text-Similarity"
   ]
  },
  {
   "cell_type": "markdown",
   "metadata": {},
   "source": [
    "#TODO: Remove extra functions"
   ]
  },
  {
   "cell_type": "code",
   "execution_count": 41,
   "metadata": {},
   "outputs": [],
   "source": [
    "from tensorflow.keras import backend as K\n",
    "\n",
    "def cosine_distance(vests):\n",
    "    x, y = vests\n",
    "    x = K.l2_normalize(x, axis=-1)\n",
    "    y = K.l2_normalize(y, axis=-1)\n",
    "    return -K.mean(x * y, axis=-1, keepdims=True)\n",
    "\n",
    "def cos_dist_output_shape(shapes):\n",
    "    shape1, shape2 = shapes\n",
    "    return (shape1[0],1)\n",
    "\n",
    "def root_mean_squared_error(y_true, y_pred):\n",
    "        return K.sqrt(K.mean(K.square(y_pred - y_true))) \n"
   ]
  },
  {
   "cell_type": "code",
   "execution_count": 42,
   "metadata": {},
   "outputs": [],
   "source": [
    "from sklearn.metrics import roc_auc_score\n",
    "\n",
    "def auroc(y_true, y_pred):\n",
    "    return tf.py_function(roc_auc_score, (y_true, y_pred), tf.double)"
   ]
  },
  {
   "cell_type": "code",
   "execution_count": 43,
   "metadata": {},
   "outputs": [],
   "source": [
    "sm = 0\n",
    "\n",
    "def common_model(length):\n",
    "    global sm\n",
    "    inp = Input(shape=(length, 1))\n",
    "    X = Conv1D(64, 10, activation='relu')(inp)\n",
    "    X = MaxPooling1D()(X)\n",
    "    X = Flatten()(X)\n",
    "    X = Activation('relu')(X)\n",
    "    X = Dense(128, activation='relu')(X)\n",
    "    \n",
    "    sm += 1\n",
    "    return Model(inp, X, name=f'siamese_model_{sm}')"
   ]
  },
  {
   "cell_type": "code",
   "execution_count": 44,
   "metadata": {},
   "outputs": [
    {
     "name": "stdout",
     "output_type": "stream",
     "text": [
      "Model: \"siamese_model_1\"\n",
      "_________________________________________________________________\n",
      "Layer (type)                 Output Shape              Param #   \n",
      "=================================================================\n",
      "input_1 (InputLayer)         [(None, 128, 1)]          0         \n",
      "_________________________________________________________________\n",
      "conv1d (Conv1D)              (None, 119, 64)           704       \n",
      "_________________________________________________________________\n",
      "max_pooling1d (MaxPooling1D) (None, 59, 64)            0         \n",
      "_________________________________________________________________\n",
      "flatten (Flatten)            (None, 3776)              0         \n",
      "_________________________________________________________________\n",
      "activation (Activation)      (None, 3776)              0         \n",
      "_________________________________________________________________\n",
      "dense (Dense)                (None, 128)               483456    \n",
      "=================================================================\n",
      "Total params: 484,160\n",
      "Trainable params: 484,160\n",
      "Non-trainable params: 0\n",
      "_________________________________________________________________\n"
     ]
    }
   ],
   "source": [
    "common_model(128).summary()"
   ]
  },
  {
   "cell_type": "code",
   "execution_count": 52,
   "metadata": {},
   "outputs": [],
   "source": [
    "def init_siamese_model(search_term_len, product_description_len, output_shape=1):\n",
    "    input_1 = Input(shape=(search_term_len, 1))\n",
    "    input_2 = Input(shape=(product_description_len, 1))\n",
    "    \n",
    "    lstm_1 = LSTM(128)(input_1)\n",
    "    lstm_2 = LSTM(128)(input_2)\n",
    "    \n",
    "    expand_layer = Lambda(lambda tensor: tensor[...,np.newaxis],name=\"expand_dim_layer\")\n",
    "    \n",
    "    expended_1 = expand_layer(lstm_1)\n",
    "    expended_2 = expand_layer(lstm_2)\n",
    "    \n",
    "    sm = common_model(128)\n",
    "\n",
    "    vector_1 = sm(expended_1)\n",
    "    \n",
    "    vector_2 = sm(expended_2)\n",
    "    \n",
    "    x3 = Subtract()([vector_1, vector_2])\n",
    "    x3 = Multiply()([x3, x3])\n",
    "\n",
    "    x1_ = Multiply()([vector_1, vector_1])\n",
    "    x2_ = Multiply()([vector_2, vector_2])\n",
    "    x4 = Subtract()([x1_, x2_])\n",
    "    \n",
    "    x5 = Lambda(cosine_distance, output_shape=cos_dist_output_shape)([vector_1, vector_2])\n",
    "\n",
    "    conc = Concatenate(axis=-1)([x5,x4, x3])\n",
    "\n",
    "    x = Dense(100, activation=\"relu\")(conc)\n",
    "    x = Dropout(0.01)(x)\n",
    "    out = Dense(output_shape, activation=\"sigmoid\", name = 'out')(x)\n",
    "\n",
    "    model = Model([input_1, input_2], out)\n",
    "\n",
    "    model.compile(loss='mse', metrics=['mae', tf.keras.metrics.RootMeanSquaredError(name='rmse')], optimizer=Adam())\n",
    "    \n",
    "    return model"
   ]
  },
  {
   "cell_type": "code",
   "execution_count": 53,
   "metadata": {},
   "outputs": [
    {
     "name": "stdout",
     "output_type": "stream",
     "text": [
      "Model: \"model_2\"\n",
      "__________________________________________________________________________________________________\n",
      "Layer (type)                    Output Shape         Param #     Connected to                     \n",
      "==================================================================================================\n",
      "input_8 (InputLayer)            [(None, 60, 1)]      0                                            \n",
      "__________________________________________________________________________________________________\n",
      "input_9 (InputLayer)            [(None, 1500, 1)]    0                                            \n",
      "__________________________________________________________________________________________________\n",
      "lstm_4 (LSTM)                   (None, 128)          66560       input_8[0][0]                    \n",
      "__________________________________________________________________________________________________\n",
      "lstm_5 (LSTM)                   (None, 128)          66560       input_9[0][0]                    \n",
      "__________________________________________________________________________________________________\n",
      "expand_dim_layer (Lambda)       (None, 128, 1)       0           lstm_4[0][0]                     \n",
      "                                                                 lstm_5[0][0]                     \n",
      "__________________________________________________________________________________________________\n",
      "siamese_model_4 (Model)         (None, 128)          484160      expand_dim_layer[0][0]           \n",
      "                                                                 expand_dim_layer[1][0]           \n",
      "__________________________________________________________________________________________________\n",
      "multiply_7 (Multiply)           (None, 128)          0           siamese_model_4[1][0]            \n",
      "                                                                 siamese_model_4[1][0]            \n",
      "__________________________________________________________________________________________________\n",
      "multiply_8 (Multiply)           (None, 128)          0           siamese_model_4[2][0]            \n",
      "                                                                 siamese_model_4[2][0]            \n",
      "__________________________________________________________________________________________________\n",
      "subtract_4 (Subtract)           (None, 128)          0           siamese_model_4[1][0]            \n",
      "                                                                 siamese_model_4[2][0]            \n",
      "__________________________________________________________________________________________________\n",
      "lambda_2 (Lambda)               (None, 1)            0           siamese_model_4[1][0]            \n",
      "                                                                 siamese_model_4[2][0]            \n",
      "__________________________________________________________________________________________________\n",
      "subtract_5 (Subtract)           (None, 128)          0           multiply_7[0][0]                 \n",
      "                                                                 multiply_8[0][0]                 \n",
      "__________________________________________________________________________________________________\n",
      "multiply_6 (Multiply)           (None, 128)          0           subtract_4[0][0]                 \n",
      "                                                                 subtract_4[0][0]                 \n",
      "__________________________________________________________________________________________________\n",
      "concatenate_2 (Concatenate)     (None, 257)          0           lambda_2[0][0]                   \n",
      "                                                                 subtract_5[0][0]                 \n",
      "                                                                 multiply_6[0][0]                 \n",
      "__________________________________________________________________________________________________\n",
      "dense_6 (Dense)                 (None, 100)          25800       concatenate_2[0][0]              \n",
      "__________________________________________________________________________________________________\n",
      "dropout_2 (Dropout)             (None, 100)          0           dense_6[0][0]                    \n",
      "__________________________________________________________________________________________________\n",
      "out (Dense)                     (None, 1)            101         dropout_2[0][0]                  \n",
      "==================================================================================================\n",
      "Total params: 643,181\n",
      "Trainable params: 643,181\n",
      "Non-trainable params: 0\n",
      "__________________________________________________________________________________________________\n"
     ]
    }
   ],
   "source": [
    "init_siamese_model(train_x_char[0].shape[1],train_x_char[1].shape[1]).summary()"
   ]
  },
  {
   "cell_type": "markdown",
   "metadata": {},
   "source": [
    "#### Training framework"
   ]
  },
  {
   "cell_type": "code",
   "execution_count": 54,
   "metadata": {},
   "outputs": [],
   "source": [
    "def get_callbacks(model_name):\n",
    "    acc = 'val_loss'\n",
    "    acc_mode = 'min'\n",
    "    \n",
    "    checkpoint = ModelCheckpoint(\n",
    "                              fr'./models/{model_name}.h5', \n",
    "                              monitor=acc, \n",
    "#                               verbose=1, \n",
    "                              save_best_only=True, \n",
    "                              mode=acc_mode)\n",
    "    earlystop = EarlyStopping(monitor=acc, mode=acc_mode, verbose=1, patience=4)\n",
    "    reduceLR = ReduceLROnPlateau(monitor = 'val_loss', mode = 'min', patience = 3,\n",
    "                            factor = 0.5, min_lr = 1e-6, verbose = 1)\n",
    "\n",
    "    return [checkpoint, reduceLR, earlystop]"
   ]
  },
  {
   "cell_type": "code",
   "execution_count": 55,
   "metadata": {},
   "outputs": [],
   "source": [
    "def train_model(model_gen, train_data, val_data, batch_size=128, use_saved=False):\n",
    "    os.makedirs('./models', exist_ok=True)\n",
    "    model_name = model_gen.__name__[5:]\n",
    "        \n",
    "    if use_saved:\n",
    "        history = joblib.load(fr'./models/{model_name}_history.sav')\n",
    "    else:\n",
    "        callbacks = get_callbacks(model_name)\n",
    "        \n",
    "        (train_st, train_desc), train_rel = train_data\n",
    "        model = model_gen(train_st.shape[1],train_desc.shape[1])\n",
    "        history = model.fit(\n",
    "                            x=[train_st, train_desc],\n",
    "                            y=train_rel,\n",
    "                            batch_size=batch_size,\n",
    "                            epochs=20,\n",
    "                            validation_data=val_data,\n",
    "                            callbacks=callbacks\n",
    "                            )\n",
    "        \n",
    "        history = history.history\n",
    "        joblib.dump(history, fr'./models/{model_name}_history.sav')\n",
    "    \n",
    "    model = load_model(fr'./models/{model_name}.h5')\n",
    "    \n",
    "    return model, history"
   ]
  },
  {
   "cell_type": "code",
   "execution_count": 56,
   "metadata": {},
   "outputs": [],
   "source": [
    "def visualize_perf(history):\n",
    "    fig, ax = plt.subplots(ncols=2, figsize=(5*2,5))\n",
    "    fig.suptitle(f'Model performance over epochs')\n",
    "    \n",
    "    for k in ['rmse', 'val_rmse']:\n",
    "        ax[0].plot(history[k])\n",
    "        \n",
    "    ax[0].legend(['train_rmse', 'val_rmse'])\n",
    "    ax[0].margins(0.01)\n",
    "    ax[0].set_title('rmse')\n",
    "    \n",
    "    for k in ['mae', 'val_mae']:\n",
    "        ax[1].plot(history[k])\n",
    "        \n",
    "    ax[1].legend(['train_mae', 'val_mae'])\n",
    "    ax[1].margins(0.01)\n",
    "    ax[1].set_title('mae')\n",
    "    \n",
    "    plt.show()\n"
   ]
  },
  {
   "cell_type": "code",
   "execution_count": 57,
   "metadata": {},
   "outputs": [],
   "source": [
    "def evaluate_model(model, x, y):\n",
    "    preds = model.predict(x)\n",
    "    \n",
    "    preds_mse = mean_squared_error(preds, y)\n",
    "    preds_mae = mean_absolute_error(preds, y)\n",
    "    preds_rmse = mean_squared_error(preds, y, squared=False)\n",
    "    \n",
    "    return preds_mse, preds_mae, preds_rmse"
   ]
  },
  {
   "cell_type": "code",
   "execution_count": 58,
   "metadata": {},
   "outputs": [
    {
     "name": "stdout",
     "output_type": "stream",
     "text": [
      "Epoch 1/20\n",
      "463/463 [==============================] - 35s 75ms/step - loss: 0.0731 - mae: 0.2217 - rmse: 0.2704 - val_loss: 0.0707 - val_mae: 0.2175 - val_rmse: 0.2659 - lr: 0.0010\n",
      "Epoch 2/20\n",
      "463/463 [==============================] - 33s 72ms/step - loss: 0.0710 - mae: 0.2178 - rmse: 0.2664 - val_loss: 0.0701 - val_mae: 0.2158 - val_rmse: 0.2648 - lr: 0.0010\n",
      "Epoch 3/20\n",
      "463/463 [==============================] - 35s 75ms/step - loss: 0.0705 - mae: 0.2166 - rmse: 0.2656 - val_loss: 0.0694 - val_mae: 0.2142 - val_rmse: 0.2635 - lr: 0.0010\n",
      "Epoch 4/20\n",
      "463/463 [==============================] - 37s 80ms/step - loss: 0.0708 - mae: 0.2175 - rmse: 0.2661 - val_loss: 0.0709 - val_mae: 0.2178 - val_rmse: 0.2662 - lr: 0.0010\n",
      "Epoch 5/20\n",
      "463/463 [==============================] - 37s 80ms/step - loss: 0.0714 - mae: 0.2192 - rmse: 0.2673 - val_loss: 0.0709 - val_mae: 0.2180 - val_rmse: 0.2662 - lr: 0.0010\n",
      "Epoch 6/20\n",
      "463/463 [==============================] - ETA: 0s - loss: 0.0714 - mae: 0.2192 - rmse: 0.2672\n",
      "Epoch 00006: ReduceLROnPlateau reducing learning rate to 0.0005000000237487257.\n",
      "463/463 [==============================] - 37s 80ms/step - loss: 0.0714 - mae: 0.2192 - rmse: 0.2672 - val_loss: 0.0709 - val_mae: 0.2179 - val_rmse: 0.2662 - lr: 0.0010\n",
      "Epoch 7/20\n",
      "463/463 [==============================] - 37s 79ms/step - loss: 0.0714 - mae: 0.2192 - rmse: 0.2672 - val_loss: 0.0709 - val_mae: 0.2177 - val_rmse: 0.2662 - lr: 5.0000e-04\n",
      "Epoch 00007: early stopping\n"
     ]
    }
   ],
   "source": [
    "start = time.time()\n",
    "char_model, char_history = train_model(init_siamese_model,\n",
    "                                       (train_x_char, train_y),\n",
    "                                       (val_x_char, val_y),\n",
    "                                       use_saved=False)\n",
    "end = time.time()"
   ]
  },
  {
   "cell_type": "code",
   "execution_count": 59,
   "metadata": {},
   "outputs": [
    {
     "data": {
      "image/png": "[encoded data removed]",
      "text/plain": [
       "<Figure size 720x360 with 2 Axes>"
      ]
     },
     "metadata": {
      "needs_background": "light"
     },
     "output_type": "display_data"
    }
   ],
   "source": [
    "visualize_perf(char_history)"
   ]
  },
  {
   "cell_type": "code",
   "execution_count": 63,
   "metadata": {},
   "outputs": [
    {
     "name": "stdout",
     "output_type": "stream",
     "text": [
      "MSE of 0.0699 on the train\n",
      "MAE of 0.2153 on the train\n",
      "RMSE of 0.2643 on the train\n"
     ]
    }
   ],
   "source": [
    "train_mse, train_mae, train_rmse =  evaluate_model(char_model, train_x_char, train_y)\n",
    "\n",
    "print(f'MSE of {train_mse:.4f} on the train')\n",
    "print(f'MAE of {train_mae:.4f} on the train')\n",
    "print(f'RMSE of {train_rmse:.4f} on the train')"
   ]
  },
  {
   "cell_type": "code",
   "execution_count": 64,
   "metadata": {},
   "outputs": [
    {
     "name": "stdout",
     "output_type": "stream",
     "text": [
      "MSE of 0.0694 on the val\n",
      "MAE of 0.2142 on the val\n",
      "RMSE of 0.2635 on the val\n"
     ]
    }
   ],
   "source": [
    "val_mse, val_mae, val_rmse =  evaluate_model(char_model, val_x_char, val_y)\n",
    "\n",
    "print(f'MSE of {val_mse:.4f} on the val')\n",
    "print(f'MAE of {val_mae:.4f} on the val')\n",
    "print(f'RMSE of {val_rmse:.4f} on the val')"
   ]
  },
  {
   "cell_type": "code",
   "execution_count": 65,
   "metadata": {},
   "outputs": [
    {
     "name": "stdout",
     "output_type": "stream",
     "text": [
      "MAE loss on test set: 0.0704\n",
      "MSE loss on test set: 0.0704\n",
      "RMSE loss on test set: 0.2654\n"
     ]
    }
   ],
   "source": [
    "test_mse, test_mae, test_rmse =  evaluate_model(char_model, test_x_char, test_y)\n",
    "\n",
    "print(f'MAE loss on test set: {test_mse:.4f}')\n",
    "print(f'MSE loss on test set: {test_mse:.4f}')\n",
    "print(f'RMSE loss on test set: {test_rmse:.4f}')"
   ]
  },
  {
   "cell_type": "code",
   "execution_count": 66,
   "metadata": {},
   "outputs": [],
   "source": [
    "runtime = end - start\n",
    "\n",
    "results.add_row(['LSTM (character level)', runtime, train_rmse, \n",
    "                 val_rmse, test_rmse, train_mae, val_mae, test_mae])"
   ]
  },
  {
   "cell_type": "markdown",
   "metadata": {},
   "source": [
    "### c. Naïve model-based benchmark with ```CountVectorizer```"
   ]
  },
  {
   "cell_type": "markdown",
   "metadata": {},
   "source": [
    "TODO: MARKDOWN"
   ]
  },
  {
   "cell_type": "markdown",
   "metadata": {},
   "source": [
    "#### Preprocessing"
   ]
  },
  {
   "cell_type": "code",
   "execution_count": 67,
   "metadata": {},
   "outputs": [
    {
     "name": "stdout",
     "output_type": "stream",
     "text": [
      "[' ', '!', '\"', '#', '$', '%', '&', \"'\", '(', ')', '*', '+', ',', '-', '.', '/', '0', '1', '2', '3', '4', '5', '6', '7', '8', '9', ':', ';', '<', '=', '>', '?', '@', '[', '\\\\', ']', '^', '_', '`', 'a', 'b', 'c', 'd', 'e', 'f', 'g', 'h', 'i', 'j', 'k', 'l', 'm', 'n', 'o', 'p', 'q', 'r', 's', 't', 'u', 'v', 'w', 'x', 'y', 'z', '{', '}', '~', '\\x89', '\\x90', '\\x95', '¡', '¢', 'ª', 'à', 'ã', 'å', 'è', 'ê', 'ò', '÷', 'û', 'ü']\n"
     ]
    }
   ],
   "source": [
    "desc_series = train_df['product_description']\n",
    "search_term_series = train_df['search_term']\n",
    "desc_st = pd.concat([desc_series, search_term_series])\n",
    "corpus = desc_st.values\n",
    "vectorizer = CountVectorizer(analyzer='char')\n",
    "vectorizer.fit(corpus)\n",
    "print(vectorizer.get_feature_names())"
   ]
  },
  {
   "cell_type": "code",
   "execution_count": 68,
   "metadata": {},
   "outputs": [],
   "source": [
    "def prepare_x_naive(df):\n",
    "    desc_series = df['product_description']\n",
    "    search_term_series = df['search_term']\n",
    "    counts_desc = vectorizer.transform(desc_series).toarray()\n",
    "    counts_st = vectorizer.transform(search_term_series).toarray()\n",
    "    X = np.concatenate([counts_desc, counts_st], axis=1)\n",
    "    return X"
   ]
  },
  {
   "cell_type": "code",
   "execution_count": 69,
   "metadata": {},
   "outputs": [],
   "source": [
    "train_x_charvec  = prepare_x_naive(train_x)\n",
    "val_x_charvec = prepare_x_naive(val_x)\n",
    "test_x_charvec = prepare_x_naive(test_x)"
   ]
  },
  {
   "cell_type": "code",
   "execution_count": 70,
   "metadata": {},
   "outputs": [],
   "source": [
    "use_saved = False\n",
    "rfr_path = 'models/rfr.sav'\n",
    "\n",
    "if use_saved:\n",
    "    rfr = joblib.load(rfr_path)\n",
    "else:\n",
    "    rfr = RandomForestRegressor(random_state=SEED, verbose=0, n_jobs=-1)\n",
    "    start = time.time()\n",
    "    rfr.fit(train_x_charvec, train_y)\n",
    "    end = time.time()\n",
    "    joblib.dump(rfr, rfr_path)"
   ]
  },
  {
   "cell_type": "code",
   "execution_count": 71,
   "metadata": {},
   "outputs": [
    {
     "name": "stdout",
     "output_type": "stream",
     "text": [
      "Got MSE of 0.0088 on the train\n",
      "Got MAE of 0.0754 on the train\n",
      "Got RMSE of 0.0937 on the train\n"
     ]
    }
   ],
   "source": [
    "train_mse, train_mae, train_rmse =  evaluate_model(rfr, train_x_charvec, train_y)\n",
    "\n",
    "print(f'Got MSE of {train_mse:.4f} on the train')\n",
    "print(f'Got MAE of {train_mae:.4f} on the train')\n",
    "print(f'Got RMSE of {train_rmse:.4f} on the train')"
   ]
  },
  {
   "cell_type": "code",
   "execution_count": 72,
   "metadata": {},
   "outputs": [
    {
     "name": "stdout",
     "output_type": "stream",
     "text": [
      "Got MSE of 0.0611 on the val\n",
      "Got MAE of 0.2011 on the val\n",
      "Got RMSE of 0.2473 on the val\n"
     ]
    }
   ],
   "source": [
    "val_mse, val_mae, val_rmse =  evaluate_model(rfr, val_x_charvec, val_y)\n",
    "\n",
    "print(f'Got MSE of {val_mse:.4f} on the val')\n",
    "print(f'Got MAE of {val_mae:.4f} on the val')\n",
    "print(f'Got RMSE of {val_rmse:.4f} on the val')"
   ]
  },
  {
   "cell_type": "code",
   "execution_count": 73,
   "metadata": {},
   "outputs": [
    {
     "name": "stdout",
     "output_type": "stream",
     "text": [
      "Got MSE of 0.0684 on the test\n",
      "Got MAE of 0.2138 on the test\n",
      "Got RMSE of 0.2615 on the test\n"
     ]
    }
   ],
   "source": [
    "test_mse, test_mae, test_rmse =  evaluate_model(rfr, test_x_charvec, test_y)\n",
    "\n",
    "print(f'Got MSE of {test_mse:.4f} on the test')\n",
    "print(f'Got MAE of {test_mae:.4f} on the test')\n",
    "print(f'Got RMSE of {test_rmse:.4f} on the test')"
   ]
  },
  {
   "cell_type": "code",
   "execution_count": 74,
   "metadata": {},
   "outputs": [],
   "source": [
    "runtime = end - start\n",
    "\n",
    "results.add_row(['Naïve benchmark (section 1c)', runtime, train_rmse, \n",
    "                 val_rmse, test_rmse, train_mae, val_mae, test_mae])"
   ]
  },
  {
   "cell_type": "markdown",
   "metadata": {},
   "source": [
    "### d. Using our model as a feature extractor"
   ]
  },
  {
   "cell_type": "code",
   "execution_count": 75,
   "metadata": {},
   "outputs": [],
   "source": [
    "fe_char_model = Model(char_model.input, char_model.layers[-3].output)"
   ]
  },
  {
   "cell_type": "code",
   "execution_count": 76,
   "metadata": {},
   "outputs": [],
   "source": [
    "train_features = fe_char_model.predict(train_x_char)\n",
    "val_features = fe_char_model.predict(val_x_char)\n",
    "test_features = fe_char_model.predict(test_x_char)"
   ]
  },
  {
   "cell_type": "code",
   "execution_count": 77,
   "metadata": {},
   "outputs": [
    {
     "name": "stdout",
     "output_type": "stream",
     "text": [
      "training xgb\n",
      "training rfr\n"
     ]
    }
   ],
   "source": [
    "use_saved = False\n",
    "\n",
    "fe_rfr_path = 'models/fe_char_rfr.sav'\n",
    "fe_xgb_path = 'models/fe_char_xgb.sav'\n",
    "\n",
    "if use_saved:\n",
    "    rfr_model = joblib.load(fe_rfr_path)\n",
    "    xgb_model = joblib.load(fe_xgb_path)\n",
    "else:\n",
    "    xgb_model = XGBRegressor(use_label_encoder=False, n_jobs=-1)\n",
    "    rfr_model = RandomForestRegressor(random_state=SEED, verbose=0, n_jobs=-1)\n",
    "\n",
    "    print('training xgb')\n",
    "    start_xgb = time.time()\n",
    "    xgb_model.fit(train_features, train_y)\n",
    "    end_xgb = time.time()\n",
    "    print('training rfr')\n",
    "    start_rfr = time.time()\n",
    "    rfr_model.fit(train_features, train_y)\n",
    "    end_rfr = time.time()\n",
    "\n",
    "    joblib.dump(rfr_model, fe_rfr_path)\n",
    "    joblib.dump(xgb_model, fe_xgb_path)"
   ]
  },
  {
   "cell_type": "markdown",
   "metadata": {},
   "source": [
    "#### Evaluating RandomForest"
   ]
  },
  {
   "cell_type": "code",
   "execution_count": 78,
   "metadata": {},
   "outputs": [
    {
     "name": "stdout",
     "output_type": "stream",
     "text": [
      "Got MSE of 0.0296 on the train\n",
      "Got MAE of 0.1307 on the train\n",
      "Got RMSE of 0.1720 on the train\n"
     ]
    }
   ],
   "source": [
    "train_mse, train_mae, train_rmse =  evaluate_model(rfr_model, train_features, train_y)\n",
    "\n",
    "print(f'Got MSE of {train_mse:.4f} on the train')\n",
    "print(f'Got MAE of {train_mae:.4f} on the train')\n",
    "print(f'Got RMSE of {train_rmse:.4f} on the train')"
   ]
  },
  {
   "cell_type": "code",
   "execution_count": 79,
   "metadata": {},
   "outputs": [
    {
     "name": "stdout",
     "output_type": "stream",
     "text": [
      "Got MSE of 0.0628 on the val\n",
      "Got MAE of 0.1975 on the val\n",
      "Got RMSE of 0.2507 on the val\n"
     ]
    }
   ],
   "source": [
    "val_mse, val_mae, val_rmse =  evaluate_model(rfr_model, val_features, val_y)\n",
    "\n",
    "print(f'Got MSE of {val_mse:.4f} on the val')\n",
    "print(f'Got MAE of {val_mae:.4f} on the val')\n",
    "print(f'Got RMSE of {val_rmse:.4f} on the val')"
   ]
  },
  {
   "cell_type": "code",
   "execution_count": 80,
   "metadata": {},
   "outputs": [
    {
     "name": "stdout",
     "output_type": "stream",
     "text": [
      "Got MSE of 0.0819 on the test\n",
      "Got MAE of 0.2297 on the test\n",
      "Got RMSE of 0.2862 on the test\n"
     ]
    }
   ],
   "source": [
    "test_mse, test_mae, test_rmse =  evaluate_model(rfr_model, test_features, test_y)\n",
    "\n",
    "print(f'Got MSE of {test_mse:.4f} on the test')\n",
    "print(f'Got MAE of {test_mae:.4f} on the test')\n",
    "print(f'Got RMSE of {test_rmse:.4f} on the test')"
   ]
  },
  {
   "cell_type": "code",
   "execution_count": 81,
   "metadata": {},
   "outputs": [],
   "source": [
    "runtime = end_rfr - start_rfr\n",
    "\n",
    "results.add_row(['Random Forest (character LSTM Features)', runtime, train_rmse, \n",
    "                 val_rmse, test_rmse, train_mae, val_mae, test_mae])"
   ]
  },
  {
   "cell_type": "markdown",
   "metadata": {},
   "source": [
    "#### Evaluating XGBoost"
   ]
  },
  {
   "cell_type": "code",
   "execution_count": 82,
   "metadata": {},
   "outputs": [
    {
     "name": "stdout",
     "output_type": "stream",
     "text": [
      "Got MSE of 0.0582 on the train\n",
      "Got MAE of 0.1965 on the train\n",
      "Got RMSE of 0.2413 on the train\n"
     ]
    }
   ],
   "source": [
    "train_mse, train_mae, train_rmse =  evaluate_model(xgb_model, train_features, train_y)\n",
    "\n",
    "print(f'Got MSE of {train_mse:.4f} on the train')\n",
    "print(f'Got MAE of {train_mae:.4f} on the train')\n",
    "print(f'Got RMSE of {train_rmse:.4f} on the train')"
   ]
  },
  {
   "cell_type": "code",
   "execution_count": 83,
   "metadata": {},
   "outputs": [
    {
     "name": "stdout",
     "output_type": "stream",
     "text": [
      "Got MSE of 0.0655 on the val\n",
      "Got MAE of 0.2088 on the val\n",
      "Got RMSE of 0.2559 on the val\n"
     ]
    }
   ],
   "source": [
    "val_mse, val_mae, val_rmse =  evaluate_model(xgb_model, val_features, val_y)\n",
    "\n",
    "print(f'Got MSE of {val_mse:.4f} on the val')\n",
    "print(f'Got MAE of {val_mae:.4f} on the val')\n",
    "print(f'Got RMSE of {val_rmse:.4f} on the val')"
   ]
  },
  {
   "cell_type": "code",
   "execution_count": 84,
   "metadata": {},
   "outputs": [
    {
     "name": "stdout",
     "output_type": "stream",
     "text": [
      "Got MSE of 0.0711 on the test\n",
      "Got MAE of 0.2178 on the test\n",
      "Got RMSE of 0.2667 on the test\n"
     ]
    }
   ],
   "source": [
    "test_mse, test_mae, test_rmse =  evaluate_model(xgb_model, test_features, test_y)\n",
    "\n",
    "print(f'Got MSE of {test_mse:.4f} on the test')\n",
    "print(f'Got MAE of {test_mae:.4f} on the test')\n",
    "print(f'Got RMSE of {test_rmse:.4f} on the test')"
   ]
  },
  {
   "cell_type": "code",
   "execution_count": 85,
   "metadata": {},
   "outputs": [],
   "source": [
    "runtime = end_xgb - start_xgb\n",
    "\n",
    "results.add_row(['XGBoost (character LSTM Features)', runtime, train_rmse, \n",
    "                 val_rmse, test_rmse, train_mae, val_mae, test_mae])"
   ]
  },
  {
   "cell_type": "markdown",
   "metadata": {},
   "source": [
    "# 2. Word embeddings and word level LSTM\n",
    "\n",
    "## Using word/character-combination level processing to predict search relevance"
   ]
  },
  {
   "cell_type": "markdown",
   "metadata": {},
   "source": [
    "### a. Preprocess the data to create tokens of words/character-combinations"
   ]
  },
  {
   "cell_type": "code",
   "execution_count": 86,
   "metadata": {},
   "outputs": [],
   "source": [
    "desc_series = train_x['product_description']\n",
    "search_term_series = train_x['search_term']\n",
    "desc_st = pd.concat([desc_series, search_term_series])"
   ]
  },
  {
   "cell_type": "code",
   "execution_count": 103,
   "metadata": {},
   "outputs": [],
   "source": [
    "def tokenize_words(serie):\n",
    "    serie = pd.Series(tokenizer.texts_to_sequences(serie.values), index=serie.index)\n",
    "    max_len = 1051\n",
    "    return pad_sequences(serie, max_len, padding='post')"
   ]
  },
  {
   "cell_type": "code",
   "execution_count": 104,
   "metadata": {},
   "outputs": [],
   "source": [
    "tokenizer = Tokenizer()\n",
    "tokenizer.fit_on_texts(desc_st)"
   ]
  },
  {
   "cell_type": "code",
   "execution_count": 105,
   "metadata": {},
   "outputs": [],
   "source": [
    "train_desc_padded = tokenize_words(train_df['product_description'])\n",
    "train_st_padded = tokenize_words(train_df['search_term'])"
   ]
  },
  {
   "cell_type": "code",
   "execution_count": 106,
   "metadata": {},
   "outputs": [],
   "source": [
    "val_desc_padded = tokenize_words(val_df['product_description'])\n",
    "val_st_padded = tokenize_words(val_df['search_term'])"
   ]
  },
  {
   "cell_type": "code",
   "execution_count": 107,
   "metadata": {},
   "outputs": [],
   "source": [
    "test_desc_padded = tokenize_words(test_df['product_description'])\n",
    "test_st_padded = tokenize_words(test_df['search_term'])"
   ]
  },
  {
   "cell_type": "markdown",
   "metadata": {},
   "source": [
    "### b. Create embeddings"
   ]
  },
  {
   "cell_type": "code",
   "execution_count": 93,
   "metadata": {},
   "outputs": [],
   "source": [
    "EMBEDDING_FILE = './GoogleNews-vectors-negative300.bin'\n",
    "\n",
    "if not os.path.isfile(EMBEDDING_FILE):\n",
    "    !wget -c \"https://s3.amazonaws.com/dl4j-distribution/GoogleNews-vectors-negative300.bin.gz\""
   ]
  },
  {
   "cell_type": "code",
   "execution_count": 94,
   "metadata": {},
   "outputs": [
    {
     "name": "stdout",
     "output_type": "stream",
     "text": [
      "gzip: GoogleNews-vectors-negative300.bin.gz: No such file or directory\n"
     ]
    }
   ],
   "source": [
    "!gzip -f -d GoogleNews-vectors-negative300.bin.gz"
   ]
  },
  {
   "cell_type": "code",
   "execution_count": 111,
   "metadata": {},
   "outputs": [],
   "source": [
    "from gensim import models\n",
    "\n",
    "embeddings_index = models.KeyedVectors.load_word2vec_format(EMBEDDING_FILE, binary=True)\n",
    "embed_size = 300\n",
    "word_index = tokenizer.word_index\n",
    "max_features = len(word_index) + 1\n",
    "\n",
    "nb_words = min(len(word_index), len(word_index))\n",
    "embedding_matrix = (np.random.rand(nb_words+1, embed_size) - 0.5) / 5.0\n",
    "for word, i in word_index.items():\n",
    "    if i >= max_features: continue\n",
    "    if word in embeddings_index:\n",
    "        embedding_vector = embeddings_index.get_vector(word)\n",
    "        embedding_matrix[i] = embedding_vector"
   ]
  },
  {
   "cell_type": "markdown",
   "metadata": {},
   "source": [
    "### c. Constructing a Siamese network"
   ]
  },
  {
   "cell_type": "code",
   "execution_count": 112,
   "metadata": {},
   "outputs": [],
   "source": [
    "def init_siamese_model_words(search_term_len, product_description_len, output_shape=1):\n",
    "    input_1 = Input(shape=(search_term_len,))\n",
    "    input_2 = Input(shape=(product_description_len,))\n",
    "    \n",
    "    embd1 = Embedding(max_features, \n",
    "                      embed_size, \n",
    "                      weights=[embedding_matrix],\n",
    "                      input_length=search_term_len,\n",
    "                      name='search_embd')(input_1)\n",
    "    \n",
    "    embd2 = Embedding(max_features,\n",
    "                      embed_size,\n",
    "                      weights=[embedding_matrix],\n",
    "                      input_length=product_description_len,\n",
    "                      name='desc_embd')(input_2)\n",
    "    \n",
    "    lstm_1 = LSTM(128)(embd1)\n",
    "    lstm_2 = LSTM(128)(embd2)\n",
    "    \n",
    "    expand_layer = Lambda(lambda tensor: tensor[...,np.newaxis],name=\"expand_dim_layer\")\n",
    "    \n",
    "    expended_1 = expand_layer(lstm_1)\n",
    "    expended_2 = expand_layer(lstm_2)\n",
    "    \n",
    "    sm = common_model(128)\n",
    "\n",
    "    vector_1 = sm(expended_1)\n",
    "    \n",
    "    vector_2 = sm(expended_2)\n",
    "    \n",
    "    x3 = Subtract()([vector_1, vector_2])\n",
    "    x3 = Multiply()([x3, x3])\n",
    "\n",
    "    x1_ = Multiply()([vector_1, vector_1])\n",
    "    x2_ = Multiply()([vector_2, vector_2])\n",
    "    x4 = Subtract()([x1_, x2_])\n",
    "    \n",
    "    x5 = Lambda(cosine_distance, output_shape=cos_dist_output_shape)([vector_1, vector_2])\n",
    "\n",
    "    conc = Concatenate(axis=-1)([x5,x4, x3])\n",
    "\n",
    "    x = Dense(100, activation=\"relu\")(conc)\n",
    "    x = Dropout(0.01)(x)\n",
    "    out = Dense(output_shape, activation=\"sigmoid\", name = 'out')(x)\n",
    "\n",
    "    model = Model([input_1, input_2], out)\n",
    "    \n",
    "    model.get_layer('search_embd').trainable = False\n",
    "    model.get_layer('desc_embd').trainable = False\n",
    "\n",
    "    model.compile(loss='mse', metrics=['mae', tf.keras.metrics.RootMeanSquaredError(name='rmse')], optimizer=Adam())\n",
    "    \n",
    "    return model"
   ]
  },
  {
   "cell_type": "code",
   "execution_count": 113,
   "metadata": {},
   "outputs": [
    {
     "name": "stdout",
     "output_type": "stream",
     "text": [
      "Model: \"model_7\"\n",
      "__________________________________________________________________________________________________\n",
      "Layer (type)                    Output Shape         Param #     Connected to                     \n",
      "==================================================================================================\n",
      "input_20 (InputLayer)           [(None, 1051)]       0                                            \n",
      "__________________________________________________________________________________________________\n",
      "input_21 (InputLayer)           [(None, 1051)]       0                                            \n",
      "__________________________________________________________________________________________________\n",
      "search_embd (Embedding)         (None, 1051, 300)    18744300    input_20[0][0]                   \n",
      "__________________________________________________________________________________________________\n",
      "desc_embd (Embedding)           (None, 1051, 300)    18744300    input_21[0][0]                   \n",
      "__________________________________________________________________________________________________\n",
      "lstm_12 (LSTM)                  (None, 128)          219648      search_embd[0][0]                \n",
      "__________________________________________________________________________________________________\n",
      "lstm_13 (LSTM)                  (None, 128)          219648      desc_embd[0][0]                  \n",
      "__________________________________________________________________________________________________\n",
      "expand_dim_layer (Lambda)       (None, 128, 1)       0           lstm_12[0][0]                    \n",
      "                                                                 lstm_13[0][0]                    \n",
      "__________________________________________________________________________________________________\n",
      "siamese_model_8 (Model)         (None, 128)          484160      expand_dim_layer[0][0]           \n",
      "                                                                 expand_dim_layer[1][0]           \n",
      "__________________________________________________________________________________________________\n",
      "multiply_19 (Multiply)          (None, 128)          0           siamese_model_8[1][0]            \n",
      "                                                                 siamese_model_8[1][0]            \n",
      "__________________________________________________________________________________________________\n",
      "multiply_20 (Multiply)          (None, 128)          0           siamese_model_8[2][0]            \n",
      "                                                                 siamese_model_8[2][0]            \n",
      "__________________________________________________________________________________________________\n",
      "subtract_12 (Subtract)          (None, 128)          0           siamese_model_8[1][0]            \n",
      "                                                                 siamese_model_8[2][0]            \n",
      "__________________________________________________________________________________________________\n",
      "lambda_6 (Lambda)               (None, 1)            0           siamese_model_8[1][0]            \n",
      "                                                                 siamese_model_8[2][0]            \n",
      "__________________________________________________________________________________________________\n",
      "subtract_13 (Subtract)          (None, 128)          0           multiply_19[0][0]                \n",
      "                                                                 multiply_20[0][0]                \n",
      "__________________________________________________________________________________________________\n",
      "multiply_18 (Multiply)          (None, 128)          0           subtract_12[0][0]                \n",
      "                                                                 subtract_12[0][0]                \n",
      "__________________________________________________________________________________________________\n",
      "concatenate_6 (Concatenate)     (None, 257)          0           lambda_6[0][0]                   \n",
      "                                                                 subtract_13[0][0]                \n",
      "                                                                 multiply_18[0][0]                \n",
      "__________________________________________________________________________________________________\n",
      "dense_14 (Dense)                (None, 100)          25800       concatenate_6[0][0]              \n",
      "__________________________________________________________________________________________________\n",
      "dropout_6 (Dropout)             (None, 100)          0           dense_14[0][0]                   \n",
      "__________________________________________________________________________________________________\n",
      "out (Dense)                     (None, 1)            101         dropout_6[0][0]                  \n",
      "==================================================================================================\n",
      "Total params: 38,437,957\n",
      "Trainable params: 949,357\n",
      "Non-trainable params: 37,488,600\n",
      "__________________________________________________________________________________________________\n"
     ]
    }
   ],
   "source": [
    "init_siamese_model_words(train_st_padded.shape[1],train_desc_padded.shape[1]).summary()"
   ]
  },
  {
   "cell_type": "code",
   "execution_count": 114,
   "metadata": {},
   "outputs": [
    {
     "name": "stdout",
     "output_type": "stream",
     "text": [
      "Epoch 1/20\n",
      "463/463 [==============================] - 84s 182ms/step - loss: 0.0727 - mae: 0.2213 - rmse: 0.2697 - val_loss: 0.0710 - val_mae: 0.2171 - val_rmse: 0.2664 - lr: 0.0010\n",
      "Epoch 2/20\n",
      "463/463 [==============================] - 84s 181ms/step - loss: 0.0716 - mae: 0.2192 - rmse: 0.2675 - val_loss: 0.0710 - val_mae: 0.2185 - val_rmse: 0.2664 - lr: 0.0010\n",
      "Epoch 3/20\n",
      "463/463 [==============================] - 84s 181ms/step - loss: 0.0715 - mae: 0.2192 - rmse: 0.2674 - val_loss: 0.0709 - val_mae: 0.2172 - val_rmse: 0.2664 - lr: 0.0010\n",
      "Epoch 4/20\n",
      "463/463 [==============================] - 84s 181ms/step - loss: 0.0714 - mae: 0.2192 - rmse: 0.2673 - val_loss: 0.0709 - val_mae: 0.2179 - val_rmse: 0.2662 - lr: 0.0010\n",
      "Epoch 5/20\n",
      "463/463 [==============================] - 82s 176ms/step - loss: 0.0715 - mae: 0.2192 - rmse: 0.2673 - val_loss: 0.0709 - val_mae: 0.2181 - val_rmse: 0.2662 - lr: 0.0010\n",
      "Epoch 6/20\n",
      "463/463 [==============================] - 86s 186ms/step - loss: 0.0714 - mae: 0.2192 - rmse: 0.2673 - val_loss: 0.0709 - val_mae: 0.2179 - val_rmse: 0.2662 - lr: 0.0010\n",
      "Epoch 7/20\n",
      "463/463 [==============================] - ETA: 0s - loss: 0.0714 - mae: 0.2192 - rmse: 0.2672\n",
      "Epoch 00007: ReduceLROnPlateau reducing learning rate to 0.0005000000237487257.\n",
      "463/463 [==============================] - 84s 181ms/step - loss: 0.0714 - mae: 0.2192 - rmse: 0.2672 - val_loss: 0.0709 - val_mae: 0.2175 - val_rmse: 0.2662 - lr: 0.0010\n",
      "Epoch 8/20\n",
      "463/463 [==============================] - 84s 182ms/step - loss: 0.0714 - mae: 0.2192 - rmse: 0.2672 - val_loss: 0.0709 - val_mae: 0.2180 - val_rmse: 0.2662 - lr: 5.0000e-04\n",
      "Epoch 9/20\n",
      "463/463 [==============================] - 86s 185ms/step - loss: 0.0714 - mae: 0.2192 - rmse: 0.2672 - val_loss: 0.0709 - val_mae: 0.2178 - val_rmse: 0.2662 - lr: 5.0000e-04\n",
      "Epoch 10/20\n",
      "463/463 [==============================] - ETA: 0s - loss: 0.0714 - mae: 0.2192 - rmse: 0.2673\n",
      "Epoch 00010: ReduceLROnPlateau reducing learning rate to 0.0002500000118743628.\n",
      "463/463 [==============================] - 85s 184ms/step - loss: 0.0714 - mae: 0.2192 - rmse: 0.2673 - val_loss: 0.0709 - val_mae: 0.2177 - val_rmse: 0.2662 - lr: 5.0000e-04\n",
      "Epoch 11/20\n",
      "463/463 [==============================] - 87s 187ms/step - loss: 0.0714 - mae: 0.2192 - rmse: 0.2672 - val_loss: 0.0709 - val_mae: 0.2179 - val_rmse: 0.2662 - lr: 2.5000e-04\n",
      "Epoch 12/20\n",
      "463/463 [==============================] - 84s 181ms/step - loss: 0.0714 - mae: 0.2192 - rmse: 0.2672 - val_loss: 0.0709 - val_mae: 0.2178 - val_rmse: 0.2662 - lr: 2.5000e-04\n",
      "Epoch 13/20\n",
      "463/463 [==============================] - ETA: 0s - loss: 0.0714 - mae: 0.2192 - rmse: 0.2672\n",
      "Epoch 00013: ReduceLROnPlateau reducing learning rate to 0.0001250000059371814.\n",
      "463/463 [==============================] - 85s 183ms/step - loss: 0.0714 - mae: 0.2192 - rmse: 0.2672 - val_loss: 0.0709 - val_mae: 0.2175 - val_rmse: 0.2663 - lr: 2.5000e-04\n",
      "Epoch 14/20\n",
      "463/463 [==============================] - 84s 182ms/step - loss: 0.0714 - mae: 0.2191 - rmse: 0.2672 - val_loss: 0.0709 - val_mae: 0.2180 - val_rmse: 0.2662 - lr: 1.2500e-04\n",
      "Epoch 15/20\n",
      "463/463 [==============================] - 84s 182ms/step - loss: 0.0714 - mae: 0.2192 - rmse: 0.2672 - val_loss: 0.0709 - val_mae: 0.2179 - val_rmse: 0.2662 - lr: 1.2500e-04\n",
      "Epoch 00015: early stopping\n"
     ]
    }
   ],
   "source": [
    "train_data = ((train_st_padded, train_desc_padded), train_y)\n",
    "val_data = ((val_st_padded, val_desc_padded), val_y)\n",
    "start = time.time()\n",
    "word_model, word_history = train_model(init_siamese_model_words, train_data, val_data, use_saved=False)\n",
    "end = time.time()"
   ]
  },
  {
   "cell_type": "code",
   "execution_count": 115,
   "metadata": {},
   "outputs": [
    {
     "data": {
      "image/png": "[encoded data removed]",
      "text/plain": [
       "<Figure size 720x360 with 2 Axes>"
      ]
     },
     "metadata": {
      "needs_background": "light"
     },
     "output_type": "display_data"
    }
   ],
   "source": [
    "visualize_perf(word_history)"
   ]
  },
  {
   "cell_type": "code",
   "execution_count": 116,
   "metadata": {},
   "outputs": [
    {
     "name": "stdout",
     "output_type": "stream",
     "text": [
      "Got MSE of 0.0714 on the train\n",
      "Got MAE of 0.2193 on the train\n",
      "Got RMSE of 0.2672 on the train\n"
     ]
    }
   ],
   "source": [
    "train_mse, train_mae, train_rmse = evaluate_model(word_model, [train_st_padded, train_desc_padded], train_y)\n",
    "\n",
    "print(f'Got MSE of {train_mse:.4f} on the train')\n",
    "print(f'Got MAE of {train_mae:.4f} on the train')\n",
    "print(f'Got RMSE of {train_rmse:.4f} on the train')"
   ]
  },
  {
   "cell_type": "code",
   "execution_count": 117,
   "metadata": {},
   "outputs": [
    {
     "name": "stdout",
     "output_type": "stream",
     "text": [
      "Got MSE of 0.0709 on the val\n",
      "Got MAE of 0.2179 on the val\n",
      "Got RMSE of 0.2662 on the val\n"
     ]
    }
   ],
   "source": [
    "val_mse, val_mae, val_rmse = evaluate_model(word_model, [val_st_padded, val_desc_padded], val_y)\n",
    "\n",
    "print(f'Got MSE of {val_mse:.4f} on the val')\n",
    "print(f'Got MAE of {val_mae:.4f} on the val')\n",
    "print(f'Got RMSE of {val_rmse:.4f} on the val')"
   ]
  },
  {
   "cell_type": "code",
   "execution_count": 118,
   "metadata": {},
   "outputs": [
    {
     "name": "stdout",
     "output_type": "stream",
     "text": [
      "Got MSE of 0.0716 on the test\n",
      "Got MAE of 0.2194 on the test\n",
      "Got RMSE of 0.2676 on the test\n"
     ]
    }
   ],
   "source": [
    "test_mse, test_mae, test_rmse = evaluate_model(word_model, [test_st_padded, test_desc_padded], test_y)\n",
    "\n",
    "print(f'Got MSE of {test_mse:.4f} on the test')\n",
    "print(f'Got MAE of {test_mae:.4f} on the test')\n",
    "print(f'Got RMSE of {test_rmse:.4f} on the test')"
   ]
  },
  {
   "cell_type": "code",
   "execution_count": 119,
   "metadata": {},
   "outputs": [],
   "source": [
    "runtime = end - start\n",
    "\n",
    "results.add_row(['LSTM (word level)', runtime, train_rmse, \n",
    "                 val_rmse, test_rmse, train_mae, val_mae, test_mae])"
   ]
  },
  {
   "cell_type": "markdown",
   "metadata": {},
   "source": [
    "### d. Using our model as a feature extractor"
   ]
  },
  {
   "cell_type": "code",
   "execution_count": 120,
   "metadata": {},
   "outputs": [],
   "source": [
    "fe_word_model = Model(word_model.input, word_model.layers[-3].output)"
   ]
  },
  {
   "cell_type": "code",
   "execution_count": 121,
   "metadata": {},
   "outputs": [],
   "source": [
    "train_features = fe_word_model.predict([train_st_padded, train_desc_padded])\n",
    "val_features = fe_word_model.predict([val_st_padded, val_desc_padded])\n",
    "test_features = fe_word_model.predict([test_desc_padded, test_st_padded])"
   ]
  },
  {
   "cell_type": "code",
   "execution_count": 122,
   "metadata": {},
   "outputs": [
    {
     "name": "stdout",
     "output_type": "stream",
     "text": [
      "training xgb\n",
      "training rfr\n"
     ]
    }
   ],
   "source": [
    "use_saved = False\n",
    "\n",
    "fe_rfr_path = 'models/fe_word_rfr.sav'\n",
    "fe_xgb_path = 'models/fe_word_xgb.sav'\n",
    "\n",
    "if use_saved:\n",
    "    rfr_model = joblib.load(fe_rfr_path)\n",
    "    xgb_model = joblib.load(fe_xgb_path)\n",
    "else:\n",
    "    xgb_model = XGBRegressor(use_label_encoder=False, n_jobs=-1)\n",
    "    rfr_model = RandomForestRegressor(random_state=SEED, verbose=0, n_jobs=-1)\n",
    "\n",
    "    print('training xgb')\n",
    "    start_xgb = time.time()\n",
    "    xgb_model.fit(train_features, train_y)\n",
    "    end_xgb = time.time()\n",
    "    print('training rfr')\n",
    "    start_rfr = time.time()\n",
    "    rfr_model.fit(train_features, train_y)\n",
    "    end_rfr = time.time()\n",
    "\n",
    "    joblib.dump(rfr_model, fe_rfr_path)\n",
    "    joblib.dump(xgb_model, fe_xgb_path)"
   ]
  },
  {
   "cell_type": "markdown",
   "metadata": {},
   "source": [
    "#### Evaluating RandomForest"
   ]
  },
  {
   "cell_type": "code",
   "execution_count": 123,
   "metadata": {},
   "outputs": [],
   "source": [
    "train_features = fe_word_model.predict([train_st_padded, train_desc_padded])\n",
    "val_features = fe_word_model.predict([val_st_padded, val_desc_padded])\n",
    "test_features = fe_word_model.predict([test_desc_padded, test_st_padded])"
   ]
  },
  {
   "cell_type": "code",
   "execution_count": 124,
   "metadata": {},
   "outputs": [
    {
     "name": "stdout",
     "output_type": "stream",
     "text": [
      "Got MSE of 0.0714 on the train\n",
      "Got MAE of 0.2192 on the train\n",
      "Got RMSE of 0.2672 on the train\n"
     ]
    }
   ],
   "source": [
    "train_mse, train_mae, train_rmse = evaluate_model(rfr_model, train_features, train_y)\n",
    "\n",
    "print(f'Got MSE of {train_mse:.4f} on the train')\n",
    "print(f'Got MAE of {train_mae:.4f} on the train')\n",
    "print(f'Got RMSE of {train_rmse:.4f} on the train')"
   ]
  },
  {
   "cell_type": "code",
   "execution_count": 125,
   "metadata": {},
   "outputs": [
    {
     "name": "stdout",
     "output_type": "stream",
     "text": [
      "Got MSE of 0.0709 on the val\n",
      "Got MAE of 0.2178 on the val\n",
      "Got RMSE of 0.2662 on the val\n"
     ]
    }
   ],
   "source": [
    "val_mse, val_mae, val_rmse = evaluate_model(rfr_model, val_features, val_y)\n",
    "\n",
    "print(f'Got MSE of {val_mse:.4f} on the val')\n",
    "print(f'Got MAE of {val_mae:.4f} on the val')\n",
    "print(f'Got RMSE of {val_rmse:.4f} on the val')"
   ]
  },
  {
   "cell_type": "code",
   "execution_count": 126,
   "metadata": {},
   "outputs": [
    {
     "name": "stdout",
     "output_type": "stream",
     "text": [
      "Got MSE of 0.0716 on the test\n",
      "Got MAE of 0.2193 on the test\n",
      "Got RMSE of 0.2676 on the test\n"
     ]
    }
   ],
   "source": [
    "test_mse, test_mae, test_rmse = evaluate_model(rfr_model, test_features, test_y)\n",
    "\n",
    "print(f'Got MSE of {test_mse:.4f} on the test')\n",
    "print(f'Got MAE of {test_mae:.4f} on the test')\n",
    "print(f'Got RMSE of {test_rmse:.4f} on the test')"
   ]
  },
  {
   "cell_type": "code",
   "execution_count": 127,
   "metadata": {},
   "outputs": [],
   "source": [
    "runtime = end_rfr - start_rfr\n",
    "\n",
    "results.add_row(['Random Forest (word LSTM Features)', runtime, train_rmse, \n",
    "                 val_rmse, test_rmse, train_mae, val_mae, test_mae])"
   ]
  },
  {
   "cell_type": "markdown",
   "metadata": {},
   "source": [
    "#### Evaluating XGBoost"
   ]
  },
  {
   "cell_type": "code",
   "execution_count": 128,
   "metadata": {},
   "outputs": [
    {
     "name": "stdout",
     "output_type": "stream",
     "text": [
      "Got MSE of 0.0708 on the train\n",
      "Got MAE of 0.2180 on the train\n",
      "Got RMSE of 0.2661 on the train\n"
     ]
    }
   ],
   "source": [
    "train_mse, train_mae, train_rmse = evaluate_model(xgb_model, train_features, train_y)\n",
    "\n",
    "print(f'Got MSE of {train_mse:.4f} on the train')\n",
    "print(f'Got MAE of {train_mae:.4f} on the train')\n",
    "print(f'Got RMSE of {train_rmse:.4f} on the train')"
   ]
  },
  {
   "cell_type": "code",
   "execution_count": 129,
   "metadata": {},
   "outputs": [
    {
     "name": "stdout",
     "output_type": "stream",
     "text": [
      "Got MSE of 0.0712 on the val\n",
      "Got MAE of 0.2181 on the val\n",
      "Got RMSE of 0.2668 on the val\n"
     ]
    }
   ],
   "source": [
    "val_mse, val_mae, val_rmse = evaluate_model(xgb_model, val_features, val_y)\n",
    "\n",
    "print(f'Got MSE of {val_mse:.4f} on the val')\n",
    "print(f'Got MAE of {val_mae:.4f} on the val')\n",
    "print(f'Got RMSE of {val_rmse:.4f} on the val')"
   ]
  },
  {
   "cell_type": "code",
   "execution_count": 130,
   "metadata": {},
   "outputs": [
    {
     "name": "stdout",
     "output_type": "stream",
     "text": [
      "Got MSE of 0.0720 on the test\n",
      "Got MAE of 0.2196 on the test\n",
      "Got RMSE of 0.2684 on the test\n"
     ]
    }
   ],
   "source": [
    "test_mse, test_mae, test_rmse = evaluate_model(xgb_model, test_features, test_y)\n",
    "\n",
    "print(f'Got MSE of {test_mse:.4f} on the test')\n",
    "print(f'Got MAE of {test_mae:.4f} on the test')\n",
    "print(f'Got RMSE of {test_rmse:.4f} on the test')"
   ]
  },
  {
   "cell_type": "code",
   "execution_count": 131,
   "metadata": {},
   "outputs": [],
   "source": [
    "runtime = end_xgb - start_xgb\n",
    "\n",
    "results.add_row(['XGBoost (word LSTM Features)', runtime, train_rmse, \n",
    "                 val_rmse, test_rmse, train_mae, val_mae, test_mae])"
   ]
  },
  {
   "cell_type": "markdown",
   "metadata": {},
   "source": [
    "# 3. Comparison of Results"
   ]
  },
  {
   "cell_type": "markdown",
   "metadata": {},
   "source": [
    "Let's now review the results we've collected thorughout this assignment and discuss them."
   ]
  },
  {
   "cell_type": "code",
   "execution_count": 132,
   "metadata": {},
   "outputs": [
    {
     "name": "stdout",
     "output_type": "stream",
     "text": [
      "+-----------------------------------------+-----------+------------+----------+-----------+-----------+---------+----------+\n",
      "|                Model type               |  Runtime  | Train RMSE | Val-RMSE | Test-RMSE | Train MAE | Val-MAE | Test-MAE |\n",
      "+-----------------------------------------+-----------+------------+----------+-----------+-----------+---------+----------+\n",
      "|          LSTM (character level)         |  257.0069 |   0.2643   |  0.2635  |   0.2654  |   0.2153  |  0.2142 |  0.2158  |\n",
      "+-----------------------------------------+-----------+------------+----------+-----------+-----------+---------+----------+\n",
      "|       Naïve benchmark (section 1c)      |  64.6946  |   0.0937   |  0.2473  |   0.2615  |   0.0754  |  0.2011 |  0.2138  |\n",
      "+-----------------------------------------+-----------+------------+----------+-----------+-----------+---------+----------+\n",
      "| Random Forest (character LSTM Features) |  171.5378 |   0.1720   |  0.2507  |   0.2862  |   0.1307  |  0.1975 |  0.2297  |\n",
      "+-----------------------------------------+-----------+------------+----------+-----------+-----------+---------+----------+\n",
      "|    XGBoost (character LSTM Features)    |  23.2516  |   0.2413   |  0.2559  |   0.2667  |   0.1965  |  0.2088 |  0.2178  |\n",
      "+-----------------------------------------+-----------+------------+----------+-----------+-----------+---------+----------+\n",
      "|            LSTM (word level)            | 1276.4017 |   0.2672   |  0.2662  |   0.2676  |   0.2193  |  0.2179 |  0.2194  |\n",
      "+-----------------------------------------+-----------+------------+----------+-----------+-----------+---------+----------+\n",
      "|    Random Forest (word LSTM Features)   |   1.6153  |   0.2672   |  0.2662  |   0.2676  |   0.2192  |  0.2178 |  0.2193  |\n",
      "+-----------------------------------------+-----------+------------+----------+-----------+-----------+---------+----------+\n",
      "|       XGBoost (word LSTM Features)      |  28.6740  |   0.2661   |  0.2668  |   0.2684  |   0.2180  |  0.2181 |  0.2196  |\n",
      "+-----------------------------------------+-----------+------------+----------+-----------+-----------+---------+----------+\n"
     ]
    }
   ],
   "source": [
    "print(results)"
   ]
  },
  {
   "cell_type": "code",
   "execution_count": 160,
   "metadata": {},
   "outputs": [],
   "source": [
    "def plot_compare(hs, tvs, names):\n",
    "    epochs = len(hs[0]['rmse'])\n",
    "    for h in hs[1:]:\n",
    "        epochs = max(epochs, len(h['rmse']))\n",
    "    for h in hs:\n",
    "        dif = epochs - len(h['rmse'])\n",
    "        if dif:\n",
    "            for k in h:\n",
    "                h[k] = h[k] + h[k][-1:]*dif\n",
    "    \n",
    "    fig, ax = plt.subplots(ncols=4, figsize=(4*4,8))\n",
    "    symbols = [None]*len(names)\n",
    "    i = 0\n",
    "    \n",
    "    for h in hs:\n",
    "        symbols[i] = ax[0].plot(h['rmse'])[0]\n",
    "        ax[1].plot(h['mae'])\n",
    "        ax[2].plot(h['val_rmse'])\n",
    "        ax[3].plot(h['val_mae'])\n",
    "        i+=1\n",
    "        \n",
    "    for tv in tvs:\n",
    "        symbols[i] = ax[0].plot([tv[0]]*epochs)[0]\n",
    "        ax[1].plot([tv[1]]*epochs)\n",
    "        ax[2].plot([tv[2]]*epochs)\n",
    "        ax[3].plot([tv[3]]*epochs)\n",
    "        i+=1\n",
    "        \n",
    "    ax[0].set_title('train_rmse')\n",
    "    ax[1].set_title('train_mae')\n",
    "    ax[2].set_title('val_rmse')\n",
    "    ax[3].set_title('val_mae')\n",
    "\n",
    "    \n",
    "    fig.legend(symbols, names, bbox_to_anchor=(0.3, 1.1))"
   ]
  },
  {
   "cell_type": "code",
   "execution_count": 161,
   "metadata": {},
   "outputs": [],
   "source": [
    "import json\n",
    "dicts = json.loads(results.get_json_string())[2:]\n",
    "dicts = [d for d in dicts if d != 'LSTM (word level)']\n",
    "\n",
    "histories = [char_history, word_history]\n",
    "train_vals = [(d['Train RMSE'], d['Train MAE'], d['Val-RMSE'], d['Val-MAE']) for d in dicts]\n",
    "names = ['LSTM (character level)', 'LSTM (word level)'] + [d['Model type'] for d in dicts]"
   ]
  },
  {
   "cell_type": "code",
   "execution_count": 162,
   "metadata": {},
   "outputs": [
    {
     "data": {
      "image/png": "[encoded data removed]",
      "text/plain": [
       "<Figure size 1152x576 with 4 Axes>"
      ]
     },
     "metadata": {
      "needs_background": "light"
     },
     "output_type": "display_data"
    }
   ],
   "source": [
    "plot_compare(histories, train_vals, names)"
   ]
  },
  {
   "cell_type": "markdown",
   "metadata": {},
   "source": [
    "# 4. Final Report"
   ]
  },
  {
   "cell_type": "code",
   "execution_count": null,
   "metadata": {},
   "outputs": [],
   "source": []
  }
 ],
 "metadata": {
  "kernelspec": {
   "display_name": "Python (tf-env)",
   "language": "python",
   "name": "tf-env"
  },
  "language_info": {
   "codemirror_mode": {
    "name": "ipython",
    "version": 3
   },
   "file_extension": ".py",
   "mimetype": "text/x-python",
   "name": "python",
   "nbconvert_exporter": "python",
   "pygments_lexer": "ipython3",
   "version": "3.8.6"
  }
 },
 "nbformat": 4,
 "nbformat_minor": 4
}
